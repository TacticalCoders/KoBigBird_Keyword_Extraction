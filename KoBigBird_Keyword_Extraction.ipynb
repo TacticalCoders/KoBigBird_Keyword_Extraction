{
 "cells": [
  {
   "cell_type": "markdown",
   "metadata": {},
   "source": [
    "# KoBigBird Keyword Extraction\n",
    "\n",
    "sts 파인 튜인을 한 KoBigBird 모델로 글의 핵심 키워드를 추출하는 모델을 학습니다.\n",
    "\n",
    "여기서 핵심 키워드란 전체 글의 내용을 대표하는 키워드를 말합니다. \n",
    "\n",
    "또한 글의 제목의 내용도 참고합니다. 글의 제목은 글을 한 문장으로 요약한 것이라고 볼 수 있기 때문에 글의 본문 내용뿐만 아니라 글의 제목도 키워드 추출에 사용합니다.\n",
    "\n",
    "키워드 추출 과정은 다음과 같습니다.\n",
    "\n",
    "1. 본문 텍스트를 형태소 분석하여 명사/명사구를 추출한다. 이 단어들은 후보 키워드들이 된다.\n",
    "2. 불용어 사전을 통해 후보 키워드를 정제한다.\n",
    "3. fine-tuning 한 KoBigBird 모델을 통해 각 후보 키워드들의 표현 벡터를 구한다.\n",
    "4. fine-tuning 한 KoBigBird 모델을 통해 글의 제목과 본문의 표현도 구한다.\n",
    "5. 글의 제목 벡터와 본문의 표현을 element weighted sum을 한다.\n",
    "6. 각 후보 키워드들의 벡터와 글의 제목과 본문의 weighted sum을 한 벡터의 유사도를 계산한다.\n",
    "7. 가장 유사도가 높은 상위 k의 키워드를 추출한다."
   ]
  },
  {
   "cell_type": "markdown",
   "metadata": {},
   "source": [
    "## 본문 키워드 형태소 분석하여 후보 키워드 추출하기\n",
    "\n",
    "형태소 분석기 komoran을 사용하기 위해 konlpy 설치"
   ]
  },
  {
   "cell_type": "markdown",
   "metadata": {},
   "source": [
    "## 불용어(stopwords) 사전 정의\n",
    "\n",
    "두 개의 한국어 불용어 사전을 이용"
   ]
  },
  {
   "cell_type": "code",
   "execution_count": 1,
   "metadata": {},
   "outputs": [
    {
     "name": "stdout",
     "output_type": "stream",
     "text": [
      "{'어떤것들', '이와 같은', '!', '으로써', '한적이있다', '비로소', '줄은 몰랏다', '뿐만 아니라', '＜', '위에서 서술한바와같이', '앞에서', '즈음하여', '다음에', '게다가', '조금', '하게될것이다', '그런 까닭에', '<', '그럼에도 불구하고', '무렵', '［', '지든지', '차라리', '에 대해', '구', '기대여', '영차', '즉', '않기 위하여', '오직', '하는것만 못하다', '향하다', '함께', '어이', '허걱', '-', '집', '끙끙', '어쨋든', '이천구', '중에서', '막론하고', '^', '일것이다', '《', '제각기', '진짜로', '그러', '심지어', '말하', '이리하여', '누가 알겠는가', '그렇지', '곧', '하자마자', '｜', '로써', '1', '바꾸어말하면', '공동으로', '타인', '과연', '２', '9', '만들', '중', '하마터면', '하지 않는다면', '바꾸어서 말하면', '0', '아야', '그치지 않다', '그들', '휴', '잇따라', '어느쪽', '령', '관계없이', '을', '주', '두', '탕탕', '솨', '”', '정도에 이르다', '논하지 않다', '바꾸어서 한다면', '고려하면', '졸졸', '이봐', '좋아', '전', '주저하지 않고', '통하여', '칠', '야', '?', '반대로', '이 밖에', '하도록시키다', '연이서', '쾅쾅', '않기 위해서', '잘', '시간', '우에 종합한것과같이', '얼마큼', '형식으로 쓰여', '각', '매번', '쿵', '그녀', '어느해', '훨씬', '하면된다', '대하', '오히려', '같', '비하면', '그래', '즉시', '이천육', '자기집', '무엇때문에', '알았어', '할만하다', '소리', '이와 같다', '각각', '관계가 있다', '향하여', '한', '이용하여', '누구', '@', '하지마', '보는데서', '펄렁', '１', '다시말하면', '일단', '와르르', '&', '마치', '습니다', '그리고', '못하', '또한', '——', '그만이다', '어떻게', '하여금', '이', '그렇지만', '）', '실로', '혹시', '응', '일반적으로', '|', '오자마자', '게우다', '딱', '우리', '하고있었다', '한 까닭에', '、', \"'\", '지만', '하려고하다', '어찌', '아이', '도착하다', '그에 따르는', '든간에', '줄은모른다', '앞', '다른 방면으로', '매', '입장에서', '해봐요', '하고 있다', '》', '아니었다면', '비록', '이와같다면', '끼익', '이럴정도로', '뿐이다', '다음으로', '만큼', '해도된다', '＃', '그러므로', '단지', '와', '그런', '과', '내', '당신', '오로지', '것', '어', '알', '결론을 낼 수 있다', '근거로', '인젠', '좍좍', '따라서', '무슨', '７', '5', '그위에', '+', '당장', '받', '4', '어찌됏어', '만약에', '아니', '퉤', '한 이유는', '겨우', '습니까', '것들', '그때', '＊', '여섯', '％', '저것만큼', '아니나다를가', '혹은', '또', '하구나', '넷', '만 못하다', '월', '두번째로', '여보시오', '개의치않고', '거바', '비길수 없다', '%', '의거하여', '크', '？', '했어요', '아무거나', '어느', '콸콸', '붕붕', '할 줄 안다', '얼마든지', '하는 김에', '2', '예를 들자면', '일지라도', '자기', '고로', '＄', '혼자', '５', '이 되다', '４', '3', '않', '이천칠', '다시', '하면 할수록', '하기에', '오르다', '어떠한', '소인', '아이쿠', '중의하나', '어째서', '더군다나', '놀라다', '쉿', '할 힘이 있다', '여차', '앗', '툭', '하는것이 낫다', '그러한즉', ')', '예', '보', '각종', '︿', '설마', '팍', '드', '견지에서', '까지 미치다', '본대로', '해도좋다', '_', '｛', '설령', '이쪽', '뿐만아니라', '삐걱', '자신', '다른', '것과 같이', '때문에', '하더라도', '〈', '일때', '어쩔수 없다', '전후', '문제', '하겠는가', '하는바', '제', '해서는 안된다', '외에도', '잠깐', '전부', '한항목', '…', '대로 하다', '예하면', '점', '대해서', '뒤따라', '좀', '버금', '된이상', '다음', '살', '관하여', '.', '년', '하게하다', '더라도', '삐걱거리다', '에 달려 있다', '이번', '까악', '소생', '그래도', '에 한하다', '어느곳', '마저도', '어디', '할 지경이다', '그', '등등', '여러분', '할줄알다', '하나', '같이', '어떤것', '나오', '３', '있', '어찌하여', '할망정', '６', '위하', '좋', '다만', '흐흐', '및', '이젠', '양자', '으로 인하여', '헉헉', '그러니까', '봐', '바와같이', '조차', '하', '만일', '허', '갖고말하자면', '이때', '첫번째로', '뒤이어', '향해서', '헉', '...', '０', '어떤', '리', '`', '시키', '많', '주룩주룩', '할수있어', '그렇지 않다면', '그렇게 함으로써', '같다', '부터', '할수있다', '해요', '임에 틀림없다', '할 따름이다', '나', '삼', '아니라면', '아무도', '팔', '까닭으로', '메쓰겁다', '관해서는', '하기보다는', '이렇게 많은 것', '싶', '더욱이는', '생각한대로', '동안', '그저', '타다', '둘', '하면서', '가', '따라', '만은 아니다', '비추어 보아', '하느니', '안 그러면', '￥', '그러면', '기타', '하지마라', '속', '저희', '각자', '이외에도', '여부', '상대적으로 말하자면', '점에서 보아', '이런', '퍽', '이라면', '봐라', '에 있다', '아래윗', '나머지는', '아', '총적으로 말하면', '뚝뚝', '로 인하여', '수', '얼마간', '옆사람', '저', '오호', '때문', '딩동', '그렇지않으면', '마저', '답다', '만약', '응당', '따위', '하기만 하면', '＆', '관련이 있다', '바꾸어말하자면', '도달하다', '제외하고', '를', '결과에 이르다', '근거하여', '경우', '연관되다', '시키다', '모두', '하기 때문에', '\"', '여자', '쳇', '：', '까지도', '동시에', '입각하여', '참나', '다소', '다시 말하자면', '이만큼', '없', '허허', '때', ';', '으로서', '힘입어', '대하여', '어때', '전자', '모', '아이구', '인 듯하다', '생각하', '안', '(', '다섯', '꽈당', '번', '할때', '너희', '아이야', '까지', '반드시', '라 해도', '의', '요만한걸', '우선', '어떻해', '*', '때가 되어', '알 수 있다', '되', '오', '（', '물론', '하는 편이 낫다', '요만큼', '보드득', '부류의 사람들', '$', '그것', '비걱거리다', '무릎쓰고', '총적으로 보면', '하기 위하여', '“', '，', '데', '하하', '·', '의해', '비슷하다', '하지만', '할지라도', '다수', '한켠으로는', '그럼', '기점으로', '자', '말하자면', '아울러', '９', '에게', '육', '기준으로', '엉엉', '하도록하다', '한 후', '결국', '모르', '아홉', '＠', '사람', '대해 말하자면', '잠시', '보다더', '앞의것', '명', '겸사겸사', '그런데', '개', '=', '어떻', '언젠가', '이러이러하다', '남들', '저기', '원', '으로', '8', '사회', '의지하여', '7', '된바에야', '등', '시작하여', '어찌하든지', '토하다', '총적으로', '의해서', '따르', '조차도', '이었다', '］', '바로', '어느것', '요만한 것', '우르르', '거니와', '자마자', '이지만', '있다', '시각', '~', '따지지 않다', '일곱', '윙윙', '이래', '여기', '그중에서', '말할것도 없고', '생각', '이렇게되면', '놓', '로부터', '헐떡헐떡', '하도다', '가까스로', '왜냐하면', '이렇게말하자면', '이르기까지', '구토하다', '얼마 안 되는 것', '하물며', '아이고', '에', '＋', '너희들', '적', '거의', '통하', '운운', '마음대로', '더구나', '이상', '이렇', '사', '영', '이 때문에', '한데', '아니면', '에 가서', '한마디', '말', '이와 반대로', '가지', '이유만으로', '지말고', '이러한', '～', '어기여차', '>', '！', '왜', '구체적으로', '그러나', '여전히', '쪽으로', '여덟', '할지언정', '우리들', '불구하고', '남짓', '얼마', '이로 인하여', '비교적', '하여야', '하기는한데', '6', '이 정도의', '바꿔 말하면', '륙', '일', '로', '예를 들면', ',', '〉', '해야한다', '더', '언제', '들', '’', '와아', '의해되다', '。', '만이 아니다', '위하여', '대하면', '더욱더', '할뿐', '씨', '무엇', '이렇구나', '하지 않도록', '에서', '몇', '요컨대', '너', '사실', '저것', '와 같은 사람들', '이 외에', '가령', '둥둥', '저쪽', '어찌됏든', '네', '설사', '지금', '그렇지 않으면', '한다면', '아하', '그렇', '셋', '그런즉', '보이', '밖에 안된다', '이천팔', '이곳', '위해서', '댕그', '그리하여', '얼마나', '하든지', '그러니', '하는것도', '틈타', '할 생각이다', '휘익', '‘', '여', '예컨대', '８', '참', '시초에', '하곤하였다', '흥', '관한', '지', '；', '정도', '더불어', '한다면 몰라도', '어느 년도', '｝', '어느때', '이어서', '이것', '＞', '불문하고', '얼마만큼', '—', '\\\\', '반대로 말하자면', '그래서', '약간'}\n"
     ]
    }
   ],
   "source": [
    "import csv\n",
    "\n",
    "stopwords = []\n",
    "with open('./data/stopwords/stopwords.txt', 'r') as f:\n",
    "    for line in f:\n",
    "        stopwords.append(line.rstrip('\\n'))\n",
    "\n",
    "with open('./data/stopwords/stopwords-ko.txt', 'r') as f:\n",
    "    for line in f:\n",
    "        stopwords.append(line.rstrip('\\n'))\n",
    "        \n",
    "with open('./data/stopwords/stopwords-np.txt', 'r') as f:\n",
    "    tsv_file = csv.reader(f, delimiter=\"\\t\")\n",
    "    for line in tsv_file:\n",
    "        stopwords.append(line[0])\n",
    "\n",
    "stopwords_set = set(stopwords)\n",
    "print(stopwords_set)"
   ]
  },
  {
   "cell_type": "markdown",
   "metadata": {},
   "source": [
    "브런치 샘플 데이터 불러오기"
   ]
  },
  {
   "cell_type": "markdown",
   "metadata": {},
   "source": [
    "### 불용어 제거 함수"
   ]
  },
  {
   "cell_type": "code",
   "execution_count": 2,
   "metadata": {},
   "outputs": [],
   "source": [
    "def remove_stopwords(nouns, stopwords):\n",
    "    for n in nouns:\n",
    "        if n in stopwords:\n",
    "            nouns.remove(n)\n",
    "    return nouns"
   ]
  },
  {
   "cell_type": "markdown",
   "metadata": {},
   "source": [
    "### 영어 단어 명사 추출 함수"
   ]
  },
  {
   "cell_type": "code",
   "execution_count": 3,
   "metadata": {},
   "outputs": [],
   "source": [
    "import nltk\n",
    "from nltk.corpus import stopwords\n",
    "from string import punctuation\n",
    "\n",
    "def get_nouns_eng(text):\n",
    "\n",
    "    text = text.encode('utf-8').decode('ascii', 'ignore')\n",
    "\n",
    "    result = \"\"\n",
    "    for t in text:\n",
    "        if t not in punctuation:\n",
    "            result += t\n",
    "\n",
    "    text = result.strip()\n",
    "\n",
    "    word_tokens = nltk.word_tokenize(text)\n",
    "    tokens_pos = nltk.pos_tag(word_tokens)\n",
    "    NN_words = []\n",
    "    for word, pos in tokens_pos:\n",
    "        if 'NN' in pos or 'NNP' in pos:\n",
    "            NN_words.append(word)\n",
    "    NN_words = set(NN_words)\n",
    "    NN_words = list(NN_words)\n",
    "    return NN_words"
   ]
  },
  {
   "cell_type": "markdown",
   "metadata": {},
   "source": [
    "### 각 형태소 분석기별 명사 추출 함수\n",
    "\n",
    "형태소 분석을 통해 명사 추출, 불용어 제거, 영어 단어 추출하는 함수"
   ]
  },
  {
   "cell_type": "code",
   "execution_count": 6,
   "metadata": {},
   "outputs": [],
   "source": [
    "from konlpy.tag import Komoran\n",
    "from konlpy.tag import Kkma\n",
    "from konlpy.tag import Okt\n",
    "\n",
    "def get_nouns_komoran(text):\n",
    "    komoran = Komoran()\n",
    "    nouns = komoran.nouns(text)\n",
    "    nouns = remove_stopwords(nouns, stopwords_set)\n",
    "    nouns = [ n for n in nouns if len(n) != 1 ]\n",
    "    nouns = set(nouns)\n",
    "    nouns = list(nouns)\n",
    "    eng_nouns = get_nouns_eng(text)\n",
    "    nouns.extend(eng_nouns)\n",
    "    \n",
    "    return nouns\n",
    "\n",
    "def get_nouns_kkma(text):\n",
    "    kkma = Kkma()\n",
    "    nouns = kkma.nouns(text)\n",
    "    nuons = remove_stopwords(nouns, stopwords_set)\n",
    "    nouns = [ n for n in nouns if len(n) != 1 ]\n",
    "    nouns = set(nouns)\n",
    "    nouns = list(nouns)\n",
    "    eng_nouns = get_nouns_eng(text)\n",
    "    nouns.extend(eng_nouns)\n",
    "    return nouns\n",
    "\n",
    "def get_nouns_okt(text):\n",
    "    okt = Okt()\n",
    "    nouns = okt.nouns(text)\n",
    "    nuons = remove_stopwords(nouns, stopwords_set)\n",
    "    nouns = [ n for n in nouns if len(n) != 1 ]\n",
    "    nouns = set(nouns)\n",
    "    nouns = list(nouns)\n",
    "    eng_nouns = get_nouns_eng(text)\n",
    "    nouns.extend(eng_nouns)\n",
    "    \n",
    "    return nouns"
   ]
  },
  {
   "cell_type": "code",
   "execution_count": 7,
   "metadata": {},
   "outputs": [],
   "source": [
    "# sample_nouns = get_nouns_komoran(sample[1]['body_text'])\n",
    "# print(sample[1]['title'])\n",
    "# print(sample[1]['body_text']+'\\n')\n",
    "# print(sample_nouns)"
   ]
  },
  {
   "cell_type": "markdown",
   "metadata": {},
   "source": [
    "### KoBigBird 모델 불러오기"
   ]
  },
  {
   "cell_type": "code",
   "execution_count": 8,
   "metadata": {
    "scrolled": false
   },
   "outputs": [
    {
     "name": "stderr",
     "output_type": "stream",
     "text": [
      "/home/user03/anaconda3/envs/koelectra/lib/python3.9/site-packages/tqdm/auto.py:22: TqdmWarning: IProgress not found. Please update jupyter and ipywidgets. See https://ipywidgets.readthedocs.io/en/stable/user_install.html\n",
      "  from .autonotebook import tqdm as notebook_tqdm\n",
      "Some weights of BigBirdModel were not initialized from the model checkpoint at ./model/saved_model_epoch_19.pt and are newly initialized: ['pooler.bias', 'pooler.weight']\n",
      "You should probably TRAIN this model on a down-stream task to be able to use it for predictions and inference.\n"
     ]
    }
   ],
   "source": [
    "from transformers import  AutoModel,AutoTokenizer\n",
    "model = AutoModel.from_pretrained(\"./model/saved_model_epoch_19.pt\")\n",
    "tokenizer = AutoTokenizer.from_pretrained(\"monologg/kobigbird-bert-base\")"
   ]
  },
  {
   "cell_type": "markdown",
   "metadata": {},
   "source": [
    "### 데이터 불러오기"
   ]
  },
  {
   "cell_type": "code",
   "execution_count": 76,
   "metadata": {},
   "outputs": [],
   "source": [
    "import jsonlines\n",
    "\n",
    "sample = []\n",
    "\n",
    "with jsonlines.open(\"./data/brunch/brunch_dataset_sample.jsonl\") as f:\n",
    "    for line in f.iter():\n",
    "        sample.append(line)"
   ]
  },
  {
   "cell_type": "code",
   "execution_count": 43,
   "metadata": {},
   "outputs": [],
   "source": [
    "import torch\n",
    "import torch.nn as nn\n",
    "\n",
    "device = \"cuda\" if torch.cuda.is_available() else \"cpu\""
   ]
  },
  {
   "cell_type": "markdown",
   "metadata": {},
   "source": [
    "## 최종 키워드 추출 함수"
   ]
  },
  {
   "cell_type": "code",
   "execution_count": 58,
   "metadata": {},
   "outputs": [],
   "source": [
    "def extract_main_keywords(nouns, title, text, model, tokenizer):\n",
    "    \n",
    "    tokenized_nouns = {}\n",
    "    for keyword in nouns:\n",
    "        tokenized_nouns[keyword] = tokenizer(keyword, max_length=32, padding='max_length', return_tensors='pt')\n",
    "    \n",
    "    keyword_vectors = {}\n",
    "    for keyword, tokenized in tokenized_nouns.items():\n",
    "        output = model(**tokenized.to(device))[0][:,0,:]\n",
    "        keyword_vectors[keyword] = output\n",
    "        \n",
    "    tokenized_title = tokenizer(title, max_length=128, padding=\"max_length\", return_tensors='pt')\n",
    "    tokenized_text = tokenizer(text, max_length=4096, padding=\"max_length\", return_tensors='pt')\n",
    "\n",
    "    title_vec = model(**tokenized_title.to(device))[0][:,0,:]\n",
    "    body_text_vec = model(**tokenized_text.to(device))[0][:,0,:]\n",
    "    \n",
    "    cos = nn.CosineSimilarity(dim=1, eps=1e-6)\n",
    "    similarity = {}\n",
    "\n",
    "    for keyword, vector in keyword_vectors.items():\n",
    "        sim = cos(vector,  title_vec*(0.7) + body_text_vec*(0.3))\n",
    "        similarity[keyword] = sim\n",
    "        \n",
    "    sorted_dict = sorted(similarity.items(), key = lambda item: item[1], reverse = True)\n",
    "    \n",
    "    # print(keyword_vectors)\n",
    "    print(f\"제목과 본문의 유사도 {cos(title_vec, body_text_vec)}\\n\")\n",
    "    print(title+'\\n')\n",
    "    print(text+'\\n')\n",
    "    print(sorted_dict,'\\n')\n",
    "    print(nouns)"
   ]
  },
  {
   "cell_type": "code",
   "execution_count": 77,
   "metadata": {
    "scrolled": false
   },
   "outputs": [
    {
     "name": "stdout",
     "output_type": "stream",
     "text": [
      "['AI', '인공지능', '챗봇']\n",
      "제목과 본문의 유사도 tensor([0.7911], device='cuda:0')\n",
      "\n",
      "AI로 이미지 만들기 (매우 쉬움)\n",
      "\n",
      "요즘 AI로 인터넷이 난리도 아니다. 특히 챗GPT. OpenAI사에서 신규로 론칭한 AI 챗봇 프로그램인데 기세가 심상치 않다. 뼛속까지 문과인 나조차 AI분야에 관심을 갖게 만드는 공상과학과 유사한 엄청난 기술을 자랑한다. 프로토타입인 데다 트래픽이 많아 직접 사용해보진 못했으나 링크드인이나 유튜브를 통해 챗GPT의 능력을 쉽게 접할 수 있다. \"언어\"로 가능한 모든 영역을 수행할 수 있을뿐더러 코딩까지 대신 써준다. 예를 들어, 천만 관객용 영화의 플롯과 인물 구성을 써달라고 요청하면 몇 분 내로 완벽한 플롯과 인물 구성을 내놓는다. 뉴스 기사, 시나리오, 산문, 시, 소네트, 심지어는 마케팅 전략까지 써준다. 인터넷에 업로드되어 있는 무한에 가까운 정보 풀과 고도화된 머신러닝의 결합물이라고 볼 수 있다. 어떤 질문에도 답을 내놓아 구글을 대체할 것이라는 목소리도 나온다. 구글은 사용자가 직접 정보를 모아 분석해서 답을 도출해야 하지만 챗GPT는 중간 과정을 생략하고 질문 하나로 바로 해답에 다다를 수 있게 해 준다. 잠재력을 인정받아 마이크로소프트로부터 막대한 투자를 여러 차례 받고 있기도 하다. (1월 24일 기준 1조 원 넘게 투자한 것으로 밝혀졌다.) 해당 프로그램에 대한 정보를 찾다 보면 놀라움의 연속이 아닐 수 없다. 하지만 걷잡을 수 없이 빠르게 진화하는 기술로 인한 불안과 공포도 분명 존재한다. 확실한 건 인류가 수십 년간 그려왔던 미래가 껑충 앞으로 다가와 더 선명해졌다는 것이다. AI의 세계에 몇 시간 정신을 팔다 보면 실제로 미래에 와 있다는 생각이 들 정도다. 최근 ChatGPT의 인기로 인해 나의 감각도 AI를 향해 뻗어있다. 그래서 그런지, AI관련 기술에 대한 기사나 SNS 포스팅, 유튜브 영상을 많이 찾아보는 요즘이다. (알고리즘에 의해 의도적으로 노출되고 있는 거겠지만.) 그러던 중 며칠 전 한 링크드인 포스팅에서 또 다른 AI툴을 발견했다. 툴의 이름은 바로 Midjourney, 이미지를 만들어주는 프로그램이다. 구글 서칭 후 미드저니 웹사이트로 들어가 사용법을 익힌 후 몇 가지 명령을 시도해 보았다. 먼저, 사용안내에 따라 미드저니의 디스코드 채널에 접속해 회원가입을 한 후 초청을 받는다. 그다음 접속자들의 놀이터 같은 형식의 세부 채널로 들어가 채팅창에 이미지 생성 명령을 내린다. 사용료는 없다. /imagine prompt [        ] [        ] 안에 생성하고 싶은 이미지의 \"요소\"를 영어로 입력하면 된다. 먼저 친구의 학교 과제를 도와줘 보기로 했다. 조형물, 핑크색, 부드러운 질감, 나무를 입력해 보았다.단 몇 초 만에 위 네 개의 이미지를 생성해 냈다. 포함시킨 요소가 모두 적용된 것을 볼 수 있다. 하나의 이미지만 생성하는 것이 아니라 한 번에 네 개의 옵션 이미지를 내놓으며 마음에 들거나 변형시키고픈 이미지가 있으면 하나를 골라 추가 명령을 내릴 수 있다. 추가 명령은 두 가지로, \"업그레이드\"를 선택하면 해상도나 퀄리티를 높일 수 있고 \"변형\"을 선택하면 전체적인 느낌은 같으나 추가적인 요소를 덧붙일 수 있다. 다음으로는, 이유는 모르겠으나 아래와 같은 특징을 입력해 보았다. 젊은 남교수, 화창한 오후, 책상에 착석, 책장, 운동한 몸, 짧은 머리, 카메라 응시, 하얀 티셔츠, 태닝 된 피부....이번에도 1분도 걸리지 않아 네 가지 옵션의 이미지를 생성해 주었다. 너무 현실감이 있어 이미지라기보다는 \"사진\"에 가까울 정도다. (특히, 오른쪽 상단 옵션의 경우)한번 이미지 생성 후 네 개중 하나를 선택해 업그레이드도 시켜보았다. 입력 값: 젊은 나이의 형제, 오랜만의 만남, 동생보다 살짝 작은 형, 웃음 가득한 얼굴, 겨울, 캐나다 배경아주 훈훈한 형제를 만들어 줬다.시간 가는 줄 모르고 10번도 넘게 시도해 보니 약간의 노하우가 생겼다. \"리얼리스틱하게\", \"4K\", \"8K\" 등 퀄리티를 높이는 입력 값을 포함하면 더욱 사실적인 결과물을 얻을 수 있다. 다른 접속자들의 명령어도 실시간으로 모니터 할 수 있어 참고가 가능하다. 예를 들어, 어떤 사람은 카메라의 모델, 렌즈 두께, 조명 효과까지 세세히 입력하고 있었다. 최대한 구체적으로 입력하면 할수록 더 좋은 결과물이 나온다. AI가 나의 명령어를 꼼꼼히 읽고 고민한다고 생각하고 사소한 부분이더라도 모두 입력하는 게 좋다. 요소마다 쉼표를 붙여가며 입력하지 않아도 되고 문장으로 묘사를 해도 된다. (마치 소설 속 인물 묘사처럼) 정해진 룰이 없어 굉장히 편했다. (처음에 /imagine prompt만 입력한 후에는 자유롭게 입력이 가능하다.) 웃긴 건 나의 상상력과 창의력이 AI에 비해 미천하다는 느낌을 받은 것이다. 내가 창작하는 것도 아닌데 명령 단계에서부터 막힐 때가 종종 있었다. 어떤 이미지를 만들고 싶은지, 어떤 세부적인 요소가 들어가길 희망하는지, 어떤 느낌을 원하는지 나부터 확실하지 않은 경우가 많았다. 그리고 이미지 로딩이 완료되면 대부분의 경우는 내가 상상했던 결과물 보다 훨씬 더 기발한 결과물이 나왔다. 챗GPT의 등장으로 인해 (실은 이것도 이전에 있었던 버전의 업그레이드 버전이다.) Midjourney와 같은 다른 AI 프로그램들도 덩달아 주목을 받고 있다. 근 몇 년, 늘 존재했던 기술이지만 이제야 비로소, 본격적으로 비전문가 일반인들도 AI를 인식하고 사용하기 시작하는 전환기가 도래한 것 같다. 격동적인 사회 변화가 예상되지만 일단은 이 신나는 현상을 흥미롭게 지켜봐야겠다.  \n",
      "\n",
      "[('AI', tensor([0.7003], device='cuda:0')), ('알고리즘', tensor([0.6745], device='cuda:0')), ('상상', tensor([0.6498], device='cuda:0')), ('공상', tensor([0.6483], device='cuda:0')), ('명령어', tensor([0.6309], device='cuda:0')), ('상상력', tensor([0.5903], device='cuda:0')), ('인식', tensor([0.5606], device='cuda:0')), ('OpenAI', tensor([0.5574], device='cuda:0')), ('업로드', tensor([0.5509], device='cuda:0')), ('시도', tensor([0.5501], device='cuda:0')), ('구글', tensor([0.5478], device='cuda:0')), ('프로그램', tensor([0.5469], device='cuda:0')), ('최대한', tensor([0.5446], device='cuda:0')), ('예상', tensor([0.5374], device='cuda:0')), ('무한', tensor([0.5360], device='cuda:0')), ('완벽', tensor([0.5347], device='cuda:0')), ('완료', tensor([0.5311], device='cuda:0')), ('진화', tensor([0.5249], device='cuda:0')), ('노하우', tensor([0.5195], device='cuda:0')), ('창작', tensor([0.5171], device='cuda:0')), ('창의력', tensor([0.5130], device='cuda:0')), ('이미지', tensor([0.5113], device='cuda:0')), ('업그레이드', tensor([0.5087], device='cuda:0')), ('시나리오', tensor([0.5055], device='cuda:0')), ('의도', tensor([0.5041], device='cuda:0')), ('수행', tensor([0.5021], device='cuda:0')), ('감각', tensor([0.5009], device='cuda:0')), ('미래', tensor([0.4952], device='cuda:0')), ('하면 된다', tensor([0.4946], device='cuda:0')), ('분야', tensor([0.4928], device='cuda:0')), ('구체', tensor([0.4920], device='cuda:0')), ('마이크로소프트', tensor([0.4893], device='cuda:0')), ('도출', tensor([0.4876], device='cuda:0')), ('imagine', tensor([0.4871], device='cuda:0')), ('희망', tensor([0.4868], device='cuda:0')), ('머신', tensor([0.4840], device='cuda:0')), ('다다', tensor([0.4831], device='cuda:0')), ('대체', tensor([0.4804], device='cuda:0')), ('안내', tensor([0.4792], device='cuda:0')), ('단계', tensor([0.4783], device='cuda:0')), ('문장', tensor([0.4775], device='cuda:0')), ('아주', tensor([0.4774], device='cuda:0')), ('현실감', tensor([0.4767], device='cuda:0')), ('과정', tensor([0.4755], device='cuda:0')), ('결과물', tensor([0.4749], device='cuda:0')), ('도래', tensor([0.4743], device='cuda:0')), ('상단', tensor([0.4693], device='cuda:0')), ('등장', tensor([0.4677], device='cuda:0')), ('사용자', tensor([0.4629], device='cuda:0')), ('SNS', tensor([0.4628], device='cuda:0')), ('링크', tensor([0.4627], device='cuda:0')), ('처음', tensor([0.4624], device='cuda:0')), ('능력', tensor([0.4600], device='cuda:0')), ('고민', tensor([0.4567], device='cuda:0')), ('리얼', tensor([0.4544], device='cuda:0')), ('접속', tensor([0.4500], device='cuda:0')), ('존재', tensor([0.4491], device='cuda:0')), ('생략', tensor([0.4487], device='cuda:0')), ('버전', tensor([0.4482], device='cuda:0')), ('놀라움', tensor([0.4457], device='cuda:0')), ('해당', tensor([0.4456], device='cuda:0')), ('이전', tensor([0.4448], device='cuda:0')), ('변화', tensor([0.4447], device='cuda:0')), ('플롯', tensor([0.4446], device='cuda:0')), ('자랑', tensor([0.4439], device='cuda:0')), ('입력', tensor([0.4428], device='cuda:0')), ('해답', tensor([0.4415], device='cuda:0')), ('실시간', tensor([0.4412], device='cuda:0')), ('형식', tensor([0.4409], device='cuda:0')), ('오랜만', tensor([0.4385], device='cuda:0')), ('사용법', tensor([0.4379], device='cuda:0')), ('마음', tensor([0.4373], device='cuda:0')), ('옵션', tensor([0.4369], device='cuda:0')), ('마케팅 전략', tensor([0.4363], device='cuda:0')), ('연속', tensor([0.4361], device='cuda:0')), ('묘사', tensor([0.4356], device='cuda:0')), ('선택', tensor([0.4352], device='cuda:0')), ('조형물', tensor([0.4350], device='cuda:0')), ('다음', tensor([0.4337], device='cuda:0')), ('참고', tensor([0.4320], device='cuda:0')), ('이름', tensor([0.4313], device='cuda:0')), ('산문', tensor([0.4311], device='cuda:0')), ('생성', tensor([0.4299], device='cuda:0')), ('웹사이트', tensor([0.4289], device='cuda:0')), ('쉼표', tensor([0.4272], device='cuda:0')), ('구성', tensor([0.4262], device='cuda:0')), ('유튜브', tensor([0.4260], device='cuda:0')), ('효과', tensor([0.4250], device='cuda:0')), ('영역', tensor([0.4248], device='cuda:0')), ('추가', tensor([0.4242], device='cuda:0')), ('개중', tensor([0.4222], device='cuda:0')), ('적용', tensor([0.4209], device='cuda:0')), ('명령', tensor([0.4203], device='cuda:0')), ('프로토타입', tensor([0.4201], device='cuda:0')), ('책상', tensor([0.4200], device='cuda:0')), ('웃음', tensor([0.4196], device='cuda:0')), ('세계', tensor([0.4195], device='cuda:0')), ('변형', tensor([0.4192], device='cuda:0')), ('고도', tensor([0.4184], device='cuda:0')), ('배경', tensor([0.4182], device='cuda:0')), ('인해', tensor([0.4180], device='cuda:0')), ('보니', tensor([0.4170], device='cuda:0')), ('오른쪽', tensor([0.4169], device='cuda:0')), ('과제', tensor([0.4161], device='cuda:0')), ('prompt', tensor([0.4160], device='cuda:0')), ('특징', tensor([0.4144], device='cuda:0')), ('며칠', tensor([0.4144], device='cuda:0')), ('스팅', tensor([0.4130], device='cuda:0')), ('흥미', tensor([0.4124], device='cuda:0')), ('가입', tensor([0.4118], device='cuda:0')), ('시작', tensor([0.4069], device='cuda:0')), ('주목', tensor([0.4061], device='cuda:0')), ('투자', tensor([0.4045], device='cuda:0')), ('신규', tensor([0.4034], device='cuda:0')), ('책장', tensor([0.4022], device='cuda:0')), ('대부분', tensor([0.4022], device='cuda:0')), ('소설', tensor([0.4003], device='cuda:0')), ('분석', tensor([0.3998], device='cuda:0')), ('현상', tensor([0.3995], device='cuda:0')), ('잠재력', tensor([0.3988], device='cuda:0')), ('세부', tensor([0.3987], device='cuda:0')), ('사진', tensor([0.3985], device='cuda:0')), ('전체', tensor([0.3983], device='cuda:0')), ('채팅', tensor([0.3964], device='cuda:0')), ('미드', tensor([0.3961], device='cuda:0')), ('발견', tensor([0.3942], device='cuda:0')), ('대신', tensor([0.3929], device='cuda:0')), ('관련', tensor([0.3927], device='cuda:0')), ('해상도', tensor([0.3923], device='cuda:0')), ('사용', tensor([0.3912], device='cuda:0')), ('ChatGPT', tensor([0.3910], device='cuda:0')), ('포함', tensor([0.3903], device='cuda:0')), ('전환기', tensor([0.3869], device='cuda:0')), ('인기', tensor([0.3866], device='cuda:0')), ('코드', tensor([0.3857], device='cuda:0')), ('그런지', tensor([0.3835], device='cuda:0')), ('인류', tensor([0.3828], device='cuda:0')), ('4K', tensor([0.3821], device='cuda:0')), ('GPT', tensor([0.3808], device='cuda:0')), ('이유', tensor([0.3805], device='cuda:0')), ('기술', tensor([0.3801], device='cuda:0')), ('영상', tensor([0.3800], device='cuda:0')), ('오후', tensor([0.3798], device='cuda:0')), ('정해진', tensor([0.3776], device='cuda:0')), ('트래픽', tensor([0.3735], device='cuda:0')), ('중간', tensor([0.3724], device='cuda:0')), ('모니터', tensor([0.3722], device='cuda:0')), ('노출', tensor([0.3708], device='cuda:0')), ('모델', tensor([0.3695], device='cuda:0')), ('렌즈', tensor([0.3672], device='cuda:0')), ('Midjourney', tensor([0.3653], device='cuda:0')), ('정보', tensor([0.3633], device='cuda:0')), ('언어', tensor([0.3630], device='cuda:0')), ('결합', tensor([0.3608], device='cuda:0')), ('하나로', tensor([0.3607], device='cuda:0')), ('러닝', tensor([0.3581], device='cuda:0')), ('기준', tensor([0.3576], device='cuda:0')), ('최근', tensor([0.3569], device='cuda:0')), ('요청', tensor([0.3564], device='cuda:0')), ('로딩', tensor([0.3554], device='cuda:0')), ('느낌', tensor([0.3549], device='cuda:0')), ('회원', tensor([0.3545], device='cuda:0')), ('일반인', tensor([0.3540], device='cuda:0')), ('정신', tensor([0.3528], device='cuda:0')), ('초청', tensor([0.3501], device='cuda:0')), ('조명', tensor([0.3498], device='cuda:0')), ('얼굴', tensor([0.3483], device='cuda:0')), ('불안', tensor([0.3472], device='cuda:0')), ('차례', tensor([0.3443], device='cuda:0')), ('놀이터', tensor([0.3442], device='cuda:0')), ('부분', tensor([0.3407], device='cuda:0')), ('교수', tensor([0.3396], device='cuda:0')), ('공포', tensor([0.3391], device='cuda:0')), ('스틱', tensor([0.3376], device='cuda:0')), ('사람', tensor([0.3342], device='cuda:0')), ('모아', tensor([0.3338], device='cuda:0')), ('요즘', tensor([0.3333], device='cuda:0')), ('핑크색', tensor([0.3303], device='cuda:0')), ('인터넷', tensor([0.3286], device='cuda:0')), ('관심', tensor([0.3280], device='cuda:0')), ('카메라', tensor([0.3263], device='cuda:0')), ('관객', tensor([0.3260], device='cuda:0')), ('영화', tensor([0.3201], device='cuda:0')), ('머리', tensor([0.3186], device='cuda:0')), ('자유', tensor([0.3178], device='cuda:0')), ('전문가', tensor([0.3167], device='cuda:0')), ('나이', tensor([0.3150], device='cuda:0')), ('저니', tensor([0.3147], device='cuda:0')), ('겨울', tensor([0.3144], device='cuda:0')), ('채널', tensor([0.3139], device='cuda:0')), ('친구', tensor([0.3122], device='cuda:0')), ('뼛속', tensor([0.3106], device='cuda:0')), ('동생', tensor([0.3104], device='cuda:0')), ('정도', tensor([0.3098], device='cuda:0')), ('문과', tensor([0.3088], device='cuda:0')), ('질감', tensor([0.3075], device='cuda:0')), ('요소', tensor([0.3062], device='cuda:0')), ('만남', tensor([0.3043], device='cuda:0')), ('학교', tensor([0.3032], device='cuda:0')), ('인물', tensor([0.3015], device='cuda:0')), ('영어', tensor([0.3005], device='cuda:0')), ('과학', tensor([0.3000], device='cuda:0')), ('소네트', tensor([0.2967], device='cuda:0')), ('티셔츠', tensor([0.2948], device='cuda:0')), ('아래', tensor([0.2930], device='cuda:0')), ('기사', tensor([0.2929], device='cuda:0')), ('사용료', tensor([0.2922], device='cuda:0')), ('디스', tensor([0.2797], device='cuda:0')), ('난리', tensor([0.2789], device='cuda:0')), ('운동', tensor([0.2677], device='cuda:0')), ('질문', tensor([0.2675], device='cuda:0')), ('뉴스 기사', tensor([0.2633], device='cuda:0')), ('기세', tensor([0.2632], device='cuda:0')), ('응시', tensor([0.2515], device='cuda:0')), ('격동', tensor([0.2512], device='cuda:0')), ('두께', tensor([0.2457], device='cuda:0')), ('캐나다', tensor([0.2443], device='cuda:0')), ('목소리', tensor([0.2366], device='cuda:0')), ('1월 24일', tensor([0.2339], device='cuda:0')), ('나무', tensor([0.2297], device='cuda:0')), ('형제', tensor([0.2102], device='cuda:0')), ('분도', tensor([0.2042], device='cuda:0')), ('피부', tensor([0.1869], device='cuda:0'))] \n",
      "\n",
      "['현상', '그런지', '능력', '잠재력', '회원', '티셔츠', '흥미', '인해', '웃음', '분석', '요즘', '부분', '도래', '효과', '운동', '해당', '채널', '명령어', '결합', '만남', '희망', '뉴스 기사', '링크', '안내', '상상', '전문가', '공포', '책상', '쉼표', '인식', '영화', '구글', '문장', '소네트', '이미지', '옵션', '인기', '발견', '노하우', '포함', '모델', '놀이터', '자유', '프로그램', '최대한', '목소리', '미래', '코드', '현실감', '사용', '이전', '해상도', '세부', '등장', '조명', '추가', '대신', '리얼', '나이', '채팅', '아주', '업로드', '트래픽', '요청', '나무', '스팅', '결과물', '정보', '보니', '관객', '수행', '캐나다', '묘사', '존재', '고도', '변형', '마이크로소프트', '하나로', '정신', '동생', '겨울', '이유', '대부분', '마음', '언어', '접속', '응시', '생략', '스틱', '가입', '불안', '초청', '모니터', '처음', '프로토타입', '실시간', '오랜만', '마케팅 전략', '친구', '영역', '사용자', '노출', '예상', '피부', '공상', '도출', '전체', '아래', '참고', '배경', '신규', '하면 된다', '머리', '미드', '관련', '세계', '단계', '영어', '분도', '형제', '얼굴', '두께', '분야', '질감', '오른쪽', '카메라', '학교', '교수', '사진', '구성', '시나리오', '적용', '렌즈', '투자', '사용료', '조형물', '요소', '중간', '오후', '인터넷', '시도', '특징', '구체', '감각', '인물', '영상', '과학', '유튜브', '관심', '기술', '소설', '정해진', '대체', '며칠', '업그레이드', '창작', '난리', '알고리즘', '진화', '창의력', '완료', '핑크색', '기사', '선택', '무한', '다음', '생성', '입력', '형식', '질문', '버전', '의도', '기준', '모아', '주목', '전환기', '느낌', '개중', '고민', '산문', '과제', '이름', '웹사이트', '격동', '연속', '문과', '4K', '명령', '상상력', '상단', '정도', '다다', '최근', '로딩', '과정', '뼛속', '시작', '변화', '자랑', '1월 24일', '러닝', '차례', '플롯', '사람', '완벽', '머신', '놀라움', '디스', '사용법', '인류', '일반인', '책장', '저니', '해답', '기세', 'imagine', 'prompt', 'ChatGPT', 'GPT', 'AI', 'OpenAI', 'Midjourney', 'SNS']\n"
     ]
    }
   ],
   "source": [
    "model.to('cuda')\n",
    "model.eval()\n",
    "\n",
    "sample_essay = sample[1]\n",
    "\n",
    "with torch.no_grad():\n",
    "    print(sample_essay['keyword'])\n",
    "    \n",
    "    title = sample_essay['title']\n",
    "    text = sample_essay['body_text']\n",
    "    text = text.replace('\\n','').replace('\\t','').replace('\\r','') # 코모란 에러 방지\n",
    "    nouns = get_nouns_komoran(text)\n",
    "    \n",
    "    extract_main_keywords(nouns, title, text, model, tokenizer)"
   ]
  },
  {
   "cell_type": "markdown",
   "metadata": {},
   "source": [
    "구현해야 할 점\n",
    "\n",
    "* 단어를 배치단위로 입력하여 한번에 연산할 수 있게 변형\n",
    "* 빈도수에 따른 가중치 변환\n",
    "* 제목-본문 STS/NLI fine-tuning\n",
    "* 단어-제목 STS/NLI fine-tuning\n",
    "* 단어-본문 STS/NLI fine-tuning"
   ]
  },
  {
   "cell_type": "markdown",
   "metadata": {},
   "source": [
    "### kr-wordrank와 비교"
   ]
  },
  {
   "cell_type": "code",
   "execution_count": 75,
   "metadata": {},
   "outputs": [
    {
     "name": "stdout",
     "output_type": "stream",
     "text": [
      "      AI:\t5.0418\n",
      "    합니다.:\t2.5861\n",
      "     디지털:\t2.5624\n",
      "   있습니다.:\t2.5591\n",
      "    개인정보:\t2.3467\n",
      "      아트:\t1.8369\n",
      "      보호:\t1.6225\n",
      "     작품을:\t1.5979\n",
      "      기술:\t1.5912\n",
      "      예술:\t1.5313\n",
      "   2022년:\t1.4904\n",
      "     이러한:\t1.4667\n",
      "      대해:\t1.2678\n",
      "      학습:\t1.1155\n",
      "      있다:\t1.0238\n",
      "   아티스트들:\t1.0069\n",
      "      지적:\t0.8647\n",
      "      논란:\t0.8550\n",
      "      그림:\t0.6606\n",
      "      창작:\t0.6518\n",
      "      우리:\t0.6464\n",
      "      개정:\t0.6386\n",
      "      발전:\t0.5836\n",
      "      미국:\t0.4295\n"
     ]
    }
   ],
   "source": [
    "from krwordrank.word import KRWordRank\n",
    "\n",
    "min_count = 3   # 단어의 최소 출현 빈도수 (그래프 생성 시)\n",
    "max_length = 10 # 단어의 최대 길이\n",
    "wordrank_extractor = KRWordRank(min_count=min_count, max_length=max_length)\n",
    "\n",
    "beta = 0.85    # PageRank의 decaying factor beta\n",
    "max_iter = 10\n",
    "texts = [text]\n",
    "keywords, rank, graph = wordrank_extractor.extract(texts, beta, max_iter)\n",
    "\n",
    "for word, r in sorted(keywords.items(), key=lambda x:x[1], reverse=True)[:30]:\n",
    "        print('%8s:\\t%.4f' % (word, r))"
   ]
  },
  {
   "cell_type": "code",
   "execution_count": 259,
   "metadata": {},
   "outputs": [
    {
     "name": "stdout",
     "output_type": "stream",
     "text": [
      "제목과 본문의 유사도 tensor([0.5652], device='cuda:0')\n",
      "\n",
      "왜 꼭 한 글자가 기억나지 않는 걸까.\n",
      "\n",
      "\n",
      "\n",
      "\n",
      "“미시령 고개를 넘어가자 눈앞에 펼쳐진 풍경을 보며 써니가 말했어.”\n",
      "<와! 울산바지다!>\n",
      "\n",
      "일명 울산바지 사건은 30년이 다 다 되어가는 지금까지도  \n",
      "동생이 올케를 놀릴 때 사골처럼 우려먹는 단골 레퍼토리다.\n",
      "그 때 동생과 올케 모두 아름다운 삼십대 였으니 소소한 말실수는 그냥 귀엽기만 했다.\n",
      "말과 글로 밥 벌어먹고 사는 동생은 적어도 말로 실수를 하는 일은 없을지 모르나\n",
      "동생이 발설하는 올케의 어휘 실수는 이후로도 틈틈이 술자리나 식사자리에서 오르내렸다.\n",
      "사실, 내 동생이지만 때로는 한 대 쥐어 박아주고 싶다.\n",
      "아내의 말실수를 덮어주지는 못할망정 일일이 콕콕 짚어내는 남편이 얄미울 만도 하겠건만 그럴 때마다 그냥 같이 웃고 넘어가는 올케가 대인배로 느껴질 정도였다. \n",
      "\n",
      "그 때 같이 웃지 말았어야 했을까?\n",
      "요즘 내 증세이 심상치가 않다.\n",
      "\n",
      "\n",
      "“거기 그거 옆에 그거 가져오면 되지? 자, 그거.”\n",
      "\n",
      "송년 가족모임 준비 상황이었다.\n",
      "각자 음식을 준비해 오랬더니 재료를 가지고 와 좁은 주방에서 북적거리는 상황이\n",
      "마치 요리대첩이라도 하는 것 같다.  \n",
      "내 담당은 아란치니였는데 튀김 젓가락을 건네 달라고 하려던 참이었다.\n",
      "주어도 목적어도 없었는데 내가 말하는 것을 찰떡같이 가져온 K2가 그 참 신통하다 싶었다. \n",
      "요즘 이상하게도 단어가 떠오르지 않는다.\n",
      "주변 말이나 글자, 상황 사람까지도 기억나는데 \n",
      "딱 중요한 단어 하나가 죽어도 생각이 나지 않아 머리를 쿵쿵 쥐어박는 일이 잦아졌다. \n",
      "그 단어는 때로 장소일 때도 있고 사람 이름이거나 영화 제목 혹은 그냥 물건의 명칭일 때도 있다.\n",
      "소설 속에서 주인공 모친의 오류를 읽으면서는 그나마 안심이 됐다.\n",
      "모친은 남편의 안경 쓴 모습을 보고 “당신 안경 쓰니까 인테리어 같다.” 고 했고\n",
      "트럼프를 트렁크로, 아만다 사이프리드를 아만다 사이프러스로 말하고는 \n",
      "틀린 걸 지적하면 깔깔 웃어넘기고 금세 잠이 들기도 한다.\n",
      "안심이 됐던 이유는, 그래도 난 그 정도는 아니라고 생각했었나보다. \n",
      "\n",
      "\n",
      "영화를 보는 중이었다.\n",
      "일본인 경호대장 역을 하는 배우를 분명 아는데 이름이 떠오르지 않는다.\n",
      "박....\n",
      "뭐 같은데.\n",
      "해, 맞다 해....일?\n",
      "아닌데\n",
      "박 뭐지?\n",
      "박해.....영?\n",
      "맞다 박해영.\n",
      "이상한데? 아닌가?\n",
      "박, 박, 박, 박, 뭐지?\n",
      "\n",
      "결국 영화가 끝날 때까지 그 배우의 이름은 기억나지 않았다.\n",
      "신기한 건, 박해, 까지는 떠올랐다는 점이다.\n",
      "엔딩 크레딧이 올라갈 때 그 이름이 올라간다.\n",
      "박.해.수.\n",
      "\n",
      "그 참 이상하다.\n",
      "왜 꼭 한 글자가 기억나지 않는 걸까?\n",
      "\n",
      "[('글자', tensor([0.5745], device='cuda:0')), ('오류', tensor([0.5091], device='cuda:0')), ('모르나', tensor([0.5037], device='cuda:0')), ('눈앞', tensor([0.4885], device='cuda:0')), ('이후', tensor([0.4820], device='cuda:0')), ('안심', tensor([0.4746], device='cuda:0')), ('박해', tensor([0.4651], device='cuda:0')), ('생각', tensor([0.4598], device='cuda:0')), ('단골', tensor([0.4591], device='cuda:0')), ('실수', tensor([0.4579], device='cuda:0')), ('신통', tensor([0.4569], device='cuda:0')), ('상황', tensor([0.4516], device='cuda:0')), ('대첩', tensor([0.4507], device='cuda:0')), ('이름', tensor([0.4472], device='cuda:0')), ('안경', tensor([0.4431], device='cuda:0')), ('모습', tensor([0.4414], device='cuda:0')), ('K2', tensor([0.4389], device='cuda:0')), ('소설', tensor([0.4377], device='cuda:0')), ('레퍼토리', tensor([0.4321], device='cuda:0')), ('이유', tensor([0.4286], device='cuda:0')), ('동생', tensor([0.4283], device='cuda:0')), ('트럼프', tensor([0.4275], device='cuda:0')), ('단어', tensor([0.4247], device='cuda:0')), ('경호', tensor([0.4245], device='cuda:0')), ('풍경', tensor([0.4208], device='cuda:0')), ('명칭', tensor([0.4178], device='cuda:0')), ('젓가락', tensor([0.4157], device='cuda:0')), ('찰떡', tensor([0.4156], device='cuda:0')), ('지금', tensor([0.4099], device='cuda:0')), ('제목', tensor([0.4094], device='cuda:0')), ('미시령', tensor([0.4089], device='cuda:0')), ('주인공', tensor([0.4058], device='cuda:0')), ('사건', tensor([0.3918], device='cuda:0')), ('어휘', tensor([0.3904], device='cuda:0')), ('장소', tensor([0.3893], device='cuda:0')), ('대장', tensor([0.3892], device='cuda:0')), ('물건', tensor([0.3865], device='cuda:0')), ('일명', tensor([0.3841], device='cuda:0')), ('고개', tensor([0.3839], device='cuda:0')), ('울산', tensor([0.3772], device='cuda:0')), ('송년', tensor([0.3772], device='cuda:0')), ('지적', tensor([0.3766], device='cuda:0')), ('담당', tensor([0.3685], device='cuda:0')), ('사람', tensor([0.3670], device='cuda:0')), ('가족', tensor([0.3666], device='cuda:0')), ('만도', tensor([0.3657], device='cuda:0')), ('자리', tensor([0.3646], device='cuda:0')), ('크레딧', tensor([0.3631], device='cuda:0')), ('주변', tensor([0.3627], device='cuda:0')), ('사이프러스', tensor([0.3623], device='cuda:0')), ('튀김', tensor([0.3542], device='cuda:0')), ('주방', tensor([0.3531], device='cuda:0')), ('배우', tensor([0.3420], device='cuda:0')), ('대인', tensor([0.3419], device='cuda:0')), ('써니', tensor([0.3400], device='cuda:0')), ('요즘', tensor([0.3393], device='cuda:0')), ('인테리어', tensor([0.3367], device='cuda:0')), ('아만다 사이프리드', tensor([0.3348], device='cuda:0')), ('증세', tensor([0.3318], device='cuda:0')), ('일본인', tensor([0.3312], device='cuda:0')), ('트렁크', tensor([0.3304], device='cuda:0')), ('영화', tensor([0.3291], device='cuda:0')), ('바지', tensor([0.3225], device='cuda:0')), ('머리', tensor([0.3206], device='cuda:0')), ('남편', tensor([0.3157], device='cuda:0')), ('준비', tensor([0.3062], device='cuda:0')), ('사골', tensor([0.3043], device='cuda:0')), ('모친', tensor([0.2995], device='cuda:0')), ('아란치니', tensor([0.2982], device='cuda:0')), ('재료', tensor([0.2951], device='cuda:0')), ('목적어', tensor([0.2923], device='cuda:0')), ('올케', tensor([0.2704], device='cuda:0')), ('발설', tensor([0.2554], device='cuda:0')), ('요리', tensor([0.2456], device='cuda:0')), ('모임', tensor([0.2405], device='cuda:0')), ('음식', tensor([0.2382], device='cuda:0')), ('아내', tensor([0.2373], device='cuda:0')), ('식사', tensor([0.2285], device='cuda:0')), ('술자리', tensor([0.2213], device='cuda:0')), ('배로', tensor([0.1135], device='cuda:0'))] \n",
      "\n",
      "['발설', '레퍼토리', '올케', '모임', '음식', '인테리어', '주방', '목적어', '크레딧', '단어', '신통', '단골', '가족', '써니', '대인', '고개', '안심', '재료', '박해', '경호', '자리', '주변', '울산', '요즘', '상황', '요리', '젓가락', '생각', '주인공', '모친', '지금', '담당', '오류', '장소', '지적', '동생', '사건', '물건', '명칭', '튀김', '증세', '술자리', '미시령', '소설', '남편', '사골', '대장', '사이프러스', '실수', '식사', '글자', '아란치니', '일본인', '사람', '이름', '눈앞', '모르나', '아내', '대첩', '이후', '영화', '준비', '배우', '어휘', '배로', '이유', '풍경', '제목', '찰떡', '트럼프', '안경', '송년', '모습', '일명', '트렁크', 'K2', '머리', '바지', '아만다 사이프리드', '만도', 'K2']\n"
     ]
    }
   ],
   "source": [
    "title = \"왜 꼭 한 글자가 기억나지 않는 걸까.\"\n",
    "text =\"\\n\\n\\n“미시령 고개를 넘어가자 눈앞에 펼쳐진 풍경을 보며 써니가 말했어.”\\n<와! 울산바지다!>\\n\\n일명 울산바지 사건은 30년이 다 다 되어가는 지금까지도  \\n동생이 올케를 놀릴 때 사골처럼 우려먹는 단골 레퍼토리다.\\n그 때 동생과 올케 모두 아름다운 삼십대 였으니 소소한 말실수는 그냥 귀엽기만 했다.\\n말과 글로 밥 벌어먹고 사는 동생은 적어도 말로 실수를 하는 일은 없을지 모르나\\n동생이 발설하는 올케의 어휘 실수는 이후로도 틈틈이 술자리나 식사자리에서 오르내렸다.\\n사실, 내 동생이지만 때로는 한 대 쥐어 박아주고 싶다.\\n아내의 말실수를 덮어주지는 못할망정 일일이 콕콕 짚어내는 남편이 얄미울 만도 하겠건만 그럴 때마다 그냥 같이 웃고 넘어가는 올케가 대인배로 느껴질 정도였다. \\n\\n그 때 같이 웃지 말았어야 했을까?\\n요즘 내 증세이 심상치가 않다.\\n\\n\\n“거기 그거 옆에 그거 가져오면 되지? 자, 그거.”\\n\\n송년 가족모임 준비 상황이었다.\\n각자 음식을 준비해 오랬더니 재료를 가지고 와 좁은 주방에서 북적거리는 상황이\\n마치 요리대첩이라도 하는 것 같다.  \\n내 담당은 아란치니였는데 튀김 젓가락을 건네 달라고 하려던 참이었다.\\n주어도 목적어도 없었는데 내가 말하는 것을 찰떡같이 가져온 K2가 그 참 신통하다 싶었다. \\n요즘 이상하게도 단어가 떠오르지 않는다.\\n주변 말이나 글자, 상황 사람까지도 기억나는데 \\n딱 중요한 단어 하나가 죽어도 생각이 나지 않아 머리를 쿵쿵 쥐어박는 일이 잦아졌다. \\n그 단어는 때로 장소일 때도 있고 사람 이름이거나 영화 제목 혹은 그냥 물건의 명칭일 때도 있다.\\n소설 속에서 주인공 모친의 오류를 읽으면서는 그나마 안심이 됐다.\\n모친은 남편의 안경 쓴 모습을 보고 “당신 안경 쓰니까 인테리어 같다.” 고 했고\\n트럼프를 트렁크로, 아만다 사이프리드를 아만다 사이프러스로 말하고는 \\n틀린 걸 지적하면 깔깔 웃어넘기고 금세 잠이 들기도 한다.\\n안심이 됐던 이유는, 그래도 난 그 정도는 아니라고 생각했었나보다. \\n\\n\\n영화를 보는 중이었다.\\n일본인 경호대장 역을 하는 배우를 분명 아는데 이름이 떠오르지 않는다.\\n박....\\n뭐 같은데.\\n해, 맞다 해....일?\\n아닌데\\n박 뭐지?\\n박해.....영?\\n맞다 박해영.\\n이상한데? 아닌가?\\n박, 박, 박, 박, 뭐지?\\n\\n결국 영화가 끝날 때까지 그 배우의 이름은 기억나지 않았다.\\n신기한 건, 박해, 까지는 떠올랐다는 점이다.\\n엔딩 크레딧이 올라갈 때 그 이름이 올라간다.\\n박.해.수.\\n\\n그 참 이상하다.\\n왜 꼭 한 글자가 기억나지 않는 걸까?\"\n",
    "\n",
    "model.to('cuda')\n",
    "model.eval()\n",
    "\n",
    "with torch.no_grad():\n",
    "    nouns = get_nouns_komoran(text)\n",
    "    extract_main_keywords(nouns, title, text, model, tokenizer)"
   ]
  },
  {
   "cell_type": "code",
   "execution_count": 254,
   "metadata": {},
   "outputs": [
    {
     "name": "stdout",
     "output_type": "stream",
     "text": [
      "[('“', 'SS'), ('미시령', 'NNP'), ('고개', 'NNG'), ('를', 'JKO'), ('넘어가', 'VV'), ('자', 'EC'), ('눈앞', 'NNG'), ('에', 'JKB'), ('펼쳐지', 'VV'), ('ㄴ', 'ETM'), ('풍경', 'NNG'), ('을', 'JKO'), ('보', 'VV'), ('며', 'EC'), ('써니', 'NNP'), ('가', 'JKS'), ('말', 'NNG'), ('하', 'XSV'), ('았', 'EP'), ('어', 'EF'), ('.', 'SF'), ('”', 'SS'), ('<', 'SS'), ('와', 'IC'), ('!', 'SF'), ('울산', 'NNP'), ('바지', 'NNP'), ('다', 'EF'), ('!', 'SF'), ('>', 'SS'), ('일명', 'NNG'), ('울산', 'NNP'), ('바지', 'NNP'), ('사건', 'NNG'), ('은', 'JX'), ('30', 'SN'), ('년', 'NNB'), ('이', 'JKS'), ('다', 'MAG'), ('다', 'MAG'), ('되', 'VV'), ('어', 'EC'), ('가', 'VX'), ('는', 'ETM'), ('지금', 'NNG'), ('까지', 'JX'), ('도', 'JX'), ('동생', 'NNG'), ('이', 'JKS'), ('올케', 'NNG'), ('를', 'JKO'), ('놀리', 'VV'), ('ㄹ', 'ETM'), ('때', 'NNG'), ('사골', 'NNP'), ('처럼', 'JKB'), ('우려먹', 'VV'), ('는', 'ETM'), ('단골', 'NNG'), ('레퍼토리', 'NNG'), ('다', 'JX'), ('.', 'SF'), ('그', 'MM'), ('때', 'NNG'), ('동생', 'NNG'), ('과', 'JC'), ('올케', 'NNG'), ('모두', 'MAG'), ('아름답', 'VA'), ('ㄴ', 'ETM'), ('삼십', 'NR'), ('대', 'NNB'), ('이', 'VCP'), ('었', 'EP'), ('으니', 'EC'), ('소소', 'XR'), ('하', 'XSA'), ('ㄴ', 'ETM'), ('말', 'NNG'), ('실수', 'NNP'), ('는', 'JX'), ('그냥', 'MAG'), ('귀엽', 'VA'), ('기', 'ETN'), ('만', 'JX'), ('하', 'VV'), ('았', 'EP'), ('다', 'EF'), ('.', 'SF'), ('말', 'NNG'), ('과', 'JC'), ('글', 'NNG'), ('로', 'JKB'), ('밥', 'NNG'), ('벌어먹', 'VV'), ('고', 'EC'), ('살', 'VV'), ('는', 'ETM'), ('동생', 'NNG'), ('은', 'JX'), ('적어도', 'MAG'), ('말', 'NNG'), ('로', 'JKB'), ('실수', 'NNG'), ('를', 'JKO'), ('하', 'VV'), ('는', 'ETM'), ('일', 'NNB'), ('은', 'JX'), ('없', 'VA'), ('을지', 'EC'), ('모르나', 'NNP'), ('동생', 'NNG'), ('이', 'JKS'), ('발설', 'NNG'), ('하', 'XSV'), ('는', 'ETM'), ('올케', 'NNG'), ('의', 'JKG'), ('어휘', 'NNP'), ('실수', 'NNG'), ('는', 'JX'), ('이후', 'NNG'), ('로', 'JKB'), ('도', 'JX'), ('틈틈이', 'MAG'), ('술자리', 'NNG'), ('나', 'JC'), ('식사', 'NNG'), ('자리', 'NNG'), ('에서', 'JKB'), ('오르내리', 'VV'), ('었', 'EP'), ('다', 'EF'), ('.', 'SF'), ('사실', 'NNG'), (',', 'SP'), ('내', 'NP'), ('동생', 'NNG'), ('이', 'VCP'), ('지만', 'EC'), ('때', 'NNG'), ('로', 'JKB'), ('는', 'JX'), ('한', 'MM'), ('대', 'NNB'), ('쥐', 'VV'), ('어', 'EC'), ('박', 'VV'), ('아', 'EC'), ('주', 'VX'), ('고', 'EC'), ('싶', 'VX'), ('다', 'EF'), ('.', 'SF'), ('아내', 'NNG'), ('의', 'JKG'), ('말', 'NNG'), ('실수', 'NNG'), ('를', 'JKO'), ('덮', 'VV'), ('어', 'EC'), ('주', 'VX'), ('지', 'EC'), ('는', 'JX'), ('못하', 'VX'), ('ㄹ망정', 'EC'), ('일일이', 'MAG'), ('콕콕', 'MAG'), ('짚', 'VV'), ('어', 'EC'), ('내', 'VX'), ('는', 'ETM'), ('남편', 'NNG'), ('이', 'JKS'), ('얄밉', 'VA'), ('ㄹ', 'ETM'), ('만도', 'NNP'), ('하', 'VV'), ('겠', 'EP'), ('건만', 'EC'), ('그렇', 'VA'), ('ㄹ', 'ETM'), ('때', 'NNG'), ('마다', 'JX'), ('그냥', 'MAG'), ('같이', 'MAG'), ('웃', 'VV'), ('고', 'EC'), ('넘어가', 'VV'), ('는', 'ETM'), ('올케', 'NNG'), ('가', 'JKS'), ('대인', 'NNP'), ('배로', 'NNP'), ('느끼', 'VV'), ('어', 'EC'), ('지', 'VX'), ('ㄹ', 'ETM'), ('정도', 'NNG'), ('이', 'VCP'), ('었', 'EP'), ('다', 'EF'), ('.', 'SF'), ('그', 'MM'), ('때', 'NNG'), ('같이', 'MAG'), ('웃', 'VV'), ('지', 'EC'), ('말', 'VX'), ('았', 'EP'), ('어야', 'EC'), ('하', 'VV'), ('았', 'EP'), ('을까', 'EF'), ('?', 'SF'), ('요즘', 'NNG'), ('내', 'NP'), ('증세', 'NNG'), ('이', 'NNP'), ('심상', 'XR'), ('치', 'XSN'), ('가', 'JKS'), ('않', 'VX'), ('다', 'EF'), ('.', 'SF'), ('“', 'SS'), ('거기', 'NP'), ('그것', 'NP'), ('옆', 'NNG'), ('에', 'JKB'), ('그것', 'NP'), ('가져오', 'VV'), ('면', 'EC'), ('되', 'VV'), ('지', 'EF'), ('?', 'SF'), ('자', 'IC'), (',', 'SP'), ('그것', 'NP'), ('.', 'SF'), ('”', 'SS'), ('송년', 'NNG'), ('가족', 'NNG'), ('모임', 'NNP'), ('준비', 'NNG'), ('상황', 'NNG'), ('이', 'VCP'), ('었', 'EP'), ('다', 'EF'), ('.', 'SF'), ('각자', 'MAG'), ('음식', 'NNG'), ('을', 'JKO'), ('준비', 'NNG'), ('하', 'XSV'), ('아', 'EC'), ('오', 'VV'), ('라', 'EC'), ('하', 'VV'), ('았', 'EP'), ('더니', 'EC'), ('재료', 'NNG'), ('를', 'JKO'), ('가지', 'VV'), ('고', 'EC'), ('오', 'VV'), ('아', 'EC'), ('좁', 'VA'), ('은', 'ETM'), ('주방', 'NNP'), ('에서', 'JKB'), ('북적거리', 'VV'), ('는', 'ETM'), ('상황', 'NNG'), ('이', 'JKS'), ('마치', 'MAG'), ('요리', 'NNG'), ('대첩', 'NNG'), ('이', 'VCP'), ('라도', 'EC'), ('하', 'VV'), ('는', 'ETM'), ('것', 'NNB'), ('같', 'VA'), ('다', 'EF'), ('.', 'SF'), ('내', 'NP'), ('담당', 'NNG'), ('은', 'JX'), ('아란치니', 'NNP'), ('이', 'VCP'), ('었', 'EP'), ('는데', 'EC'), ('튀김', 'NNP'), ('젓가락', 'NNG'), ('을', 'JKO'), ('건네', 'VV'), ('어', 'EC'), ('달', 'VV'), ('라고', 'EC'), ('하', 'VV'), ('려던', 'ETM'), ('참', 'NNB'), ('이', 'VCP'), ('었', 'EP'), ('다', 'EF'), ('.', 'SF'), ('주', 'VX'), ('어도', 'EC'), ('목적어', 'NNP'), ('도', 'JX'), ('없', 'VA'), ('었', 'EP'), ('는데', 'EC'), ('내', 'NP'), ('가', 'JKS'), ('말', 'NNG'), ('하', 'XSV'), ('는', 'ETM'), ('것', 'NNB'), ('을', 'JKO'), ('찰떡', 'NNG'), ('같이', 'JKB'), ('가져오', 'VV'), ('ㄴ', 'ETM'), ('K2', 'NNP'), ('가', 'JKS'), ('그', 'MM'), ('참', 'MAG'), ('신통', 'NNG'), ('하', 'XSV'), ('다', 'EC'), ('싶', 'VX'), ('었', 'EP'), ('다', 'EF'), ('.', 'SF'), ('요즘', 'NNG'), ('이상', 'XR'), ('하', 'XSA'), ('게', 'EC'), ('도', 'JX'), ('단어', 'NNG'), ('가', 'JKS'), ('떠오르', 'VV'), ('지', 'EC'), ('않', 'VX'), ('는다', 'EF'), ('.', 'SF'), ('주변', 'NNG'), ('말', 'NNG'), ('이나', 'JC'), ('글자', 'NNG'), (',', 'SP'), ('상황', 'NNG'), ('사람', 'NNG'), ('까지', 'JX'), ('도', 'JX'), ('기억나', 'VV'), ('는데', 'EC'), ('딱', 'MAG'), ('중요', 'XR'), ('하', 'XSA'), ('ㄴ', 'ETM'), ('단어', 'NNG'), ('하나', 'NR'), ('가', 'JKS'), ('죽', 'VV'), ('어도', 'EC'), ('생각', 'NNG'), ('이', 'JKS'), ('나', 'VV'), ('지', 'EC'), ('않', 'VX'), ('아', 'EC'), ('머리', 'NNG'), ('를', 'JKO'), ('쿵쿵', 'MAG'), ('쥐어박', 'VV'), ('는', 'ETM'), ('일', 'NNG'), ('이', 'JKS'), ('잦아지', 'VV'), ('었', 'EP'), ('다', 'EF'), ('.', 'SF'), ('그', 'MM'), ('단어', 'NNG'), ('는', 'JX'), ('때로', 'MAG'), ('장소', 'NNG'), ('이', 'VCP'), ('ㄹ', 'ETM'), ('때', 'NNG'), ('도', 'JX'), ('있', 'VV'), ('고', 'EC'), ('사람', 'NNG'), ('이름', 'NNG'), ('이', 'VCP'), ('거나', 'EC'), ('영화', 'NNG'), ('제목', 'NNG'), ('혹은', 'MAJ'), ('그냥', 'MAG'), ('물건', 'NNG'), ('의', 'JKG'), ('명칭', 'NNG'), ('이', 'VCP'), ('ㄹ', 'ETM'), ('때', 'NNG'), ('도', 'JX'), ('있', 'VX'), ('다', 'EF'), ('.', 'SF'), ('소설', 'NNG'), ('속', 'NNG'), ('에서', 'JKB'), ('주인공', 'NNP'), ('모친', 'NNG'), ('의', 'JKG'), ('오류', 'NNG'), ('를', 'JKO'), ('읽', 'VV'), ('으면서', 'EC'), ('는', 'JX'), ('그나마', 'MAG'), ('안심', 'NNG'), ('이', 'JKS'), ('되', 'VV'), ('었', 'EP'), ('다', 'EF'), ('.', 'SF'), ('모친', 'NNG'), ('은', 'JX'), ('남편', 'NNG'), ('의', 'JKG'), ('안경', 'NNP'), ('쓰', 'VV'), ('ㄴ', 'ETM'), ('모습', 'NNG'), ('을', 'JKO'), ('보', 'VV'), ('고', 'EC'), ('“', 'SS'), ('당신', 'NNP'), ('안경', 'NNP'), ('쓰', 'VV'), ('니까', 'EC'), ('인테리어', 'NNG'), ('같', 'VA'), ('다', 'EF'), ('.', 'SF'), ('”', 'SS'), ('고', 'MM'), ('하', 'VV'), ('았', 'EP'), ('고', 'EC'), ('트럼프', 'NNP'), ('를', 'JKO'), ('트렁크', 'NNP'), ('로', 'JKB'), (',', 'SP'), ('아만다 사이프리드', 'NNP'), ('를', 'JKO'), ('아', 'NNP'), ('만', 'JX'), ('다', 'JX'), ('사이프러스', 'NNP'), ('로', 'JKB'), ('말', 'NNG'), ('하', 'XSV'), ('고', 'EC'), ('는', 'JX'), ('틀리', 'VV'), ('ㄴ', 'ETM'), ('걸', 'VV'), ('ㄹ', 'ETM'), ('지적', 'NNG'), ('하', 'XSV'), ('면', 'EC'), ('깔깔', 'MAG'), ('웃어넘기', 'VV'), ('고', 'EC'), ('금세', 'MAG'), ('잠', 'NNG'), ('이', 'JKS'), ('들', 'VV'), ('기', 'ETN'), ('도', 'JX'), ('하', 'VX'), ('ㄴ다', 'EF'), ('.', 'SF'), ('안심', 'NNG'), ('이', 'JKS'), ('되', 'VV'), ('었', 'EP'), ('던', 'ETM'), ('이유', 'NNG'), ('는', 'JX'), (',', 'SP'), ('그래도', 'MAJ'), ('나', 'VV'), ('ㄴ', 'ETM'), ('그', 'MM'), ('정도', 'NNG'), ('는', 'JX'), ('아니', 'VCN'), ('라고', 'EC'), ('생각', 'NNG'), ('하', 'XSV'), ('았었', 'EP'), ('나', 'EC'), ('보', 'VX'), ('다', 'EF'), ('.', 'SF'), ('영화', 'NNG'), ('를', 'JKO'), ('보', 'VV'), ('는', 'ETM'), ('중', 'NNB'), ('이', 'VCP'), ('었', 'EP'), ('다', 'EF'), ('.', 'SF'), ('일본인', 'NNG'), ('경호', 'NNP'), ('대장', 'NNP'), ('역', 'NNG'), ('을', 'JKO'), ('하', 'VV'), ('는', 'ETM'), ('배우', 'NNG'), ('를', 'JKO'), ('분명', 'MAG'), ('알', 'VV'), ('는데', 'EC'), ('이름', 'NNG'), ('이', 'JKS'), ('떠오르', 'VV'), ('지', 'EC'), ('않', 'VX'), ('는다', 'EF'), ('.', 'SF'), ('박', 'NNP'), ('...', 'SE'), ('.', 'SF'), ('뭐', 'NP'), ('같', 'VA'), ('은데', 'EF'), ('.', 'SF'), ('하', 'VV'), ('아', 'EC'), (',', 'SP'), ('맞', 'VV'), ('다', 'EC'), ('하', 'VV'), ('아', 'EC'), ('....', 'SE'), ('일', 'NNP'), ('?', 'SF'), ('아니', 'VCN'), ('ㄴ데', 'EC'), ('박', 'NNP'), ('뭐', 'NP'), ('지', 'EF'), ('?', 'SF'), ('박해', 'NNP'), ('....', 'SE'), ('.', 'SF'), ('영', 'NNP'), ('?', 'SF'), ('맞', 'VV'), ('다', 'EC'), ('박해', 'NNP'), ('영', 'NNP'), ('.', 'SF'), ('이상', 'XR'), ('하', 'XSA'), ('ㄴ데', 'EF'), ('?', 'SF'), ('아니', 'VCN'), ('ㄴ가', 'EF'), ('?', 'SF'), ('박', 'NNP'), (',', 'SP'), ('박', 'NNP'), (',', 'SP'), ('박', 'NNP'), (',', 'SP'), ('박', 'NNP'), (',', 'SP'), ('뭐', 'NP'), ('지', 'EF'), ('?', 'SF'), ('결국', 'MAG'), ('영화', 'NNG'), ('가', 'JKS'), ('끝나', 'VV'), ('ㄹ', 'ETM'), ('때', 'NNG'), ('까지', 'JX'), ('그', 'MM'), ('배우', 'NNP'), ('의', 'JKG'), ('이름', 'NNG'), ('은', 'JX'), ('기억나', 'VV'), ('지', 'EC'), ('않', 'VX'), ('았', 'EP'), ('다', 'EF'), ('.', 'SF'), ('신기', 'XR'), ('하', 'XSA'), ('ㄴ', 'ETM'), ('건', 'NNB'), (',', 'SP'), ('박해', 'NNP'), (',', 'SP'), ('까지', 'VV'), ('는', 'ETM'), ('떠오르', 'VV'), ('았', 'EP'), ('다는', 'ETM'), ('점', 'NNB'), ('이', 'VCP'), ('다', 'EF'), ('.', 'SF'), ('엔', 'NNG'), ('딩', 'MAG'), ('크레딧', 'NNG'), ('이', 'JKS'), ('올라가', 'VV'), ('ㄹ', 'ETM'), ('때', 'NNG'), ('그', 'MM'), ('이름', 'NNG'), ('이', 'JKS'), ('올라가', 'VV'), ('ㄴ다', 'EF'), ('.', 'SF'), ('박', 'NNP'), ('.', 'SF'), ('하', 'VV'), ('아', 'EF'), ('.', 'SF'), ('수', 'NNB'), ('.', 'SF'), ('그', 'MM'), ('참', 'MAG'), ('이상', 'XR'), ('하', 'XSA'), ('다', 'EF'), ('.', 'SF'), ('왜', 'MAG'), ('꼭', 'MAG'), ('한', 'MM'), ('글자', 'NNG'), ('가', 'JKS'), ('기억나', 'VV'), ('지', 'EC'), ('않', 'VX'), ('는', 'ETM'), ('걸', 'VV'), ('ㄹ까', 'EF'), ('?', 'SF')]\n"
     ]
    }
   ],
   "source": [
    "komoran = Komoran()\n",
    "pos = komoran.pos(text)\n",
    "print(pos)"
   ]
  },
  {
   "cell_type": "code",
   "execution_count": 272,
   "metadata": {},
   "outputs": [
    {
     "data": {
      "text/plain": [
       "['미시령고개',\n",
       " '울산바지',\n",
       " '일명울산바지사건',\n",
       " '30년',\n",
       " '때사골',\n",
       " '단골레퍼토리',\n",
       " '때동생',\n",
       " '삼십대',\n",
       " '말실수',\n",
       " '모르나동생',\n",
       " '어휘실수',\n",
       " '식사자리',\n",
       " '내동생',\n",
       " '말실수',\n",
       " '대인배로',\n",
       " '요즘내증세이',\n",
       " '거기그것옆',\n",
       " '송년가족모임준비상황',\n",
       " '요리대첩',\n",
       " '내담당',\n",
       " '튀김젓가락',\n",
       " '주변말',\n",
       " '상황사람',\n",
       " '단어하나',\n",
       " '사람이름',\n",
       " '영화제목',\n",
       " '소설속',\n",
       " '주인공모친',\n",
       " '당신안경',\n",
       " '일본인경호대장역',\n",
       " '박뭐',\n",
       " '박해영']"
      ]
     },
     "execution_count": 272,
     "metadata": {},
     "output_type": "execute_result"
    }
   ],
   "source": [
    "komoran = Komoran()\n",
    "pos = komoran.pos(text)\n",
    "\n",
    "np_list = []\n",
    "np = ''\n",
    "cnt = 0\n",
    "for tup in pos:\n",
    "    if 'N' in tup[1]:\n",
    "        np = np + tup[0]\n",
    "        cnt += 1\n",
    "        \n",
    "    elif np != '' and cnt != 1:\n",
    "        np_list.append(np)\n",
    "        np = ''\n",
    "        cnt = 0\n",
    "    else:\n",
    "        np = ''\n",
    "        cnt = 0\n",
    "\n",
    "np_list"
   ]
  }
 ],
 "metadata": {
  "kernelspec": {
   "display_name": "koelectra",
   "language": "python",
   "name": "koelectra"
  },
  "language_info": {
   "codemirror_mode": {
    "name": "ipython",
    "version": 3
   },
   "file_extension": ".py",
   "mimetype": "text/x-python",
   "name": "python",
   "nbconvert_exporter": "python",
   "pygments_lexer": "ipython3",
   "version": "3.9.16"
  }
 },
 "nbformat": 4,
 "nbformat_minor": 4
}
