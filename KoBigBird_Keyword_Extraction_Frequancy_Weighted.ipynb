{
 "cells": [
  {
   "cell_type": "markdown",
   "metadata": {},
   "source": [
    "# KoBigBird_Keyword_Extraction_Frequancy_Weighted\n",
    "\n",
    "기존 방법에 빈도수에 따른 Frequancy_Weightt를 반영하는 모델"
   ]
  },
  {
   "cell_type": "markdown",
   "metadata": {},
   "source": [
    "## 본문 키워드 형태소 분석하여 후보 키워드 추출하기\n",
    "\n",
    "형태소 분석기 komoran을 사용하기 위해 konlpy 설치"
   ]
  },
  {
   "cell_type": "code",
   "execution_count": null,
   "metadata": {},
   "outputs": [],
   "source": [
    "#!pip install konlpy"
   ]
  },
  {
   "cell_type": "markdown",
   "metadata": {},
   "source": [
    "### 불용어 제거 함수 정의"
   ]
  },
  {
   "cell_type": "code",
   "execution_count": 142,
   "metadata": {},
   "outputs": [],
   "source": [
    "def remove_stopwords(nouns_list, stopword_set):\n",
    "#     for noun in nouns_list[:]: # 원소를 삭제하는 과정에서 누락이 발생하기 때문에 [:]를 통해 리스트의 복사본을 주어야 함.\n",
    "#         if noun in stopword_set:\n",
    "#             nouns_list.remove(noun)\n",
    "    arr_removed = [n for n in nouns_list if n not in stopword_set]\n",
    "    return arr_removed"
   ]
  },
  {
   "cell_type": "markdown",
   "metadata": {},
   "source": [
    "영어 불용어 받아오기"
   ]
  },
  {
   "cell_type": "code",
   "execution_count": 122,
   "metadata": {},
   "outputs": [],
   "source": [
    "from nltk.corpus import stopwords as eng_stopwords\n",
    "\n",
    "eng_stopwords_set = set(eng_stopwords.words('english'))"
   ]
  },
  {
   "cell_type": "markdown",
   "metadata": {},
   "source": [
    "### 영어 단어 명사 추출 함수 정의"
   ]
  },
  {
   "cell_type": "code",
   "execution_count": 124,
   "metadata": {},
   "outputs": [],
   "source": [
    "import nltk\n",
    "\n",
    "from string import punctuation\n",
    "import re\n",
    "\n",
    "def get_nouns_eng(text):\n",
    "    # 명사 추출 시 url 제거\n",
    "    url_pattern = re.compile(r'http[s]?://(?:[a-zA-Z]|[0-9]|[$-_@.&+]|[!*\\(\\),]|(?:%[0-9a-fA-F][0-9a-fA-F]))+')\n",
    "    text = re.sub(url_pattern, '', text)\n",
    "    url_pattern = re.compile(r\"[-a-zA-Z0-9@:%._\\+~#=]{1,256}\\.[a-zA-Z0-9()]{2,6}\\b([-a-zA-Z0-9()@:%_\\+.~#?&//=]*)\")\n",
    "    text = re.sub(url_pattern, '', text)\n",
    "    \n",
    "    text = text.encode('utf-8').decode('ascii', 'ignore')\n",
    "\n",
    "    result = \"\"\n",
    "    for t in text:\n",
    "        if t not in punctuation:\n",
    "            result += t\n",
    "\n",
    "    text = result.strip()\n",
    "\n",
    "    word_tokens = nltk.word_tokenize(text)\n",
    "    tokens_pos = nltk.pos_tag(word_tokens)\n",
    "    NN_words = []\n",
    "    for word, pos in tokens_pos:\n",
    "        if 'NN' in pos or 'NNP' in pos:\n",
    "            NN_words.append(word)\n",
    "            \n",
    "    return NN_words"
   ]
  },
  {
   "cell_type": "markdown",
   "metadata": {},
   "source": [
    "## 불용어(stopwords) 사전 정의\n",
    "\n",
    "두 개의 한국어 불용어 사전을 이용"
   ]
  },
  {
   "cell_type": "code",
   "execution_count": 101,
   "metadata": {},
   "outputs": [
    {
     "name": "stdout",
     "output_type": "stream",
     "text": [
      "770\n"
     ]
    }
   ],
   "source": [
    "import csv\n",
    "\n",
    "stopwords = []\n",
    "with open('./data/stopwords/stopwords.txt', 'r') as f:\n",
    "    for line in f:\n",
    "        stopwords.append(line.rstrip('\\n'))\n",
    "\n",
    "with open('./data/stopwords/stopwords-ko.txt', 'r') as f:\n",
    "    for line in f:\n",
    "        stopwords.append(line.rstrip('\\n'))\n",
    "        \n",
    "with open('./data/stopwords/stopwords-np.txt', 'r') as f:\n",
    "    tsv_file = csv.reader(f, delimiter=\"\\t\")\n",
    "    for line in tsv_file:\n",
    "        stopwords.append(line[0])\n",
    "\n",
    "stopwords_set = set(stopwords)\n",
    "print(stopwords_set)"
   ]
  },
  {
   "cell_type": "markdown",
   "metadata": {},
   "source": [
    "### 명사구 추출 함수 정의"
   ]
  },
  {
   "cell_type": "code",
   "execution_count": 173,
   "metadata": {},
   "outputs": [],
   "source": [
    "import konlpy\n",
    "import nltk\n",
    "\n",
    "def get_nouns_phrase(text):\n",
    "    \n",
    "    phrases = []\n",
    "    words = konlpy.tag.Komoran().pos(text)\n",
    "\n",
    "    # Define a chunk grammar, or chunking rules, then chunk\n",
    "    grammar = \"\"\"\n",
    "    NP: {<N.*>*<Suffix>?}   # Noun phrase\n",
    "    \"\"\"\n",
    "    parser = nltk.RegexpParser(grammar)\n",
    "    chunks = parser.parse(words)\n",
    "\n",
    "\n",
    "    print(\"\\n# Print noun phrases only\")\n",
    "    for subtree in chunks.subtrees():\n",
    "        if subtree.label()=='NP':\n",
    "            phrases.append(' '.join((e[0] for e in list(subtree))))\n",
    "    return phrases"
   ]
  },
  {
   "cell_type": "markdown",
   "metadata": {},
   "source": [
    "### 각 형태소 분석기별 명사 추출 함수 정의\n",
    "\n",
    "형태소 분석을 통해 명사 추출, 불용어 제거, 영어 단어 추출하는 함수"
   ]
  },
  {
   "cell_type": "code",
   "execution_count": 170,
   "metadata": {},
   "outputs": [],
   "source": [
    "from konlpy.tag import Komoran\n",
    "from konlpy.tag import Kkma\n",
    "from konlpy.tag import Okt\n",
    "from collections import Counter\n",
    "\n",
    "def get_nouns_komoran(text, use_phrase=False):\n",
    "    komoran = Komoran()\n",
    "    nouns = komoran.nouns(text)\n",
    "    if use_phrase:\n",
    "        phrases = get_nouns_phrase(text)\n",
    "        nouns.extend(phrases)\n",
    "    eng_nouns = get_nouns_eng(text)\n",
    "    eng_nouns = [ n for n in eng_nouns if len(n) != 1 ]\n",
    "    eng_nouns = remove_stopwords(eng_nouns, eng_stopwords_set)\n",
    "    nouns.extend(eng_nouns)\n",
    "    nouns = remove_stopwords(nouns, stopwords_set)\n",
    "    counts = Counter(nouns)\n",
    "    nouns = set(nouns)\n",
    "    nouns = list(nouns)\n",
    "    \n",
    "    return nouns, counts\n",
    "\n",
    "def get_nouns_kkma(text):\n",
    "    kkma = Kkma()\n",
    "    nouns = kkma.nouns(text)\n",
    "    nuons = remove_stopwords(nouns, stopwords_set)\n",
    "    nouns = set(nouns)\n",
    "    nouns = list(nouns)\n",
    "    eng_nouns = get_nouns_eng(text)\n",
    "    eng_nouns = [ n for n in eng_nouns if len(n) != 1 ]\n",
    "    nouns.extend(eng_nouns)\n",
    "    return nouns\n",
    "\n",
    "def get_nouns_okt(text):\n",
    "    okt = Okt()\n",
    "    nouns = okt.nouns(text)\n",
    "    nuons = remove_stopwords(nouns, stopwords_set)\n",
    "    nouns = set(nouns)\n",
    "    nouns = list(nouns)\n",
    "    eng_nouns = get_nouns_eng(text)\n",
    "    eng_nouns = [ n for n in eng_nouns if len(n) != 1 ]\n",
    "    nouns.extend(eng_nouns)\n",
    "    \n",
    "    return nouns"
   ]
  },
  {
   "cell_type": "code",
   "execution_count": 6,
   "metadata": {},
   "outputs": [],
   "source": [
    "# sample_nouns = get_nouns_komoran(sample[1]['body_text'])\n",
    "# print(sample[1]['title'])\n",
    "# print(sample[1]['body_text']+'\\n')\n",
    "# print(sample_nouns)"
   ]
  },
  {
   "cell_type": "markdown",
   "metadata": {},
   "source": [
    "### 문장to문장 sts finetuning된 KoBigBird 모델 불러오기"
   ]
  },
  {
   "cell_type": "code",
   "execution_count": 7,
   "metadata": {
    "scrolled": false
   },
   "outputs": [
    {
     "name": "stderr",
     "output_type": "stream",
     "text": [
      "/home/user03/anaconda3/envs/koelectra/lib/python3.9/site-packages/tqdm/auto.py:22: TqdmWarning: IProgress not found. Please update jupyter and ipywidgets. See https://ipywidgets.readthedocs.io/en/stable/user_install.html\n",
      "  from .autonotebook import tqdm as notebook_tqdm\n",
      "Some weights of BigBirdModel were not initialized from the model checkpoint at ./model/saved_model_epoch_79.pt and are newly initialized: ['pooler.weight', 'pooler.bias']\n",
      "You should probably TRAIN this model on a down-stream task to be able to use it for predictions and inference.\n"
     ]
    }
   ],
   "source": [
    "from transformers import  AutoModel,AutoTokenizer\n",
    "model = AutoModel.from_pretrained(\"./model/saved_model_epoch_79.pt\")\n",
    "tokenizer = AutoTokenizer.from_pretrained(\"monologg/kobigbird-bert-base\")"
   ]
  },
  {
   "cell_type": "markdown",
   "metadata": {},
   "source": [
    "### 데이터 불러오기"
   ]
  },
  {
   "cell_type": "code",
   "execution_count": 8,
   "metadata": {},
   "outputs": [],
   "source": [
    "import jsonlines\n",
    "\n",
    "sample = []\n",
    "\n",
    "with jsonlines.open(\"./data/brunch/brunch_dataset_100.jsonl\") as f:\n",
    "    for line in f.iter():\n",
    "        sample.append(line)"
   ]
  },
  {
   "cell_type": "code",
   "execution_count": 9,
   "metadata": {},
   "outputs": [
    {
     "data": {
      "text/plain": [
       "{'title': '구글을 대체할 AI 챗봇 ChatGPT',\n",
       " 'sub_title': '브런치의 미래\\xa0',\n",
       " 'body_text': '\\n일론머스크와 샘알트만이 설립한 OpenAI에서 ChatGPT이라는 대화형 인공지능 챗봇을 선보였습니다. ChatGPT은 사용자와 주고받는 대화에서 질문에 답하도록 설계되어 있습니다. GPT는 질문에 답하는 것은 물론 정확하지 않은 전제에 대해 이의를 제기하기도 하고 부적절한 요청을 거부하는 등 마치 인격을 가진 인간과의 대화 구현이 가능합니다. \\n\\n이러한 GPT가 주목받게 된 것은 그 기능 자체의 뛰어남도 있지만 글로벌 기업인 구글의 모회사 CEO가 직접 언급하며 급속도로 기사화되었습니다. 구글에서 GPT를 경계하는 이유는 장기적으로 검색 엔진을 대체할 수 있을 것이라 염려 때문입니다. 현재의 검색 엔진은 사용자가 직접 검색 대상을 문법에 맞게 지시 내려야 합니다. 그러나 GPT는 대화형이기 때문에 누구나 손쉽게 이용할 수 있으며 더 다양한 정보를 (데이터)를 확보할 수 있습니다. \\n\\n제가 GPT에 관심을 갖게 된 것은 바로 GPT로 뛰어난 글을 작성할 수 있다는 부분 때문이었습니다. 실제로 해외 사용자들의 후기를  통해 GPT를 이용해 소설과 시를 썼다는 후기들을 손쉽게 볼 수 있습니다. \\n*GPT는 영어로 커뮤니케이션하는 것이 더 원활합니다. 한국어도 지원하나 정보가 적으며 구동이 느립니다.\\n\\n캐나다 언론인이자 임상 심리학자이자인 조던피터슨(Jordan Bernt Peterson)은 GPT의 위험성에 대해 이야기하였습니다. 그의 날카로운 지적과 더불어 해당 영상을 본 사람들의 반응 또한 높은 통찰을 보여주고 있습니다. (자세한 내용은 아래 연결된 링크에서 확인 가능합니다)\\n\\n과거 인터넷의 발달로 우리는 편리한 생활을 누리게 되었지만 그만큼 축소된 부분도 존재합니다. 그 부분은 바로 생각에 대한 영역입니다. 세계적인 경영컨설턴트이자 IT 미래학자인 니콜라스 카가 그의 저서 <생각하지 않는 사람들>에서 인터넷이 우리의 뇌 구조를 바꾸어 생각을 가볍고 얕게 만든다고 지적한 바 있습니다. \\n\\n이제는 이러한 문제를 넘어 기계가 사람을 대신해 생각하는 주체가 되어가고 있습니다. 우리는 GPT이 가진 위험성을 인식하고 생각하는 사람이 되기 위한 방법과 태도에 대해 고민해 보야할 때입니다. \\n\\n브런치는 정제된 글을 접할 수 있는 폐쇄형 블로그로 작가 지망생 분들과 글쓰기에 조예가 깊으신 분들을 자주 만날 수 있습니다. 미래에는 브런치에서 GPT이 작성한 글을 대신 업로드 하는 사람들이 많아질 수 도 있을 것 같습니다. \\n\\n[조던피터슨 Chat GPT 영상]\\nhttps://www.youtube.com/watch?v=ya-fUBldJio\\n',\n",
       " 'keyword': ['챗봇', 'AI', '미래'],\n",
       " 'likes': 76,\n",
       " 'post_date': ' 2023-01-18',\n",
       " 'post_url': 'https://brunch.co.kr/@jejung/178',\n",
       " 'author_id': '@jejung'}"
      ]
     },
     "execution_count": 9,
     "metadata": {},
     "output_type": "execute_result"
    }
   ],
   "source": [
    "sample[0]"
   ]
  },
  {
   "cell_type": "code",
   "execution_count": 10,
   "metadata": {},
   "outputs": [],
   "source": [
    "import torch\n",
    "import torch.nn as nn\n",
    "\n",
    "device = \"cuda\" if torch.cuda.is_available() else \"cpu\""
   ]
  },
  {
   "cell_type": "markdown",
   "metadata": {},
   "source": [
    "## 최종 키워드 추출 함수(빈도수에 따른 가중치 반영)"
   ]
  },
  {
   "cell_type": "code",
   "execution_count": 205,
   "metadata": {},
   "outputs": [],
   "source": [
    "def extract_main_keywords(nouns, counts, title, text, model, tokenizer, use_freq_w=False):\n",
    "    \n",
    "    tokenized_nouns = {}\n",
    "    for keyword in nouns:\n",
    "        tokenized_nouns[keyword] = tokenizer(keyword, max_length=32, padding='max_length', return_tensors='pt')\n",
    "    \n",
    "    keyword_vectors = {}\n",
    "    for keyword, tokenized in tokenized_nouns.items():\n",
    "        output = model(**tokenized.to(device))[0][:,0,:]\n",
    "        keyword_vectors[keyword] = output\n",
    "        \n",
    "    tokenized_title = tokenizer(title, max_length=128, padding=\"max_length\", return_tensors='pt')\n",
    "    tokenized_text = tokenizer(text, max_length=4096, padding=\"max_length\", return_tensors='pt')\n",
    "\n",
    "    title_vec = model(**tokenized_title.to(device))[0][:,0,:]\n",
    "    body_text_vec = model(**tokenized_text.to(device))[0][:,0,:]\n",
    "    \n",
    "    if use_freq_w:\n",
    "        total_words_counts = 0\n",
    "        for word, count in counts.items():\n",
    "            total_words_counts += count\n",
    "        print(total_words_counts)\n",
    "        \n",
    "        freq_w = {}\n",
    "    \n",
    "        for keyword in nouns:\n",
    "            if counts[keyword] <= 1:\n",
    "                freq_w[keyword] = 0\n",
    "                continue\n",
    "            freq_w[keyword] = counts[keyword]/total_words_counts\n",
    "        \n",
    "        print(freq_w)\n",
    "        for keyword, vec in keyword_vectors.items():\n",
    "            body_text_vec = ((freq_w[keyword]* vec) + body_text_vec)\n",
    "        \n",
    "        body_text_vec = body_text_vec/total_words_counts\n",
    "        \n",
    "    cos = nn.CosineSimilarity(dim=1, eps=1e-6)\n",
    "    similarity = {}\n",
    "\n",
    "    for keyword, vector in keyword_vectors.items():\n",
    "        sim = cos(vector,  title_vec*(0.2) + body_text_vec*(0.8))\n",
    "        similarity[keyword] = sim\n",
    "        \n",
    "    sorted_dict = sorted(similarity.items(), key = lambda item: item[1], reverse = True)\n",
    "    \n",
    "    # print(keyword_vectors)\n",
    "    print(f\"제목과 본문의 유사도 {cos(title_vec, body_text_vec)}\\n\")\n",
    "    print(title+'\\n')\n",
    "    print(text+'\\n')\n",
    "    print(sorted_dict,'\\n')\n",
    "    print(nouns)"
   ]
  },
  {
   "cell_type": "code",
   "execution_count": 213,
   "metadata": {
    "scrolled": false
   },
   "outputs": [
    {
     "name": "stdout",
     "output_type": "stream",
     "text": [
      "['환경보호', '에세이', '쓰레기']\n",
      "Counter({'쓰레기': 35, '아이들': 12, '발견': 10, '담배꽁초': 10, '사람': 9, '오늘': 8, '캔': 7, '엄마': 5, '화단': 5, '재활용': 5, '노력': 4, '사용': 4, '환경': 4, '위생': 4, '생각': 4, '공원': 4, '전복': 4, '음료수': 4, '맥주': 4, '사탕': 4, '모임': 3, '실천': 3, '동네': 3, '준비물': 3, '준비': 3, '담': 3, '장갑': 3, '코스': 3, '아파트': 3, '껍데기': 3, '칫솔': 3, '하수구': 3, '사진': 3, '봉지': 3, '길': 3, '마음': 2, '포항': 2, '해변': 2, '일상생활': 2, '작년': 2, '코로나': 2, '플라스틱': 2, '보호': 2, '한쪽': 2, '듯이': 2, '보니': 2, '시작': 2, '처음': 2, '봉투': 2, '집게': 2, '근처': 2, '비교': 2, '담배': 2, '웰치스': 2, '포도': 2, '마트': 2, '전단지': 2, '비닐': 2, '뱃': 2, '갑': 2, '길거리': 2, '활용': 2, '동참': 2, '보람': 2, '내일': 2, '채널': 1, '큐': 1, '프로그램': 1, '시선': 1, '바닷가': 1, '가에': 1, '바이러스': 1, '발생': 1, '이후': 1, '온라인': 1, '주문': 1, '문': 1, '물품': 1, '배': 1, '송': 1, '배달': 1, '음식': 1, '우리나라': 1, '국민': 1, '사용량': 1, '폭발': 1, '반면': 1, '결성': 1, '가의': 1, '물티슈': 1, '대신': 1, '손수건': 1, '기저귀': 1, '텃밭': 1, '수세미': 1, '재배': 1, '재래시장': 1, '통': 1, '물건': 1, '장': 1, '제품': 1, '포장': 1, '회사': 1, '건의': 1, '메일': 1, '적극': 1, '앞장': 1, '방송': 1, '감정': 1, '청결': 1, '일회용품': 1, '거리낌': 1, '본인': 1, '순환': 1, '모습': 1, '언가': 1, '가슴': 1, '가입': 1, '서울': 1, '결심': 1, '기념': 1, '발걸음': 1, '외출': 1, '사실은': 1, '바퀴': 1, '돌고': 1, '걸음': 1, '이내': 1, '부지런': 1, '경비': 1, '아저씨': 1, '덕분': 1, '아마': 1, '요리': 1, '영양': 1, '성인': 1, '흙': 1, '무더기': 1, '바닥': 1, '거지': 1, '이해': 1, '도로변': 1, '미': 1, '화원': 1, '청소': 1, '미세': 1, '강': 1, '바다': 1, '바닷속': 1, '물고기': 1, '해양': 1, '생태계': 1, '영향': 1, '생선': 1, '건강': 1, '악영향': 1, '맛': 1, '옷': 1, '손': 1, '이건': 1, '가량': 1, '주스': 1, '그림': 1, '땅콩': 1, '캐러멜': 1, '그레텔': 1, '동화처럼': 1, '할머님': 1, '할아버님': 1, '입': 1, '양이': 1, '위': 1, '냄새': 1, '포장지': 1, '일수': 1, '명함': 1, '문화상품권': 1, '장이': 1, '양심': 1, '일반': 1, '생활': 1, '날씨': 1, '의미': 1, '산책': 1, '인지': 1, '다리': 1, '기분': 1, '사실': 1, '2월 1일': 1, '운동': 1, '주변': 1, '지인': 1, '고민': 1, '단체': 1, '방': 1, '이야기': 1, '전해': 1, '주니': 1, '기회': 1, '제안': 1, '감사': 1, '모레': 1, '바람': 1, 'TV': 1, 'KBS': 1})\n",
      "391\n",
      "{'기회': 0, '해양': 0, '마음': 0.005115089514066497, '장갑': 0.0076726342710997444, '발걸음': 0, '돌고': 0, '마트': 0.005115089514066497, '일수': 0, '장이': 0, '일회용품': 0, '방송': 0, '채널': 0, '웰치스': 0.005115089514066497, '사실은': 0, '운동': 0, '재배': 0, '아마': 0, '갑': 0.005115089514066497, '통': 0, '문화상품권': 0, '동네': 0.0076726342710997444, '봉투': 0.005115089514066497, '산책': 0, '국민': 0, '물티슈': 0, '제품': 0, '문': 0, '바이러스': 0, '모레': 0, '청결': 0, '맛': 0, '온라인': 0, '해변': 0.005115089514066497, '물품': 0, '제안': 0, '엄마': 0.01278772378516624, '이내': 0, '포장지': 0, '사람': 0.023017902813299233, '명함': 0, '캐러멜': 0, '물건': 0, '발생': 0, '큐': 0, '그레텔': 0, '주변': 0, '음식': 0, '프로그램': 0, '보니': 0.005115089514066497, '반면': 0, '바람': 0, '우리나라': 0, '양이': 0, '악영향': 0, '대신': 0, '이해': 0, '포항': 0.005115089514066497, '앞장': 0, '코로나': 0.005115089514066497, '길거리': 0.005115089514066497, '아저씨': 0, '길': 0.0076726342710997444, '재활용': 0.01278772378516624, '보호': 0.005115089514066497, '영향': 0, '코스': 0.0076726342710997444, 'KBS': 0, '옷': 0, '전복': 0.010230179028132993, '사실': 0, '사용': 0.010230179028132993, '바다': 0, '바닷속': 0, '맥주': 0.010230179028132993, '시작': 0.005115089514066497, '가량': 0, '고민': 0, '포도': 0.005115089514066497, '인지': 0, '근처': 0.005115089514066497, '다리': 0, '메일': 0, '뱃': 0.005115089514066497, '할머님': 0, '배': 0, '노력': 0.010230179028132993, '아이들': 0.030690537084398978, '지인': 0, '플라스틱': 0.005115089514066497, '전해': 0, '비교': 0.005115089514066497, '감정': 0, '기저귀': 0, '처음': 0.005115089514066497, '폭발': 0, '공원': 0.010230179028132993, '집게': 0.005115089514066497, '바퀴': 0, '작년': 0.005115089514066497, '단체': 0, '화원': 0, '건강': 0, '동화처럼': 0, '순환': 0, '냄새': 0, '감사': 0, '듯이': 0.005115089514066497, '주니': 0, '입': 0, '생활': 0, '2월 1일': 0, '거지': 0, '가슴': 0, '바닥': 0, '봉지': 0.0076726342710997444, '활용': 0.005115089514066497, '화단': 0.01278772378516624, '결심': 0, '담': 0.0076726342710997444, '사진': 0.0076726342710997444, '언가': 0, '외출': 0, '텃밭': 0, '사탕': 0.010230179028132993, '건의': 0, '생선': 0, '캔': 0.017902813299232736, '이건': 0, '동참': 0.005115089514066497, '실천': 0.0076726342710997444, '거리낌': 0, '땅콩': 0, '비닐': 0.005115089514066497, '본인': 0, '발견': 0.02557544757033248, '송': 0, '부지런': 0, '가에': 0, '양심': 0, '재래시장': 0, '전단지': 0.005115089514066497, '일상생활': 0.005115089514066497, '쓰레기': 0.08951406649616368, '경비': 0, '의미': 0, '걸음': 0, '바닷가': 0, '보람': 0.005115089514066497, '모임': 0.0076726342710997444, '결성': 0, '일반': 0, '내일': 0.005115089514066497, '서울': 0, '가입': 0, '준비': 0.0076726342710997444, 'TV': 0, '위생': 0.010230179028132993, '모습': 0, '하수구': 0.0076726342710997444, '할아버님': 0, '영양': 0, '미': 0, '회사': 0, '물고기': 0, '도로변': 0, '덕분': 0, '청소': 0, '준비물': 0.0076726342710997444, '한쪽': 0.005115089514066497, '주스': 0, '흙': 0, '방': 0, '성인': 0, '강': 0, '담배': 0.005115089514066497, '기념': 0, '음료수': 0.010230179028132993, '날씨': 0, '칫솔': 0.0076726342710997444, '기분': 0, '주문': 0, '환경': 0.010230179028132993, '배달': 0, '수세미': 0, '요리': 0, '무더기': 0, '포장': 0, '장': 0, '적극': 0, '오늘': 0.020460358056265986, '껍데기': 0.0076726342710997444, '손수건': 0, '아파트': 0.0076726342710997444, '생태계': 0, '그림': 0, '담배꽁초': 0.02557544757033248, '사용량': 0, '위': 0, '이야기': 0, '가의': 0, '손': 0, '미세': 0, '시선': 0, '이후': 0, '생각': 0.010230179028132993}\n",
      "제목과 본문의 유사도 tensor([0.7327], device='cuda:0')\n",
      "\n",
      "우리 가족의 새로운 취미, 쓰레기 줍기.\n",
      "\n",
      " 얼마 전에 TV 채널을 돌리다가 우연히 KBS의 다큐 on이라는 프로그램에 시선을 빼앗겼다.쓰레기에 마음을 뺏긴 ''쓰맘쓰맘''엄마들은 포항 바닷가 해변가에 있는 쓰레기를 같이 줍기도 하고, 일상생활에서도 쓰레기를 줄이기 위해 함께 노력하는 멋진 엄마들이었다.참 신선했다. 작년에 코로나 19 바이러스가 발생한 이후로 사람들이 온라인 주문을 해서 문 앞에 물품을 배송받고, 배달 음식을 시켜먹으면서 그 어느 때보다도 우리나라 국민들의 플라스틱 사용량은 폭발적으로 늘어나고 있다고 한다. 반면 이 엄마들은 모임을 결성해서 해변가의 쓰레기를 줍고 일상생활에서는 물티슈 대신 손수건을 사용하고, 천기저귀를 사용하고, 텃밭에 직접 수세미를 재배하고, 재래시장에서 통에 물건을 담아 장을 보고, 제품 포장쓰레기를 줄이기 위해서 여러 회사들에 건의 메일을 보내는 등 적극적으로 환경을 보호하기 위해 앞장을 서고 있었다. 방송을 보는 내내 이상한 감정이 들었다.  한쪽에서는 위생, 청결을 위해서 일회용품을 거리낌 없이 넘칠 듯이 사용하고 있는데 다른 한쪽에서는 본인이 버린 쓰레기도 아닌데 모여서 줍고, 줍고, 또 줍고 선순환을 만들기 위해서 노력하는 모습을 보니 나도 무언가를 해야겠다는 생각이 내 가슴에 꿈틀거렸다.  내가 포항에 산다면 나도 쓰맘쓰맘 엄마들의 모임에 가입을 해서 같이 쓰레기도 줍고 싶었지만 나는 현재 서울에 살고 있기에 우리 집부터 쓰레기를 줄이기 위해 작은 실천을 해 보기로 결심했다.  그래서 오늘은 환경보호 실천의 시작을 기념하기 위해 아이들과 함께 동네 쓰레기를 처음으로 주워보았다. 먼저 준비물을 준비해 봤다.준비물: 쓰레기를 담을 큰 봉투, 내 위생장갑 1개, 아이들 위생장갑 2개, 아이들 집게 2개. (아이들 집게는 가져가려고 준비를 했지만 위생장갑으로도 쓰레기를 주울 수 있기에 굳이 가져가지는 않았다.) 준비물도 이미 집에 다 있었고 당장 오늘부터 쓰레기 줍기를 해 보고 싶어서 재빨리 준비를 하고 가벼운 발걸음으로 쓰레기를 주으러 아이들과 외출했다.(사실은 마음먹었을 때 당장 쓰레기를 주우러 나가지 않으면 당분간은 미루고 미루다 안 할지도 모르기에 오늘 쓰레기를 주으러 나갔다.) 코스는 아파트 단지부터 근처에 있는 공원을 한 바퀴를 돌고 집으로 돌아오는 코스. 8살, 5살 아이들의 걸음으로도 한 시간 이내의 코스여서 비교적 괜찮은 것 같아 이렇게 정했다.  아파트 단지를 나서자마자 우리는 쓰레기를 딱히 발견할 수가 없었다. '부지런한 경비아저씨들 덕분에 깨끗하게 잘 살고 있구먼'이라는 생각이 들 무렵 화단 속에서 전복 껍데기들이 발견되었다. '아마 집에서 전복 요리를 해 드셨을 텐데 전복 껍데기를 왜 화단 속에 버리셨을까?' 의아한 생각이 들었다. 아마도 전복 껍데기 속에 영양이 있을지도 몰라 화단에 두신 것 같았다.그리고 조금 더 걸어가자 버려진 지 꽤 오래된 듯이 보이는 성인의 칫솔 하나가 화단 흙에서 발견이 되었다. 칫솔은 보통 집에서 썼을 텐데 왜 화단 속에서 칫솔이 발견이 되었는지는 아직도 잘 모르겠다.  조금 더 걸어가자 담배꽁초들이 무더기로 발견이 되었다. 특히 하수구 근처에 담배꽁초가 너무나 많이 발견이 되어서 '왜 사람들은 잘 보이는 바닥이 아닌 하수구에 담배를 버리는 거지? ' 잘 이해가 안 되었다. 잘 보이는 도로변에 버리면 환경미화원분들도 청소하시기 쉬울 텐데...하수구에다 담배꽁초를 버리면 담배꽁초 속에 있는 미세 플라스틱이 강이나 바다로 흘러들어 갈 수 있어서 바닷속에 살고 있는 물고기들이나 해양 생태계에 안 좋은 영향을 미치고 이는 또 생선을 먹는 사람들의 건강에도 악영향을 끼칠 수 있다고 들어서 많이 속상했다.  그리고 웰치스 포도맛 음료수 캔도 발견이 되었는데 처음에는 빈 캔인 줄 알고 아이가 집었는데 캔 속에 음료수가 남아 있어서 아이 옷에도 손에도 음료수가 묻어 버렸다. '왜 맛있는 웰치스 음료수를 다 마시지도 않고 버렸을까?' 참 의아했다.  그리고 사진으로 찍지는 못했지만 아이가 또 맥주캔을 발견해서 쓰레기 봉지에 담았는데 맥주캔 속에 담배꽁초가 10개 이상이 담겨있어서 이건 재활용으로 버려도 담배꽁초 때문에 재활용이 되기가 어려울 것 같아 난감하였다.  약 한 시간 가량 아파트 단지와 동네 공원을 돌며 쓰레기를 주웠다. 가져간 커다란 흰 봉투는 어느새 마트 전단지며 각종 비닐류, 맥주캔, 포도주스 캔, 담배꽁초들, 무서운 사진이 담겨있는 담뱃갑(아이가 특히나 담뱃갑을 주울 때는 그림이 너무 무섭다며 쓰레기 줍기를 망설였었다.), 사탕 봉지들로 가득 찼다.   그리고 특이했던 점은 공원에서 땅콩 캐러멜 사탕이 마치 헨델과 그레텔 동화처럼 길을 알려주기라도 하듯이 길거리에 하나씩, 하나씩 버려져 있었다. 아마 어떤 할머님이나 할아버님이 입이 심심해서 사탕을 드시면서 사탕 봉지를 하나씩 하나씩 길에 버리고 걸어가신 듯했다. 모아진 쓰레기 양이 얼마나 되며 재활용할 수 있는 건 재활용을 또 해야 했기에 쓰레기들을 다 엎어보았다. 역시 단연 1위는 담배꽁초였다. 대충 세어봐도 30개가 넘는 듯했다. 담배꽁초들을 다 모아놓으니 담배냄새가 너무 심해서 아이들한테는 멀리 떨어져 있으라고 했다. 그리고 두 번째는 비닐 포장지도 많았고 일수 명함이나 마트 전단지들도 발견이 되었고 심지어 이미 사용한 문화상품권도 2장이 발견이 되었다. 사람들이 길거리에 버린 것은 쓰레기가 아니라 그들의 양심일 것 같은 생각이 들어서 씁쓸했다. 재활용할 수 있는 건 공원에서 재활용을 하고 담배꽁초가 담긴 맥주캔은 재활용이 안 될 것 같아 결국 일반쓰레기로 버렸다.  작년부터 시작된 코로나 19로 거의 집에서만 생활을 했기 때문에 쓰레기 줍기에 뒤늦게 동참했지만 오늘은 비교적 날씨도 포근했고 아이들과 의미 있는 시간을 보내며 산책도 해서 보람이 있었다. 집에 돌아오면서 아이들이 많이 걸어서 인지 다리가 많이 아프다고 해서 \"다음에도 쓰레기 줍기 해보고 싶어? 아니면 안 하고 싶어? \"하고 물었다. 그랬더니 아이들이 \" 또 해보고 싶어. 뿌듯하고 기분이 좋아\"라고 말하는 것이다. 사실 아이들이 걷다가 쓰레기 줍고 걷다가 쓰레기 줍고 주워도 주워도 쓰레기가 계속 나오니 힘들어해서 다음부터는 안 하고 싶다고 말할 줄 알았다. 오늘이 2월 1일이니 앞으로 매달 1일은 무조건 아이들과 쓰레기 줍기 하는 날로 정했다. 집에 돌아오면서 보니 우리가 쓰레기를 주우면서 걸어온 길이 아주 깨끗해 보여 마음도 뿌듯하고 개운했다.  물론 우리가 동네에서 쓰레기를 줍는다고 해서 크게 달라지지는 않겠지만 여러 사람들이 운동삼아 환경을 위해 쓰레기 줍기에 더 많이 동참해 준다면 오늘의 작은 실천이 헛되지 않을 것 같다.  집에 와서 주변 지인들과 쓰레기 줄이기를 고민하고 있는 엄마들의 모임 단체 톡방에 오늘 쓰레기를 주우면서 찍었던 사진과 보람이 있었다고 이야기를 전해주니 다른 엄마들도 다음에 기회가 된다면 같이 모여서 쓰레기를 줍자고 제안도 해주셔서 참 감사했다.  한 사람의 노력은 비록 미약할지라도 10 사람, 100 사람, 1000 사람들이 모여 함께 노력한다면 오늘보다는 더 나은 내일, 내일보다는 더 나은 모레가 기다리고 있지 않을까? 하는 작은 바람도 가져본다.  \n",
      "\n",
      "[('쓰레기', tensor([0.6955], device='cuda:0')), ('청소', tensor([0.6227], device='cuda:0')), ('환경', tensor([0.6079], device='cuda:0')), ('생태계', tensor([0.5893], device='cuda:0')), ('재활용', tensor([0.5782], device='cuda:0')), ('플라스틱', tensor([0.5755], device='cuda:0')), ('바닷가', tensor([0.5697], device='cuda:0')), ('청결', tensor([0.5576], device='cuda:0')), ('공원', tensor([0.5496], device='cuda:0')), ('일회용품', tensor([0.5219], device='cuda:0')), ('해변', tensor([0.5131], device='cuda:0')), ('담배꽁초', tensor([0.5120], device='cuda:0')), ('담', tensor([0.5082], device='cuda:0')), ('껍데기', tensor([0.5019], device='cuda:0')), ('봉투', tensor([0.4974], device='cuda:0')), ('위생', tensor([0.4958], device='cuda:0')), ('냄새', tensor([0.4948], device='cuda:0')), ('동네', tensor([0.4872], device='cuda:0')), ('수세미', tensor([0.4719], device='cuda:0')), ('흙', tensor([0.4686], device='cuda:0')), ('무더기', tensor([0.4643], device='cuda:0')), ('요리', tensor([0.4642], device='cuda:0')), ('비닐', tensor([0.4632], device='cuda:0')), ('산책', tensor([0.4613], device='cuda:0')), ('텃밭', tensor([0.4556], device='cuda:0')), ('바닷속', tensor([0.4543], device='cuda:0')), ('칫솔', tensor([0.4480], device='cuda:0')), ('하수구', tensor([0.4469], device='cuda:0')), ('물티슈', tensor([0.4393], device='cuda:0')), ('활용', tensor([0.4373], device='cuda:0')), ('바다', tensor([0.4370], device='cuda:0')), ('보람', tensor([0.4350], device='cuda:0')), ('발견', tensor([0.4295], device='cuda:0')), ('보니', tensor([0.4274], device='cuda:0')), ('기회', tensor([0.4234], device='cuda:0')), ('전복', tensor([0.4215], device='cuda:0')), ('사용', tensor([0.4203], device='cuda:0')), ('기저귀', tensor([0.4176], device='cuda:0')), ('땅콩', tensor([0.4161], device='cuda:0')), ('일반', tensor([0.4161], device='cuda:0')), ('코스', tensor([0.4129], device='cuda:0')), ('결성', tensor([0.4067], device='cuda:0')), ('맥주', tensor([0.4028], device='cuda:0')), ('포장지', tensor([0.4028], device='cuda:0')), ('우리나라', tensor([0.4023], device='cuda:0')), ('거지', tensor([0.4020], device='cuda:0')), ('일수', tensor([0.4014], device='cuda:0')), ('생선', tensor([0.4002], device='cuda:0')), ('일상생활', tensor([0.3999], device='cuda:0')), ('봉지', tensor([0.3993], device='cuda:0')), ('웰치스', tensor([0.3976], device='cuda:0')), ('동참', tensor([0.3968], device='cuda:0')), ('국민', tensor([0.3966], device='cuda:0')), ('통', tensor([0.3954], device='cuda:0')), ('화단', tensor([0.3952], device='cuda:0')), ('음료수', tensor([0.3944], device='cuda:0')), ('부지런', tensor([0.3942], device='cuda:0')), ('포장', tensor([0.3901], device='cuda:0')), ('송', tensor([0.3901], device='cuda:0')), ('주스', tensor([0.3883], device='cuda:0')), ('물고기', tensor([0.3880], device='cuda:0')), ('생활', tensor([0.3872], device='cuda:0')), ('바닥', tensor([0.3865], device='cuda:0')), ('덕분', tensor([0.3864], device='cuda:0')), ('재배', tensor([0.3859], device='cuda:0')), ('기분', tensor([0.3848], device='cuda:0')), ('거리낌', tensor([0.3838], device='cuda:0')), ('회사', tensor([0.3821], device='cuda:0')), ('제안', tensor([0.3787], device='cuda:0')), ('큐', tensor([0.3765], device='cuda:0')), ('준비물', tensor([0.3741], device='cuda:0')), ('메일', tensor([0.3731], device='cuda:0')), ('반면', tensor([0.3722], device='cuda:0')), ('사용량', tensor([0.3712], device='cuda:0')), ('화원', tensor([0.3680], device='cuda:0')), ('실천', tensor([0.3649], device='cuda:0')), ('순환', tensor([0.3643], device='cuda:0')), ('처음', tensor([0.3635], device='cuda:0')), ('손수건', tensor([0.3635], device='cuda:0')), ('길거리', tensor([0.3627], device='cuda:0')), ('문화상품권', tensor([0.3621], device='cuda:0')), ('건강', tensor([0.3619], device='cuda:0')), ('주니', tensor([0.3611], device='cuda:0')), ('할아버님', tensor([0.3598], device='cuda:0')), ('가에', tensor([0.3582], device='cuda:0')), ('해양', tensor([0.3578], device='cuda:0')), ('전단지', tensor([0.3572], device='cuda:0')), ('코로나', tensor([0.3561], device='cuda:0')), ('내일', tensor([0.3542], device='cuda:0')), ('악영향', tensor([0.3541], device='cuda:0')), ('주변', tensor([0.3535], device='cuda:0')), ('단체', tensor([0.3533], device='cuda:0')), ('담배', tensor([0.3529], device='cuda:0')), ('생각', tensor([0.3522], device='cuda:0')), ('외출', tensor([0.3496], device='cuda:0')), ('배달', tensor([0.3472], device='cuda:0')), ('대신', tensor([0.3446], device='cuda:0')), ('기념', tensor([0.3442], device='cuda:0')), ('캐러멜', tensor([0.3372], device='cuda:0')), ('시작', tensor([0.3372], device='cuda:0')), ('사탕', tensor([0.3360], device='cuda:0')), ('오늘', tensor([0.3340], device='cuda:0')), ('돌고', tensor([0.3340], device='cuda:0')), ('감사', tensor([0.3336], device='cuda:0')), ('캔', tensor([0.3315], device='cuda:0')), ('앞장', tensor([0.3315], device='cuda:0')), ('미', tensor([0.3315], device='cuda:0')), ('이후', tensor([0.3310], device='cuda:0')), ('양심', tensor([0.3304], device='cuda:0')), ('운동', tensor([0.3298], device='cuda:0')), ('집게', tensor([0.3293], device='cuda:0')), ('서울', tensor([0.3279], device='cuda:0')), ('맛', tensor([0.3263], device='cuda:0')), ('프로그램', tensor([0.3255], device='cuda:0')), ('준비', tensor([0.3231], device='cuda:0')), ('미세', tensor([0.3221], device='cuda:0')), ('그레텔', tensor([0.3208], device='cuda:0')), ('2월 1일', tensor([0.3198], device='cuda:0')), ('온라인', tensor([0.3184], device='cuda:0')), ('고민', tensor([0.3180], device='cuda:0')), ('포도', tensor([0.3172], device='cuda:0')), ('모레', tensor([0.3166], device='cuda:0')), ('위', tensor([0.3161], device='cuda:0')), ('보호', tensor([0.3122], device='cuda:0')), ('본인', tensor([0.3113], device='cuda:0')), ('발생', tensor([0.3101], device='cuda:0')), ('아파트', tensor([0.3100], device='cuda:0')), ('날씨', tensor([0.3082], device='cuda:0')), ('그림', tensor([0.3078], device='cuda:0')), ('적극', tensor([0.3074], device='cuda:0')), ('이내', tensor([0.3064], device='cuda:0')), ('영향', tensor([0.3060], device='cuda:0')), ('결심', tensor([0.3057], device='cuda:0')), ('가의', tensor([0.3053], device='cuda:0')), ('바람', tensor([0.3030], device='cuda:0')), ('동화처럼', tensor([0.3028], device='cuda:0')), ('포항', tensor([0.3026], device='cuda:0')), ('시선', tensor([0.3025], device='cuda:0')), ('재래시장', tensor([0.3020], device='cuda:0')), ('명함', tensor([0.3015], device='cuda:0')), ('길', tensor([0.2986], device='cuda:0')), ('물건', tensor([0.2985], device='cuda:0')), ('바이러스', tensor([0.2981], device='cuda:0')), ('의미', tensor([0.2975], device='cuda:0')), ('사진', tensor([0.2969], device='cuda:0')), ('지인', tensor([0.2950], device='cuda:0')), ('할머님', tensor([0.2950], device='cuda:0')), ('모임', tensor([0.2930], device='cuda:0')), ('제품', tensor([0.2929], device='cuda:0')), ('장이', tensor([0.2928], device='cuda:0')), ('폭발', tensor([0.2907], device='cuda:0')), ('근처', tensor([0.2893], device='cuda:0')), ('방', tensor([0.2889], device='cuda:0')), ('마음', tensor([0.2887], device='cuda:0')), ('경비', tensor([0.2863], device='cuda:0')), ('감정', tensor([0.2857], device='cuda:0')), ('인지', tensor([0.2857], device='cuda:0')), ('음식', tensor([0.2854], device='cuda:0')), ('물품', tensor([0.2848], device='cuda:0')), ('가슴', tensor([0.2835], device='cuda:0')), ('양이', tensor([0.2812], device='cuda:0')), ('노력', tensor([0.2792], device='cuda:0')), ('엄마', tensor([0.2766], device='cuda:0')), ('장', tensor([0.2759], device='cuda:0')), ('가입', tensor([0.2745], device='cuda:0')), ('걸음', tensor([0.2725], device='cuda:0')), ('채널', tensor([0.2719], device='cuda:0')), ('영양', tensor([0.2706], device='cuda:0')), ('뱃', tensor([0.2705], device='cuda:0')), ('모습', tensor([0.2691], device='cuda:0')), ('바퀴', tensor([0.2690], device='cuda:0')), ('문', tensor([0.2672], device='cuda:0')), ('작년', tensor([0.2652], device='cuda:0')), ('KBS', tensor([0.2651], device='cuda:0')), ('이해', tensor([0.2632], device='cuda:0')), ('TV', tensor([0.2630], device='cuda:0')), ('장갑', tensor([0.2627], device='cuda:0')), ('방송', tensor([0.2617], device='cuda:0')), ('마트', tensor([0.2609], device='cuda:0')), ('비교', tensor([0.2606], device='cuda:0')), ('건의', tensor([0.2603], device='cuda:0')), ('듯이', tensor([0.2600], device='cuda:0')), ('성인', tensor([0.2599], device='cuda:0')), ('배', tensor([0.2596], device='cuda:0')), ('사람', tensor([0.2554], device='cuda:0')), ('발걸음', tensor([0.2550], device='cuda:0')), ('가량', tensor([0.2539], device='cuda:0')), ('옷', tensor([0.2525], device='cuda:0')), ('아마', tensor([0.2502], device='cuda:0')), ('강', tensor([0.2478], device='cuda:0')), ('사실', tensor([0.2477], device='cuda:0')), ('사실은', tensor([0.2471], device='cuda:0')), ('갑', tensor([0.2357], device='cuda:0')), ('이야기', tensor([0.2338], device='cuda:0')), ('입', tensor([0.2330], device='cuda:0')), ('도로변', tensor([0.2284], device='cuda:0')), ('아이들', tensor([0.2274], device='cuda:0')), ('이건', tensor([0.2244], device='cuda:0')), ('주문', tensor([0.2158], device='cuda:0')), ('언가', tensor([0.2143], device='cuda:0')), ('전해', tensor([0.2088], device='cuda:0')), ('한쪽', tensor([0.2072], device='cuda:0')), ('아저씨', tensor([0.1956], device='cuda:0')), ('손', tensor([0.1954], device='cuda:0')), ('다리', tensor([0.1582], device='cuda:0'))] \n",
      "\n",
      "['기회', '해양', '마음', '장갑', '발걸음', '돌고', '마트', '일수', '장이', '일회용품', '방송', '채널', '웰치스', '사실은', '운동', '재배', '아마', '갑', '통', '문화상품권', '동네', '봉투', '산책', '국민', '물티슈', '제품', '문', '바이러스', '모레', '청결', '맛', '온라인', '해변', '물품', '제안', '엄마', '이내', '포장지', '사람', '명함', '캐러멜', '물건', '발생', '큐', '그레텔', '주변', '음식', '프로그램', '보니', '반면', '바람', '우리나라', '양이', '악영향', '대신', '이해', '포항', '앞장', '코로나', '길거리', '아저씨', '길', '재활용', '보호', '영향', '코스', 'KBS', '옷', '전복', '사실', '사용', '바다', '바닷속', '맥주', '시작', '가량', '고민', '포도', '인지', '근처', '다리', '메일', '뱃', '할머님', '배', '노력', '아이들', '지인', '플라스틱', '전해', '비교', '감정', '기저귀', '처음', '폭발', '공원', '집게', '바퀴', '작년', '단체', '화원', '건강', '동화처럼', '순환', '냄새', '감사', '듯이', '주니', '입', '생활', '2월 1일', '거지', '가슴', '바닥', '봉지', '활용', '화단', '결심', '담', '사진', '언가', '외출', '텃밭', '사탕', '건의', '생선', '캔', '이건', '동참', '실천', '거리낌', '땅콩', '비닐', '본인', '발견', '송', '부지런', '가에', '양심', '재래시장', '전단지', '일상생활', '쓰레기', '경비', '의미', '걸음', '바닷가', '보람', '모임', '결성', '일반', '내일', '서울', '가입', '준비', 'TV', '위생', '모습', '하수구', '할아버님', '영양', '미', '회사', '물고기', '도로변', '덕분', '청소', '준비물', '한쪽', '주스', '흙', '방', '성인', '강', '담배', '기념', '음료수', '날씨', '칫솔', '기분', '주문', '환경', '배달', '수세미', '요리', '무더기', '포장', '장', '적극', '오늘', '껍데기', '손수건', '아파트', '생태계', '그림', '담배꽁초', '사용량', '위', '이야기', '가의', '손', '미세', '시선', '이후', '생각']\n"
     ]
    }
   ],
   "source": [
    "model.to('cuda')\n",
    "model.eval()\n",
    "\n",
    "sample_essay = sample[18003]\n",
    "\n",
    "with torch.no_grad():\n",
    "    print(sample_essay['keyword'])\n",
    "    \n",
    "    title = sample_essay['title']\n",
    "    text = sample_essay['body_text']\n",
    "    text = text.replace('\\n','').replace('\\t','').replace('\\r','') # 코모란 에러 방지\n",
    "    nouns, counts = get_nouns_komoran(text, use_phrase=False)\n",
    "    print(counts)\n",
    "    extract_main_keywords(nouns, counts, title, text, model, tokenizer, use_freq_w=True)"
   ]
  },
  {
   "cell_type": "markdown",
   "metadata": {},
   "source": [
    "구현해야 할 점\n",
    "\n",
    "* 단어를 배치단위로 입력하여 한번에 연산할 수 있게 변형\n",
    "* 빈도수에 따른 가중치 변환\n",
    "* 제목-본문 STS/NLI fine-tuning\n",
    "* 단어-제목 STS/NLI fine-tuning\n",
    "* 단어-본문 STS/NLI fine-tuning"
   ]
  },
  {
   "cell_type": "markdown",
   "metadata": {},
   "source": [
    "### kr-wordrank와 비교"
   ]
  },
  {
   "cell_type": "code",
   "execution_count": null,
   "metadata": {
    "scrolled": true
   },
   "outputs": [],
   "source": [
    "from krwordrank.word import KRWordRank\n",
    "\n",
    "min_count = 5   # 단어의 최소 출현 빈도수 (그래프 생성 시)\n",
    "max_length = 10 # 단어의 최대 길이\n",
    "wordrank_extractor = KRWordRank(min_count=min_count, max_length=max_length)\n",
    "\n",
    "beta = 0.85    # PageRank의 decaying factor beta\n",
    "max_iter = 10\n",
    "texts = [text]\n",
    "keywords, rank, graph = wordrank_extractor.extract(texts, beta, max_iter)\n",
    "\n",
    "for word, r in sorted(keywords.items(), key=lambda x:x[1], reverse=True)[:30]:\n",
    "        print('%8s:\\t%.4f' % (word, r))"
   ]
  },
  {
   "cell_type": "markdown",
   "metadata": {},
   "source": [
    "## 명사구 추출 코드"
   ]
  },
  {
   "cell_type": "code",
   "execution_count": 159,
   "metadata": {},
   "outputs": [
    {
     "name": "stdout",
     "output_type": "stream",
     "text": [
      "[('지나', 'VV'), ('ㄴ', 'ETM'), ('주말', 'NNP'), ('막', 'NNG'), ('둥', 'NNB'), ('이', 'NNP'), ('가', 'JKS'), ('오랜만', 'NNG'), ('에', 'JKB'), ('부루마불', 'NNP'), ('을', 'JKO'), ('만지작거리', 'VV'), ('더니', 'EC'), ('목소리', 'NNG'), ('를', 'JKO'), ('높이', 'VV'), ('어', 'EC'), ('누나', 'NNG'), ('를', 'JKO'), ('부르', 'VV'), ('ㄴ다', 'EF'), ('.', 'SF'), ('\"', 'SS'), ('누나', 'NNP'), ('아', 'NNP'), ('~', 'SO'), ('~', 'SO'), ('~', 'SO'), ('~', 'SO'), ('우리', 'NP'), ('부루마불', 'NNP'), ('하', 'VX'), ('ㄹ까', 'EF'), ('?', 'SF'), ('\"', 'SS'), ('\"', 'SS'), ('누', 'NNP'), ('\"', 'SS'), ('는', 'JX'), ('들리', 'VV'), ('ㄹ락', 'EC'), ('말', 'VX'), ('락', 'EC'), ('\"', 'SS'), ('나', 'NNP'), ('~', 'SO'), ('~', 'SO'), ('~', 'SO'), ('\"', 'SS'), ('는', 'JX'), ('길', 'NNG'), (':', 'SP'), ('게', 'NNG'), ('부르', 'VV'), ('는', 'ETM'), ('목소리', 'NNG'), ('가', 'JKS'), ('참', 'MAG'), ('귀엽', 'VA'), ('고', 'EC'), ('도', 'JX'), ('정겹', 'VA'), ('다', 'EF'), ('.', 'SF'), ('나이', 'NNP'), ('를', 'JKO'), ('먹', 'VV'), ('을수록', 'EC'), ('위', 'NNG'), ('로', 'JKB'), ('십', 'NR'), ('년', 'NNB'), ('아래', 'NNG'), ('로', 'JKB'), ('십', 'NR'), ('년', 'NNB'), ('은', 'JX'), ('바로', 'MAG'), ('친구', 'NNG'), ('를', 'JKO'), ('먹', 'VV'), ('게', 'EC'), ('되', 'VV'), ('는', 'ETM'), ('어른', 'NNG'), ('의', 'JKG'), ('세계', 'NNG'), ('와', 'JKB'), ('는', 'JX'), ('달리', 'MAG'), ('나이', 'NNG'), ('가', 'JKS'), ('어리', 'VA'), ('ㄹ수록', 'EC'), ('위계질서', 'NNG'), ('가', 'JKS'), ('철저', 'XR'), ('하', 'XSA'), ('ㄴ', 'ETM'), ('것', 'NNB'), ('은', 'JX'), ('참', 'MAG'), ('알', 'VV'), ('다가', 'EC'), ('도', 'JX'), ('모르', 'VV'), ('ㄹ', 'ETM'), ('일', 'NNB'), ('이', 'VCP'), ('다', 'EF'), ('.', 'SF'), ('키즈', 'NNG'), ('카페', 'NNP'), ('에서', 'JKB'), ('처음', 'NNG'), ('보', 'VV'), ('는', 'ETM'), ('아이와', 'NNP'), ('의견', 'NNG'), ('이', 'JKS'), ('안', 'MAG'), ('맞', 'VV'), ('아', 'EC'), ('살짝', 'MAG'), ('투', 'NNB'), ('다고', 'EC'), ('학', 'NNG'), ('거리', 'NNG'), ('ㄹ', 'JKO'), ('때', 'NNG'), ('에', 'JKB'), ('도', 'JX'), ('결국', 'MAG'), ('은', 'JX'), ('\"', 'SS'), ('야', 'IC'), ('~', 'SO'), ('!', 'SF'), ('너', 'NP'), ('몇', 'MM'), ('살', 'NNB'), ('이', 'VCP'), ('야', 'EC'), ('~', 'SO'), ('?', 'SF'), ('나', 'VV'), ('ㄴ', 'ETM'), ('아홉', 'NR'), ('살', 'NNB'), ('이', 'VCP'), ('거든', 'EF'), ('?', 'SF'), ('!', 'SF'), ('\"', 'SS'), ('하고', 'JKQ'), ('나이', 'NNG'), ('로', 'JKB'), ('사건', 'NNG'), ('을', 'JKO'), ('종결짓', 'VV'), ('는', 'ETM'), ('모습', 'NNG'), ('을', 'JKO'), ('보', 'VV'), ('고', 'EC'), ('있', 'VV'), ('자면', 'EC'), ('웃겨서', 'NA'), ('콧방귀', 'NNG'), ('가', 'JKS'), ('절로', 'MAG'), ('나오', 'VV'), ('니', 'EC'), ('말', 'NNG'), ('이', 'VCP'), ('다', 'EF'), ('.', 'SF'), ('우리', 'NNP'), ('아이들', 'NNP'), ('도꼬', 'NNP'), ('ㄹ랑', 'JX'), ('두', 'MM'), ('살', 'VV'), ('ㄹ', 'ETM'), ('밖', 'NNG'), ('에', 'JKB'), ('차이', 'NNG'), ('가', 'JKS'), ('안', 'MAG'), ('나', 'VV'), ('지만', 'EC'), ('동생', 'NNG'), ('이', 'JKS'), ('누나', 'NNG'), ('에게', 'JKB'), ('\"', 'SS'), ('야', 'IC'), ('\"', 'SS'), ('라고', 'JKQ'), ('하', 'VV'), ('면', 'EC'), ('누나', 'NNG'), ('가', 'JKS'), ('쪼르르', 'MAG'), ('나', 'NP'), ('에게', 'JKB'), ('달려오', 'VV'), ('아서', 'EC'), ('ㄴ', 'JX'), ('무슨', 'MM'), ('큰일', 'NNG'), ('이', 'VCP'), ('라도', 'EC'), ('나', 'VV'), ('ㄴ', 'ETM'), ('듯이', 'NNB'), ('흥분', 'NNG'), ('하', 'XSV'), ('아서', 'EC'), ('막', 'MAG'), ('하소연', 'NNG'), ('하', 'XSV'), ('듯', 'EC'), ('이르', 'VV'), ('ㄴ다', 'EF'), ('.', 'SF'), ('\"', 'SS'), ('엄마', 'NNP'), (',', 'SP'), ('엄마', 'NNG'), ('!', 'SF'), ('OO', 'SL'), ('가', 'JKS'), ('나', 'NP'), ('보고', 'JKB'), (\"'\", 'SS'), ('야', 'IC'), (\"'\", 'SS'), ('라고', 'JKQ'), ('하', 'VV'), ('았', 'EP'), ('어', 'EC'), ('~', 'SO'), ('!', 'SF'), ('\"', 'SS'), ('그럼', 'MAJ'), ('속', 'NNG'), ('으로', 'JKB'), ('는', 'JX'), ('\"', 'SS'), ('야', 'IC'), ('\"', 'SS'), ('가', 'JKS'), ('뭐', 'NP'), ('어떻', 'VA'), ('어서', 'EF'), ('?', 'SF'), ('하', 'VV'), ('고', 'EC'), ('나오', 'VV'), ('려는', 'ETM'), ('말', 'NNG'), ('을', 'JKO'), ('겨우', 'MAG'), ('붙잡', 'VV'), ('고', 'EC'), ('\"', 'SS'), ('OO', 'SL'), ('야', 'IC'), ('~', 'SO'), ('누나', 'NNG'), ('한테', 'JKB'), ('그러면', 'MAJ'), ('안', 'MAG'), ('되', 'VV'), ('지', 'EC'), ('~', 'SO'), ('.', 'SF'), ('\"', 'SS'), ('하고', 'JKQ'), ('중재', 'NNP'), ('를', 'JKO'), ('하', 'VV'), ('아', 'EC'), ('주', 'VX'), ('고', 'EC'), ('는', 'JX'), ('속', 'NNG'), ('으로', 'JKB'), ('픽', 'MAG'), ('웃', 'VV'), ('고', 'EC'), ('말', 'VX'), ('ㄴ다', 'EF'), ('.', 'SF'), ('누나', 'NNP'), ('~', 'SO'), ('~', 'SO'), ('~', 'SO'), ('~', 'SO'), ('부르', 'VV'), ('는', 'ETM'), ('소리', 'NNG'), ('에', 'JKB'), ('안방', 'NNG'), ('에서', 'JKB'), ('유튜브', 'NNP'), ('에', 'JKB'), ('심취', 'NNG'), ('하', 'XSV'), ('ㄴ', 'ETM'), ('누나', 'NNG'), ('가', 'JKS'), ('귀엽', 'VA'), ('ㄴ', 'ETM'), ('목소리', 'NNG'), ('로', 'JKB'), ('대답', 'NNG'), ('하', 'XSV'), ('ㄴ다', 'EF'), ('.', 'SF'), ('\"', 'SS'), ('그렇', 'VA'), ('ㄹ까', 'EC'), ('~', 'SO'), ('~', 'SO'), ('?', 'SF'), ('\"', 'SS'), ('오늘', 'NNP'), ('은', 'JX'), ('사이좋', 'VA'), ('은', 'ETM'), ('오누이', 'NNP'), ('컨셉', 'NNG'), ('이', 'VCP'), ('ㄴ가', 'EC'), ('보', 'VX'), ('다', 'EF'), ('.', 'SF'), ('대사', 'NNP'), ('들', 'XSN'), ('이', 'JKS'), ('드라마', 'NNG'), ('에서', 'JKB'), ('나', 'JX'), ('나오', 'VV'), ('ㄹ', 'ETM'), ('법', 'NNG'), ('하', 'XSV'), ('ㄴ', 'ETM'), ('아름답', 'VA'), ('고', 'EC'), ('도', 'JX'), ('듣', 'VV'), ('기', 'ETN'), ('좋', 'VA'), ('은', 'ETM'), ('전형', 'NNG'), ('적', 'XSN'), ('이', 'VCP'), ('ㄴ', 'ETM'), ('질문', 'NNG'), ('과', 'JC'), ('예', 'NNG'), ('의', 'JKG'), ('바른', 'NNP'), ('대답', 'NNG'), ('세트', 'NNG'), ('를', 'JKO'), ('보이', 'VV'), ('어', 'EC'), ('주', 'VX'), ('니', 'EC'), ('엄마', 'NNG'), ('로서', 'JKB'), ('참으로', 'MAG'), ('흐뭇', 'XR'), ('하', 'XSA'), ('게', 'EC'), ('듣', 'VV'), ('게', 'EC'), ('되', 'VV'), ('ㄴ다', 'EF'), ('.', 'SF'), ('잠시', 'MAG'), ('후', 'NNG'), ('요놈', 'NP'), ('들', 'XSN'), ('역시', 'MAJ'), ('나', 'JX'), ('무엇', 'NP'), ('ㄴ가', 'EC'), ('의견', 'NNG'), ('이', 'JKS'), ('잘', 'MAG'), ('안', 'MAG'), ('맞', 'VV'), ('는지', 'EC'), ('아니', 'VCN'), ('면', 'EC'), ('조그맣', 'VA'), ('ㄴ', 'ETM'), ('동생', 'NNG'), ('이', 'JKS'), ('귀여워', 'NNP'), ('누나', 'NNG'), ('가', 'JKS'), ('뭐', 'NP'), ('ㄴ가', 'EC'), ('꼼수', 'NNG'), ('를', 'JKO'), ('쓰', 'VV'), ('었', 'EP'), ('는지', 'EC'), ('뒤늦', 'VA'), ('게', 'EC'), ('알아채', 'VV'), ('ㄴ', 'ETM'), ('동생', 'NNG'), ('이', 'JKS'), ('느긋', 'XR'), ('하', 'XSA'), ('ㄴ', 'ETM'), ('목소리', 'NNG'), ('로', 'JKB'), ('하지만', 'MAJ'), ('위엄', 'NNG'), ('이', 'JKS'), ('가득', 'MAG'), ('하', 'XSV'), ('ㄴ', 'ETM'), ('목소리', 'NNG'), ('로', 'JKB'), ('한', 'MM'), ('마디', 'NNP'), ('하', 'VX'), ('ㄴ다', 'EF'), ('.', 'SF'), ('계속', 'NNG'), ('그렇', 'VA'), ('면', 'EC'), ('~', 'SO'), ('~', 'SO'), ('내가', 'VV'), ('~', 'SO'), ('~', 'SO'), ('성질', 'NNG'), ('을', 'JKO'), ('내', 'NP'), ('는', 'JX'), ('거', 'IC'), ('야', 'IC'), ('~', 'SO'), ('~', 'SO'), ('푸', 'VV'), ('하', 'VV'), ('하', 'VV'), ('성', 'XSN'), ('질', 'XSN'), ('에', 'JKB'), ('강조', 'NNG'), ('를', 'JKO'), ('하', 'VV'), ('며', 'EC'), ('여유', 'NNG'), ('롭', 'XSA'), ('ㄴ', 'ETM'), ('가락', 'NNG'), ('이', 'JKS'), ('붙', 'VV'), ('은', 'ETM'), ('대사', 'NNG'), ('에', 'JKB'), ('나', 'NP'), ('는', 'JX'), ('그만', 'MAG'), ('웃음', 'NNG'), ('이', 'JKS'), ('터지', 'VV'), ('고', 'EC'), ('말', 'VX'), ('았', 'EP'), ('다', 'EF'), ('.', 'SF'), ('막', 'NNG'), ('둥', 'NNB'), ('이', 'VCP'), ('는', 'ETM'), ('예고', 'NNG'), ('를', 'JKO'), ('하', 'VV'), ('았', 'EP'), ('다', 'EF'), ('.', 'SF'), ('일', 'NNP'), ('명', 'NNB'), ('경고', 'NNG'), ('성', 'XSN'), ('기분', 'NNG'), ('나쁘', 'VA'), ('ㅁ', 'ETN'), ('표시', 'NNG'), ('이', 'VCP'), ('다', 'EF'), ('.', 'SF'), ('일기예보', 'NNP'), ('하', 'XSV'), ('듯', 'EC'), (\"'\", 'SS'), ('내', 'NP'), ('기분', 'NNG'), ('이', 'JKS'), ('조금', 'NNG'), ('씩', 'XSN'), ('나빠지', 'VV'), ('는', 'ETM'), ('중', 'NNB'), ('이', 'VCP'), ('다', 'EF'), ('.', 'SF'), ('조만간', 'MAG'), ('성질', 'NNG'), ('을', 'JKO'), ('내', 'VV'), ('ㄹ', 'ETM'), ('수', 'NNB'), ('도', 'JX'), ('있', 'VX'), ('다', 'EF'), ('.', 'SF'), (\"'\", 'SS'), ('하', 'VV'), ('며', 'EC'), ('예고', 'NNG'), ('를', 'JKO'), ('하', 'VV'), ('고', 'EC'), ('있', 'VX'), ('었', 'EP'), ('다', 'EF'), ('.', 'SF'), ('오', 'NR'), ('~', 'SO'), ('~', 'SO'), ('무섭', 'VA'), ('ㄴ데', 'EF'), ('?', 'SF'), ('?', 'SF'), ('ㅋㅋ이', 'NA'), ('사람', 'NNG'), ('은', 'JX'), ('다', 'MAG'), ('좋', 'VA'), ('은데', 'EC'), ('가끔', 'MAG'), ('\"', 'SS'), ('욱', 'NA'), ('\"', 'SS'), ('하', 'VV'), ('ㄹ', 'ETM'), ('때', 'NNG'), ('가', 'JKS'), ('있', 'VX'), ('어요', 'EF'), ('.', 'SF'), ('그것', 'NP'), ('만', 'JX'), ('빼', 'VV'), ('면', 'EC'), ('참', 'MAG'), ('좋', 'VA'), ('은', 'ETM'), ('사람', 'NNG'), ('이', 'VCP'), ('에요', 'EF'), ('.', 'SF'), ('그렇', 'VA'), ('다', 'EF'), ('.', 'SF'), ('우리', 'NP'), ('는', 'JX'), ('평소', 'NNG'), ('마음', 'NNG'), ('에', 'JKB'), ('휴화산', 'NNP'), ('하나', 'NR'), ('씩', 'XSN'), ('은', 'JX'), ('다', 'MAG'), ('품', 'VV'), ('고', 'EC'), ('살', 'VV'), ('는지', 'EC'), ('도', 'JX'), ('모르', 'VV'), ('ㄴ다', 'EF'), ('.', 'SF'), ('그리고', 'MAJ'), ('일상', 'NNG'), ('이', 'JKS'), ('다소', 'MAG'), ('잔잔', 'XR'), ('하', 'XSA'), ('면', 'EC'), ('따분', 'XR'), ('하', 'XSA'), ('고', 'EC'), ('심심', 'XR'), ('하', 'XSA'), ('지', 'EC'), ('말', 'VX'), ('라고', 'EC'), ('한', 'MM'), ('번', 'NNB'), ('씩', 'XSN'), ('빵빵', 'MAG'), ('터트리', 'VV'), ('어', 'EC'), ('주', 'VX'), ('ㄴ다', 'EF'), ('.', 'SF'), ('왜', 'MAG'), ('그렇', 'VA'), ('ㄹ까', 'EF'), ('.', 'SF'), ('계속', 'MAG'), ('쌓', 'VV'), ('아', 'EC'), ('두', 'VX'), ('고', 'EC'), ('참', 'VV'), ('고', 'EC'), ('억누르', 'VV'), ('기', 'ETN'), ('때문', 'NNB'), ('이', 'JKS'), ('아니', 'VCN'), ('ㄹ까', 'EF'), ('.', 'SF'), ('좋', 'VA'), ('은', 'ETM'), ('사람', 'NNG'), ('으로', 'JKB'), ('보이', 'VV'), ('고', 'EC'), ('싶', 'VX'), ('어서', 'EC'), ('참', 'VV'), ('고', 'EC'), ('속', 'NNG'), ('이', 'JKS'), ('좁', 'VA'), ('은', 'ETM'), ('사람', 'NNG'), ('으로', 'JKB'), ('보이', 'VV'), ('기', 'ETN'), ('싫', 'VA'), ('어서', 'EC'), ('참', 'VV'), ('고', 'EC'), ('대인', 'NNP'), ('배', 'NNG'), ('처럼', 'JKB'), ('보이', 'VV'), ('고', 'EC'), ('싶', 'VX'), ('어', 'EC'), ('참', 'VV'), ('는다', 'EF'), ('.', 'SF'), ('인간', 'NNG'), ('이란', 'JX'), ('혼자', 'NNG'), ('서', 'JKB'), ('지내', 'VV'), ('ㄹ', 'ETM'), ('수', 'NNB'), ('가', 'JKS'), ('없', 'VA'), ('는', 'ETM'), ('존재', 'NNG'), ('이', 'VCP'), ('ㄴ데', 'EC'), ('어찌', 'MAG'), ('되', 'VV'), ('었', 'EP'), ('든', 'EC'), ('관계', 'NNG'), ('를', 'JKO'), ('맺', 'VV'), ('고', 'EC'), ('살아가', 'VV'), ('ㄹ', 'ETM'), ('수', 'NNB'), ('밖에', 'JX'), ('없', 'VA'), ('는', 'ETM'), ('존재', 'NNG'), ('이', 'VCP'), ('ㄴ데', 'EC'), ('매사', 'NNG'), ('에', 'JKB'), ('꾹꾹', 'MAG'), ('누르', 'VV'), ('어', 'EC'), ('참', 'VV'), ('고', 'EC'), ('삭히', 'VV'), ('고', 'EC'), ('쌓', 'VV'), ('아', 'EC'), ('두', 'VX'), ('는', 'ETM'), ('경향', 'NNG'), ('이', 'JKS'), ('없', 'VA'), ('지', 'EC'), ('않', 'VX'), ('다', 'EF'), ('.', 'SF'), ('그리고', 'MAJ'), ('는', 'JX'), ('어느', 'MM'), ('날', 'NNG'), ('참', 'VV'), ('다', 'EC'), ('참', 'VV'), ('다', 'EC'), ('빵', 'NNG'), ('~', 'SO'), ('!!!', 'NNP'), ('하', 'VV'), ('고', 'EC'), ('터지', 'VV'), ('어', 'EC'), ('버리', 'VX'), ('고', 'EC'), ('말', 'VX'), ('는', 'ETM'), ('것', 'NNB'), ('이', 'VCP'), ('다', 'EF'), ('.', 'SF'), ('그럼', 'MAJ'), ('무', 'XPN'), ('방비', 'NNG'), ('상태', 'NNG'), ('의', 'JKG'), ('상대', 'NNG'), ('는', 'JX'), ('\"', 'SS'), ('어이', 'NNP'), ('가', 'JKS'), ('없', 'VA'), ('네', 'EF'), ('?', 'SF'), ('\"', 'SS'), ('하', 'VV'), ('며', 'EC'), ('더', 'MAG'), ('크', 'VA'), ('ㄴ', 'ETM'), ('싸움', 'NNG'), ('이', 'JKS'), ('되', 'VV'), ('는', 'ETM'), ('것', 'NNB'), ('이', 'VCP'), ('다', 'EF'), ('.', 'SF'), ('일기', 'NNP'), ('예보', 'NNG'), ('에서', 'JKB'), ('\"', 'SS'), ('내일', 'NNP'), ('은', 'JX'), ('태풍', 'NNP'), ('을', 'JKO'), ('동반', 'NNG'), ('하', 'XSV'), ('ㄴ', 'ETM'), ('비', 'XPN'), ('소식', 'NNP'), ('이', 'JKS'), ('있', 'VX'), ('겠', 'EP'), ('습니다', 'EF'), ('.', 'SF'), ('\"', 'SS'), ('하', 'VV'), ('는', 'ETM'), ('것', 'NNB'), ('처럼', 'JKB'), ('*', 'SW'), ('그렇', 'VA'), ('게', 'EC'), ('말씀', 'NNG'), ('하', 'XSV'), ('시', 'EP'), ('니', 'EC'), ('좀', 'MAG'), ('서운해요~*어머~', 'NA'), ('OO', 'SL'), ('님', 'NNG'), ('~', 'SO'), ('그렇', 'VA'), ('게', 'EC'), ('안', 'MAG'), ('보', 'VV'), ('았', 'EP'), ('는데', 'EC'), ('좀', 'MAG'), ('실망', 'NNG'), ('이', 'VCP'), ('에요', 'EC'), ('~', 'SO'), ('*', 'SW'), ('저', 'MM'), ('왠지', 'MAG'), ('조금', 'MAG'), ('화가', 'NNG'), ('나', 'VV'), ('려고', 'EC'), ('하', 'VV'), ('ㄹ', 'ETM'), ('것', 'NNB'), ('같', 'VA'), ('아요', 'EC'), ('~', 'SO'), ('*', 'SW'), ('오늘', 'NNP'), ('기분', 'NNG'), ('이', 'JKS'), ('좀', 'MAG'), ('우울', 'NNG'), ('하', 'XSV'), ('아요', 'EC'), ('~', 'SO'), ('등등', 'NNB'), ('이렇', 'VA'), ('게', 'EC'), ('드라마', 'NNG'), ('에서', 'JKB'), ('나', 'JX'), ('있', 'VV'), ('을', 'ETM'), ('법', 'NNG'), ('하', 'XSV'), ('ㄴ', 'ETM'), ('대사', 'NNG'), ('를', 'JKO'), ('한', 'MM'), ('번', 'NNB'), ('씩', 'XSN'), ('건네', 'VV'), ('면', 'EC'), ('어떻', 'VA'), ('ㄹ까', 'EF'), ('.', 'SF'), ('나', 'NNP'), ('의', 'JKG'), ('기분', 'NNG'), ('상태', 'NNG'), ('가', 'JKS'), ('이러', 'XR'), ('하', 'XSA'), ('니', 'EC'), ('좀', 'MAG'), ('알', 'VV'), ('고', 'EC'), ('계', 'NNG'), ('시', 'VA'), ('어라', 'EC'), ('상대', 'NNG'), ('방아', 'NNP'), ('~', 'SO'), ('하', 'VV'), ('고', 'EC'), ('미리', 'MAG'), ('예고', 'NNG'), ('를', 'JKO'), ('하', 'VV'), ('ㄴ다면', 'EC'), ('깐', 'NNG'), ('죽', 'NNG'), ('거리', 'NNG'), ('ㄹ', 'JKO'), ('것', 'NNB'), ('도', 'JX'), ('조금', 'MAG'), ('참', 'VV'), ('고', 'EC'), ('무례', 'NNG'), ('하', 'XSV'), ('ㄴ', 'ETM'), ('말', 'NNG'), ('도', 'JX'), ('좀', 'MAG'), ('참', 'VV'), ('고', 'EC'), ('상대', 'NNG'), ('가', 'JKS'), ('좀', 'MAG'), ('미리', 'NNP'), ('미리', 'NNP'), ('조심', 'NNG'), ('하', 'XSV'), ('면서', 'EC'), ('살짝', 'MAG'), ('몸', 'NNG'), ('을', 'JKO'), ('사리', 'VV'), ('게', 'EC'), ('되', 'VV'), ('지', 'EC'), ('않', 'VX'), ('을까', 'EF'), ('.', 'SF'), ('덩달', 'VV'), ('아', 'EC'), ('내', 'NP'), ('속', 'NNG'), ('의', 'JKG'), ('휴화산', 'NNP'), ('도', 'JX'), ('힘들', 'VA'), ('게', 'EC'), ('뻥', 'NNG'), ('터지', 'VV'), ('ㄹ', 'ETM'), ('일', 'NNB'), ('도', 'JX'), ('없', 'VA'), ('고', 'EC'), ('말', 'NNG'), ('이', 'VCP'), ('다', 'EF'), ('.', 'SF')]\n"
     ]
    }
   ],
   "source": [
    "komoran = Komoran()\n",
    "pos = komoran.pos(text)\n",
    "print(pos)"
   ]
  },
  {
   "cell_type": "code",
   "execution_count": 160,
   "metadata": {},
   "outputs": [
    {
     "data": {
      "text/plain": [
       "['주말막둥이',\n",
       " '누나아',\n",
       " '우리부루마불',\n",
       " '십년아래',\n",
       " '십년',\n",
       " '키즈카페',\n",
       " '아이와의견',\n",
       " '학거리',\n",
       " '아홉살',\n",
       " '웃겨서콧방귀',\n",
       " '우리아이들도꼬',\n",
       " '듯이흥분',\n",
       " '오누이컨셉',\n",
       " '대사들',\n",
       " '전형적',\n",
       " '바른대답세트',\n",
       " '후요놈들',\n",
       " '귀여워누나',\n",
       " '성질',\n",
       " '막둥',\n",
       " '일명경고성기분',\n",
       " 'ㅁ표시',\n",
       " '내기분',\n",
       " '조금씩',\n",
       " 'ㅋㅋ이사람',\n",
       " '평소마음',\n",
       " '휴화산하나씩',\n",
       " '번씩',\n",
       " '기때문',\n",
       " '대인배',\n",
       " '무방비상태',\n",
       " '일기예보',\n",
       " '비소식',\n",
       " '오늘기분',\n",
       " '번씩',\n",
       " '기분상태',\n",
       " '상대방아',\n",
       " '깐죽거리',\n",
       " '미리미리조심',\n",
       " '내속']"
      ]
     },
     "execution_count": 160,
     "metadata": {},
     "output_type": "execute_result"
    }
   ],
   "source": [
    "komoran = Komoran()\n",
    "pos = komoran.pos(text)\n",
    "\n",
    "np_list = []\n",
    "np = ''\n",
    "cnt = 0\n",
    "for tup in pos:\n",
    "    if 'N' in tup[1]:\n",
    "        np = np + tup[0]\n",
    "        cnt += 1\n",
    "        \n",
    "    elif np != '' and cnt != 1:\n",
    "        np_list.append(np)\n",
    "        np = ''\n",
    "        cnt = 0\n",
    "    else:\n",
    "        np = ''\n",
    "        cnt = 0\n",
    "\n",
    "np_list"
   ]
  },
  {
   "cell_type": "code",
   "execution_count": 199,
   "metadata": {},
   "outputs": [
    {
     "name": "stdout",
     "output_type": "stream",
     "text": [
      "\n",
      "# Print noun phrases only\n",
      "지난 주말 막둥이\n",
      "만\n",
      "부루마불\n",
      "목소리\n",
      "누나\n",
      "누나\n",
      "우리 부루마불\n",
      "누\n",
      "들릴락 말락\n",
      "나\n",
      "길\n",
      "게\n",
      "목소리\n",
      "나이\n",
      "위로 십 년 아래\n",
      "십 년\n",
      "바로 친구\n",
      "어른\n",
      "세계\n",
      "달리 나이\n",
      "위계 질서\n",
      "것\n",
      "일이\n",
      "키즈 카페\n",
      "처음\n",
      "아이\n",
      "의견\n",
      "안\n",
      "살짝 투닥거릴 때\n",
      "은\n",
      "너 몇 살이\n",
      "난 아홉\n",
      "나이\n",
      "사건\n",
      "종결\n",
      "모습\n",
      "보고\n",
      "콧방귀\n",
      "절로 나오니 말\n",
      "우리 아이\n",
      "두 살\n",
      "차이\n",
      "안 나\n",
      "동생\n",
      "누나\n",
      "누나\n",
      "나\n",
      "선 무슨 큰일\n",
      "난 듯이\n",
      "막 하소연\n",
      "듯\n",
      "엄마\n",
      "엄마\n",
      "나 보고\n",
      "속\n",
      "뭐\n",
      "말\n",
      "겨우\n",
      "누나\n",
      "안\n",
      "중재\n",
      "속\n",
      "픽\n",
      "누나\n",
      "소리\n",
      "안방\n",
      "유튜브\n",
      "심취\n",
      "누나\n",
      "목소리\n",
      "대답\n",
      "오늘\n",
      "오누이 컨셉\n",
      "대사\n",
      "드라마\n",
      "법\n",
      "듣기\n",
      "전형\n",
      "질문\n",
      "예의\n",
      "대답 세트\n",
      "엄마 로서 참으로\n",
      "잠시 후\n",
      "놈\n",
      "역시\n",
      "무언가 의견\n",
      "안\n",
      "조그만 동생\n",
      "누나\n",
      "뭔가 꼼수\n",
      "동생\n",
      "목소리\n",
      "위엄\n",
      "목소리\n",
      "마디\n",
      "계속\n",
      "내\n",
      "성질\n",
      "성질\n",
      "강조\n",
      "여유\n",
      "가락\n",
      "대사\n",
      "나\n",
      "웃음\n",
      "막둥이\n",
      "예고\n",
      "일명 경고\n",
      "기분\n",
      "표시\n",
      "일기예보\n",
      "듯\n",
      "내 기분\n",
      "중이\n",
      "조만간 성질\n",
      "낼 수도\n",
      "예고\n",
      "오\n",
      "이 사람\n",
      "가끔\n",
      "욱\n",
      "때\n",
      "그것\n",
      "사람\n",
      "우리\n",
      "평소 마음\n",
      "휴화산 하나\n",
      "일상\n",
      "다소\n",
      "말\n",
      "번\n",
      "빵빵 터트려준다\n",
      "왜\n",
      "계속\n",
      "참고\n",
      "누르기 때문\n",
      "사람\n",
      "보이\n",
      "참고\n",
      "사람\n",
      "참고 대인배\n",
      "보이\n",
      "인간\n",
      "혼자\n",
      "수가\n",
      "존재\n",
      "어찌\n",
      "관계\n",
      "수\n",
      "존재\n",
      "매사\n",
      "꾹꾹\n",
      "참고\n",
      "경향\n",
      "날\n",
      "빵\n",
      "마는 것\n",
      "무방비 상태\n",
      "상대\n",
      "어이\n",
      "더\n",
      "싸움\n",
      "것\n",
      "일기 예보\n",
      "내일\n",
      "태풍\n",
      "동반\n",
      "비소 식이\n",
      "것\n",
      "말씀\n",
      "좀\n",
      "어머\n",
      "안\n",
      "좀 실망\n",
      "저\n",
      "조금 화가\n",
      "것\n",
      "오늘 기분\n",
      "좀\n",
      "등등\n",
      "드라마\n",
      "법\n",
      "대사\n",
      "번\n",
      "나\n",
      "기분 상태\n",
      "좀 알\n",
      "상대방\n",
      "미리 예고\n",
      "깐죽거릴 것\n",
      "조금 참고\n",
      "말\n",
      "좀 참고 상대\n",
      "좀 미리 미리\n",
      "살짝 몸\n",
      "사리\n",
      "덩달아 내 속\n",
      "휴화산\n",
      "뻥\n",
      "일도\n",
      "말\n"
     ]
    }
   ],
   "source": [
    "import konlpy\n",
    "import nltk\n",
    "\n",
    "# POS tag a sentence\n",
    "sentence = u'만 6세 이하의 초등학교 취학 전 자녀를 양육하기 위해서는'\n",
    "words = konlpy.tag.Twitter().pos(text)\n",
    "\n",
    "# Define a chunk grammar, or chunking rules, then chunk\n",
    "grammar = \"\"\"\n",
    "NP: {<N.*>*}   # Noun phrase\n",
    "\"\"\"\n",
    "parser = nltk.RegexpParser(grammar)\n",
    "chunks = parser.parse(words)\n",
    "\n",
    "\n",
    "print(\"\\n# Print noun phrases only\")\n",
    "for subtree in chunks.subtrees():\n",
    "    if subtree.label()=='NP':\n",
    "        print(' '.join((e[0] for e in list(subtree))))\n"
   ]
  },
  {
   "cell_type": "code",
   "execution_count": 196,
   "metadata": {},
   "outputs": [
    {
     "name": "stdout",
     "output_type": "stream",
     "text": [
      "[('지난', 'Noun'), ('주말', 'Noun'), ('막둥이', 'Noun'), ('가', 'Josa'), ('오랜', 'Modifier'), ('만', 'Noun'), ('에', 'Josa'), ('부루마불', 'Noun'), ('을', 'Josa'), ('만지작거리더니', 'Adjective'), ('목소리', 'Noun'), ('를', 'Josa'), ('높여', 'Verb'), ('누나', 'Noun'), ('를', 'Josa'), ('부른다', 'Verb'), ('.\"', 'Punctuation'), ('누나', 'Noun'), ('아', 'Josa'), ('~~~~', 'Punctuation'), ('우리', 'Noun'), ('부루마불', 'Noun'), ('할까', 'Verb'), ('?\"\"', 'Punctuation'), ('누', 'Noun'), ('\"', 'Punctuation'), ('는', 'Verb'), ('들릴락', 'Noun'), ('말락', 'Noun'), ('\"', 'Punctuation'), ('나', 'Noun'), ('~~~\"', 'Punctuation'), ('는', 'Verb'), ('길', 'Noun'), (':', 'Punctuation'), ('게', 'Noun'), ('부르는', 'Verb'), ('목소리', 'Noun'), ('가', 'Josa'), ('참', 'Verb'), ('귀엽고도', 'Adjective'), ('정겹다', 'Adjective'), ('.', 'Punctuation'), ('나이', 'Noun'), ('를', 'Josa'), ('먹을수록', 'Verb'), ('위로', 'Noun'), ('십', 'Noun'), ('년', 'Noun'), ('아래', 'Noun'), ('로', 'Josa'), ('십', 'Noun'), ('년', 'Noun'), ('은', 'Josa'), ('바로', 'Noun'), ('친구', 'Noun'), ('를', 'Josa'), ('먹게', 'Verb'), ('되는', 'Verb'), ('어른', 'Noun'), ('의', 'Josa'), ('세계', 'Noun'), ('와는', 'Josa'), ('달리', 'Noun'), ('나이', 'Noun'), ('가', 'Josa'), ('어릴수록', 'Verb'), ('위계', 'Noun'), ('질서', 'Noun'), ('가', 'Josa'), ('철저한', 'Adjective'), ('것', 'Noun'), ('은', 'Josa'), ('참', 'Verb'), ('알다가도', 'Verb'), ('모를', 'Verb'), ('일이', 'Noun'), ('다', 'Josa'), ('.', 'Punctuation'), ('키즈', 'Noun'), ('카페', 'Noun'), ('에서', 'Josa'), ('처음', 'Noun'), ('보는', 'Verb'), ('아이', 'Noun'), ('와', 'Josa'), ('의견', 'Noun'), ('이', 'Josa'), ('안', 'Noun'), ('맞아', 'Verb'), ('살짝', 'Noun'), ('투닥거릴', 'Noun'), ('때', 'Noun'), ('에도', 'Josa'), ('결국', 'Adverb'), ('은', 'Noun'), ('\"', 'Punctuation'), ('야', 'Exclamation'), ('~!', 'Punctuation'), ('너', 'Noun'), ('몇', 'Noun'), ('살이', 'Noun'), ('야', 'Josa'), ('~?', 'Punctuation'), ('난', 'Noun'), ('아홉', 'Noun'), ('살이거든', 'Verb'), ('?!\"', 'Punctuation'), ('하고', 'Verb'), ('나이', 'Noun'), ('로', 'Josa'), ('사건', 'Noun'), ('을', 'Josa'), ('종결', 'Noun'), ('짓는', 'Verb'), ('모습', 'Noun'), ('을', 'Josa'), ('보고', 'Noun'), ('있자면', 'Adjective'), ('웃겨서', 'Verb'), ('콧방귀', 'Noun'), ('가', 'Josa'), ('절로', 'Noun'), ('나오니', 'Noun'), ('말', 'Noun'), ('이다', 'Josa'), ('.', 'Punctuation'), ('우리', 'Noun'), ('아이', 'Noun'), ('들', 'Suffix'), ('도', 'Josa'), ('꼴랑', 'Adverb'), ('두', 'Noun'), ('살', 'Noun'), ('밖에', 'Josa'), ('차이', 'Noun'), ('가', 'Josa'), ('안', 'Noun'), ('나', 'Noun'), ('지만', 'Josa'), ('동생', 'Noun'), ('이', 'Josa'), ('누나', 'Noun'), ('에게', 'Josa'), ('\"', 'Punctuation'), ('야', 'Exclamation'), ('\"', 'Punctuation'), ('라고', 'Josa'), ('하면', 'Verb'), ('누나', 'Noun'), ('가', 'Josa'), ('쪼르르', 'Adverb'), ('나', 'Noun'), ('에게', 'Josa'), ('달려와', 'Verb'), ('선', 'Noun'), ('무슨', 'Noun'), ('큰일', 'Noun'), ('이라도', 'Josa'), ('난', 'Noun'), ('듯이', 'Noun'), ('흥분해서', 'Adjective'), ('막', 'Noun'), ('하소연', 'Noun'), ('하', 'Suffix'), ('듯', 'Noun'), ('이른다', 'Verb'), ('.', 'Punctuation'), ('\"', 'Punctuation'), ('엄마', 'Noun'), (',', 'Punctuation'), ('엄마', 'Noun'), ('!', 'Punctuation'), ('OO', 'Alpha'), ('가', 'Verb'), ('나', 'Noun'), ('보고', 'Noun'), (\"'\", 'Punctuation'), ('야', 'Exclamation'), (\"'\", 'Punctuation'), ('라고', 'Josa'), ('했어', 'Verb'), ('~!\"', 'Punctuation'), ('그럼', 'Adjective'), ('속', 'Noun'), ('으로는', 'Josa'), ('\"', 'Punctuation'), ('야', 'Exclamation'), ('\"', 'Punctuation'), ('가', 'Verb'), ('뭐', 'Noun'), ('어때서', 'Adjective'), ('?', 'Punctuation'), ('하고', 'Verb'), ('나오려는', 'Verb'), ('말', 'Noun'), ('을', 'Josa'), ('겨우', 'Noun'), ('붙잡고', 'Verb'), ('\"', 'Punctuation'), ('OO', 'Alpha'), ('야', 'Exclamation'), ('~', 'Punctuation'), ('누나', 'Noun'), ('한테', 'Josa'), ('그러면', 'Adverb'), ('안', 'Noun'), ('되지', 'Verb'), ('~.\"', 'Punctuation'), ('하고', 'Verb'), ('중재', 'Noun'), ('를', 'Josa'), ('해주고는', 'Verb'), ('속', 'Noun'), ('으로', 'Josa'), ('픽', 'Noun'), ('웃고', 'Verb'), ('만다', 'Verb'), ('.', 'Punctuation'), ('누나', 'Noun'), ('~~~~', 'Punctuation'), ('부르는', 'Verb'), ('소리', 'Noun'), ('에', 'Josa'), ('안방', 'Noun'), ('에서', 'Josa'), ('유튜브', 'Noun'), ('에', 'Josa'), ('심취', 'Noun'), ('한', 'Josa'), ('누나', 'Noun'), ('가', 'Josa'), ('귀여운', 'Adjective'), ('목소리', 'Noun'), ('로', 'Josa'), ('대답', 'Noun'), ('한', 'Josa'), ('다', 'Adverb'), ('.', 'Punctuation'), ('\"', 'Punctuation'), ('그럴까', 'Adjective'), ('~~?\"', 'Punctuation'), ('오늘', 'Noun'), ('은', 'Josa'), ('사이좋은', 'Adjective'), ('오누이', 'Noun'), ('컨셉', 'Noun'), ('인가', 'Josa'), ('보다', 'Verb'), ('.', 'Punctuation'), ('대사', 'Noun'), ('들', 'Suffix'), ('이', 'Josa'), ('드라마', 'Noun'), ('에서나', 'Josa'), ('나올', 'Verb'), ('법', 'Noun'), ('한', 'Josa'), ('아름답고도', 'Adjective'), ('듣기', 'Noun'), ('좋은', 'Adjective'), ('전형', 'Noun'), ('적', 'Suffix'), ('인', 'Josa'), ('질문', 'Noun'), ('과', 'Josa'), ('예의', 'Noun'), ('바른', 'Verb'), ('대답', 'Noun'), ('세트', 'Noun'), ('를', 'Josa'), ('보여주니', 'Verb'), ('엄마', 'Noun'), ('로서', 'Noun'), ('참으로', 'Noun'), ('흐뭇하게', 'Adjective'), ('듣게', 'Verb'), ('된다', 'Verb'), ('.', 'Punctuation'), ('잠시', 'Noun'), ('후', 'Noun'), ('요', 'Modifier'), ('놈', 'Noun'), ('들', 'Suffix'), ('역시', 'Noun'), ('나', 'Josa'), ('무언가', 'Noun'), ('의견', 'Noun'), ('이', 'Josa'), ('잘', 'Verb'), ('안', 'Noun'), ('맞는지', 'Verb'), ('아니면', 'Adjective'), ('조그만', 'Noun'), ('동생', 'Noun'), ('이', 'Josa'), ('귀여워', 'Adjective'), ('누나', 'Noun'), ('가', 'Josa'), ('뭔가', 'Noun'), ('꼼수', 'Noun'), ('를', 'Josa'), ('썼는지', 'Verb'), ('뒤늦게', 'Adjective'), ('알아챈', 'Verb'), ('동생', 'Noun'), ('이', 'Josa'), ('느긋한', 'Adjective'), ('목소리', 'Noun'), ('로', 'Josa'), ('하지만', 'Conjunction'), ('위엄', 'Noun'), ('이', 'Josa'), ('가득한', 'Adjective'), ('목소리', 'Noun'), ('로', 'Josa'), ('한', 'Verb'), ('마디', 'Noun'), ('한다', 'Verb'), ('.', 'Punctuation'), ('계속', 'Noun'), ('그러면', 'Adverb'), ('~~', 'Punctuation'), ('내', 'Noun'), ('가', 'Josa'), ('~~', 'Punctuation'), ('성질', 'Noun'), ('을', 'Josa'), ('내는', 'Verb'), ('거야', 'Eomi'), ('~~', 'Punctuation'), ('푸하하', 'Verb'), ('성질', 'Noun'), ('에', 'Josa'), ('강조', 'Noun'), ('를', 'Josa'), ('하며', 'Verb'), ('여유', 'Noun'), ('로운', 'Josa'), ('가락', 'Noun'), ('이', 'Josa'), ('붙은', 'Verb'), ('대사', 'Noun'), ('에', 'Josa'), ('나', 'Noun'), ('는', 'Josa'), ('그만', 'Adverb'), ('웃음', 'Noun'), ('이', 'Josa'), ('터지고', 'Verb'), ('말았다', 'Verb'), ('.', 'Punctuation'), ('막둥이', 'Noun'), ('는', 'Josa'), ('예고', 'Noun'), ('를', 'Josa'), ('했다', 'Verb'), ('.', 'Punctuation'), ('일명', 'Noun'), ('경고', 'Noun'), ('성', 'Suffix'), ('기분', 'Noun'), ('나쁨', 'Adjective'), ('표시', 'Noun'), ('이다', 'Josa'), ('.', 'Punctuation'), ('일기예보', 'Noun'), ('하', 'Suffix'), ('듯', 'Noun'), (\"'\", 'Punctuation'), ('내', 'Noun'), ('기분', 'Noun'), ('이', 'Josa'), ('조금씩', 'Adverb'), ('나빠지는', 'Verb'), ('중이', 'Noun'), ('다', 'Josa'), ('.', 'Punctuation'), ('조만간', 'Noun'), ('성질', 'Noun'), ('을', 'Josa'), ('낼', 'Noun'), ('수도', 'Noun'), ('있다', 'Adjective'), (\".'\", 'Punctuation'), ('하며', 'Verb'), ('예고', 'Noun'), ('를', 'Josa'), ('하고', 'Verb'), ('있었다', 'Adjective'), ('.', 'Punctuation'), ('오', 'Noun'), ('~~', 'Punctuation'), ('무서운데', 'Adjective'), ('??', 'Punctuation'), ('ㅋㅋ', 'KoreanParticle'), ('이', 'Noun'), ('사람', 'Noun'), ('은', 'Josa'), ('다', 'Adverb'), ('좋은데', 'Adjective'), ('가끔', 'Noun'), ('\"', 'Punctuation'), ('욱', 'Noun'), ('\"', 'Punctuation'), ('할', 'Verb'), ('때', 'Noun'), ('가', 'Josa'), ('있어요', 'Adjective'), ('.', 'Punctuation'), ('그것', 'Noun'), ('만', 'Josa'), ('빼면', 'Verb'), ('참', 'Verb'), ('좋은', 'Adjective'), ('사람', 'Noun'), ('이에요', 'Josa'), ('.', 'Punctuation'), ('그렇다', 'Adjective'), ('.', 'Punctuation'), ('우리', 'Noun'), ('는', 'Josa'), ('평소', 'Noun'), ('마음', 'Noun'), ('에', 'Josa'), ('휴화산', 'Noun'), ('하나', 'Noun'), ('씩', 'Suffix'), ('은', 'Josa'), ('다', 'Adverb'), ('품고', 'Verb'), ('사는지도', 'Verb'), ('모른다', 'Verb'), ('.', 'Punctuation'), ('그리고', 'Conjunction'), ('일상', 'Noun'), ('이', 'Josa'), ('다소', 'Noun'), ('잔잔하면', 'Adjective'), ('따분하고', 'Adjective'), ('심심하지', 'Adjective'), ('말', 'Noun'), ('라고', 'Josa'), ('한', 'Verb'), ('번', 'Noun'), ('씩', 'Suffix'), ('빵빵', 'Noun'), ('터트려준다', 'Noun'), ('.', 'Punctuation'), ('왜', 'Noun'), ('그럴까', 'Adjective'), ('.', 'Punctuation'), ('계속', 'Noun'), ('쌓아', 'Verb'), ('두고', 'Verb'), ('참고', 'Noun'), ('억', 'Modifier'), ('누르기', 'Noun'), ('때문', 'Noun'), ('이', 'Josa'), ('아닐까', 'Adjective'), ('.', 'Punctuation'), ('좋은', 'Adjective'), ('사람', 'Noun'), ('으로', 'Josa'), ('보이', 'Noun'), ('고', 'Josa'), ('싶어서', 'Verb'), ('참고', 'Noun'), ('속이', 'Verb'), ('좁은', 'Adjective'), ('사람', 'Noun'), ('으로', 'Josa'), ('보이기', 'Verb'), ('싫어서', 'Adjective'), ('참고', 'Noun'), ('대인배', 'Noun'), ('처럼', 'Josa'), ('보이', 'Noun'), ('고', 'Josa'), ('싶어', 'Verb'), ('참는다', 'Verb'), ('.', 'Punctuation'), ('인간', 'Noun'), ('이란', 'Josa'), ('혼자', 'Noun'), ('서', 'Josa'), ('지낼', 'Verb'), ('수가', 'Noun'), ('없는', 'Adjective'), ('존재', 'Noun'), ('인데', 'Josa'), ('어찌', 'Noun'), ('되었든', 'Verb'), ('관계', 'Noun'), ('를', 'Josa'), ('맺고', 'Verb'), ('살아갈', 'Verb'), ('수', 'Noun'), ('밖에', 'Josa'), ('없는', 'Adjective'), ('존재', 'Noun'), ('인데', 'Josa'), ('매사', 'Noun'), ('에', 'Josa'), ('꾹꾹', 'Noun'), ('눌러', 'Verb'), ('참고', 'Noun'), ('삭히고', 'Verb'), ('쌓아', 'Verb'), ('두는', 'Verb'), ('경향', 'Noun'), ('이', 'Josa'), ('없지', 'Adjective'), ('않다', 'Verb'), ('.', 'Punctuation'), ('그리고는', 'Verb'), ('어느', 'Adverb'), ('날', 'Noun'), ('참다', 'Verb'), ('참다', 'Verb'), ('빵', 'Noun'), ('~!!!', 'Punctuation'), ('하고', 'Verb'), ('터져', 'Verb'), ('버리고', 'Verb'), ('마는', 'Noun'), ('것', 'Noun'), ('이다', 'Josa'), ('.', 'Punctuation'), ('그럼', 'Adjective'), ('무방비', 'Noun'), ('상태', 'Noun'), ('의', 'Josa'), ('상대', 'Noun'), ('는', 'Josa'), ('\"', 'Punctuation'), ('어이', 'Noun'), ('가', 'Josa'), ('없네', 'Adjective'), ('?\"', 'Punctuation'), ('하며', 'Verb'), ('더', 'Noun'), ('큰', 'Verb'), ('싸움', 'Noun'), ('이', 'Josa'), ('되는', 'Verb'), ('것', 'Noun'), ('이다', 'Josa'), ('.', 'Punctuation'), ('일기', 'Noun'), ('예보', 'Noun'), ('에서', 'Josa'), ('\"', 'Punctuation'), ('내일', 'Noun'), ('은', 'Josa'), ('태풍', 'Noun'), ('을', 'Josa'), ('동반', 'Noun'), ('한', 'Josa'), ('비소', 'Noun'), ('식이', 'Noun'), ('있겠습니다', 'Adjective'), ('.\"', 'Punctuation'), ('하는', 'Verb'), ('것', 'Noun'), ('처럼', 'Josa'), ('*', 'Punctuation'), ('그렇게', 'Adverb'), ('말씀', 'Noun'), ('하시니', 'Verb'), ('좀', 'Noun'), ('서운해요', 'Adjective'), ('~*', 'Punctuation'), ('어머', 'Noun'), ('~', 'Punctuation'), ('OO', 'Alpha'), ('님', 'Suffix'), ('~', 'Punctuation'), ('그렇게', 'Adverb'), ('안', 'Noun'), ('봤는데', 'Verb'), ('좀', 'Noun'), ('실망', 'Noun'), ('이에요', 'Josa'), ('~*', 'Punctuation'), ('저', 'Noun'), ('왠지', 'Adverb'), ('조금', 'Noun'), ('화가', 'Noun'), ('나려고', 'Verb'), ('할', 'Verb'), ('것', 'Noun'), ('같아요', 'Adjective'), ('~*', 'Punctuation'), ('오늘', 'Noun'), ('기분', 'Noun'), ('이', 'Josa'), ('좀', 'Noun'), ('우울해요', 'Adjective'), ('~', 'Punctuation'), ('등등', 'Noun'), ('이렇게', 'Adverb'), ('드라마', 'Noun'), ('에서나', 'Josa'), ('있을', 'Adjective'), ('법', 'Noun'), ('한', 'Josa'), ('대사', 'Noun'), ('를', 'Josa'), ('한', 'Verb'), ('번', 'Noun'), ('씩', 'Suffix'), ('건네면', 'Verb'), ('어떨까', 'Adjective'), ('.', 'Punctuation'), ('나', 'Noun'), ('의', 'Josa'), ('기분', 'Noun'), ('상태', 'Noun'), ('가', 'Josa'), ('이러하니', 'Adjective'), ('좀', 'Noun'), ('알', 'Noun'), ('고', 'Josa'), ('계셔라', 'Adjective'), ('상대방', 'Noun'), ('아', 'Josa'), ('~', 'Punctuation'), ('하고', 'Verb'), ('미리', 'Noun'), ('예고', 'Noun'), ('를', 'Josa'), ('한다면', 'Verb'), ('깐죽거릴', 'Noun'), ('것', 'Noun'), ('도', 'Josa'), ('조금', 'Noun'), ('참고', 'Noun'), ('무례한', 'Adjective'), ('말', 'Noun'), ('도', 'Josa'), ('좀', 'Noun'), ('참고', 'Noun'), ('상대', 'Noun'), ('가', 'Josa'), ('좀', 'Noun'), ('미리', 'Noun'), ('미리', 'Noun'), ('조심하면서', 'Verb'), ('살짝', 'Noun'), ('몸', 'Noun'), ('을', 'Josa'), ('사리', 'Noun'), ('게', 'Josa'), ('되지', 'Verb'), ('않을까', 'Verb'), ('.', 'Punctuation'), ('덩달아', 'Noun'), ('내', 'Noun'), ('속', 'Noun'), ('의', 'Josa'), ('휴화산', 'Noun'), ('도', 'Josa'), ('힘들게', 'Adjective'), ('뻥', 'Noun'), ('터질', 'Verb'), ('일도', 'Noun'), ('없고', 'Adjective'), ('말', 'Noun'), ('이다', 'Josa'), ('.', 'Punctuation')]\n"
     ]
    }
   ],
   "source": [
    "print(words)"
   ]
  },
  {
   "cell_type": "code",
   "execution_count": null,
   "metadata": {},
   "outputs": [],
   "source": []
  },
  {
   "cell_type": "code",
   "execution_count": null,
   "metadata": {},
   "outputs": [],
   "source": []
  }
 ],
 "metadata": {
  "kernelspec": {
   "display_name": "koelectra",
   "language": "python",
   "name": "koelectra"
  },
  "language_info": {
   "codemirror_mode": {
    "name": "ipython",
    "version": 3
   },
   "file_extension": ".py",
   "mimetype": "text/x-python",
   "name": "python",
   "nbconvert_exporter": "python",
   "pygments_lexer": "ipython3",
   "version": "3.9.16"
  }
 },
 "nbformat": 4,
 "nbformat_minor": 4
}
