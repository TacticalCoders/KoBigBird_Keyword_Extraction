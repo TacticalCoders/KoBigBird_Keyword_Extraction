{
 "cells": [
  {
   "cell_type": "markdown",
   "metadata": {},
   "source": [
    "# KoBigBird_Keyword_Extraction_Frequancy_Weighted\n",
    "\n",
    "기존 방법에 빈도수에 따른 Frequancy_Weightt를 반영하는 모델"
   ]
  },
  {
   "cell_type": "markdown",
   "metadata": {},
   "source": [
    "## 본문 키워드 형태소 분석하여 후보 키워드 추출하기\n",
    "\n",
    "형태소 분석기 komoran을 사용하기 위해 konlpy 설치"
   ]
  },
  {
   "cell_type": "code",
   "execution_count": 1,
   "metadata": {},
   "outputs": [],
   "source": [
    "#!pip install konlpy"
   ]
  },
  {
   "cell_type": "markdown",
   "metadata": {},
   "source": [
    "### 불용어 제거 함수 정의"
   ]
  },
  {
   "cell_type": "code",
   "execution_count": 58,
   "metadata": {},
   "outputs": [],
   "source": [
    "def remove_stopwords(nouns, stopwords):\n",
    "    for n in nouns:\n",
    "        if n in stopwords:\n",
    "            nouns.remove(n)\n",
    "    return nouns"
   ]
  },
  {
   "cell_type": "markdown",
   "metadata": {},
   "source": [
    "영어 불용어 받아오기"
   ]
  },
  {
   "cell_type": "code",
   "execution_count": 41,
   "metadata": {},
   "outputs": [],
   "source": [
    "from nltk.corpus import stopwords as eng_stopwords\n",
    "\n",
    "eng_stopwords_set = set(eng_stopwords.words('english')) "
   ]
  },
  {
   "cell_type": "markdown",
   "metadata": {},
   "source": [
    "### 영어 단어 명사 추출 함수 정의"
   ]
  },
  {
   "cell_type": "code",
   "execution_count": 37,
   "metadata": {},
   "outputs": [],
   "source": [
    "import nltk\n",
    "\n",
    "from string import punctuation\n",
    "import re\n",
    "\n",
    "def get_nouns_eng(text):\n",
    "\n",
    "    # 명사 추출 시 url 제거\n",
    "    url_pattern = re.compile(r\"(?i)\\b((?:https?://|www\\d{0,3}[.]|[a-z0-9.\\-]+[.][a-z]{2,4}/)(?:[^\\s()<>]+|\\(([^\\s()<>]+|(\\([^\\s()<>]+\\)))*\\))+(?:\\(([^\\s()<>]+|(\\([^\\s()<>]+\\)))*\\)|[^\\s`!()\\[\\]{};:'\\\".,<>?«»“”‘’]))\")\n",
    "    text = re.sub(url_pattern, '', text)\n",
    "    \n",
    "    text = text.encode('utf-8').decode('ascii', 'ignore')\n",
    "\n",
    "    result = \"\"\n",
    "    for t in text:\n",
    "        if t not in punctuation:\n",
    "            result += t\n",
    "\n",
    "    text = result.strip()\n",
    "\n",
    "    word_tokens = nltk.word_tokenize(text)\n",
    "    tokens_pos = nltk.pos_tag(word_tokens)\n",
    "    NN_words = []\n",
    "    for word, pos in tokens_pos:\n",
    "        if 'NN' in pos or 'NNP' in pos:\n",
    "            NN_words.append(word)\n",
    "            \n",
    "    return NN_words"
   ]
  },
  {
   "cell_type": "markdown",
   "metadata": {},
   "source": [
    "## 불용어(stopwords) 사전 정의\n",
    "\n",
    "두 개의 한국어 불용어 사전을 이용"
   ]
  },
  {
   "cell_type": "code",
   "execution_count": 51,
   "metadata": {},
   "outputs": [
    {
     "name": "stdout",
     "output_type": "stream",
     "text": [
      "{'할지언정', '남들', '저희', '뒤이어', '다음으로', '알았어', '하물며', '더라도', '기준으로', '아하', '에', '끼익', '함께', '텐', '것', '도달하다', '이지만', '월', '이렇구나', '한다면 몰라도', '그러나', '=', '탕탕', '４', '예', '가지', '얼마', '기대여', '비걱거리다', '편', '》', '시각', '１', '만큼', '매번', '놀라다', '아무도', '가령', '대해서', '여보시오', '기점으로', '고로', '대로 하다', '하려고하다', '>', '않', '개의치않고', '힘입어', '뿐이다', '같이', '우리들', '뿐', '-', '인젠', '어떤것들', '운운', '다음', '도착하다', '총적으로 말하면', '펄렁', '?', '어찌', '설사', '아니나다를가', '즉시', '개', '더욱이는', '륙', '하도다', '허', '그렇게 함으로써', '관해서는', '어쨋든', '된바에야', '만이 아니다', '영', '이와 같다', '총적으로', '이천구', '훨씬', '까지 미치다', '따르', '그위에', '앞에서', '곳', '인', '중의하나', '｛', '쳇', '같', '소생', '이렇게 많은 것', '어떻', '버', '저것만큼', '어느것', '비하면', '그때', '삐걱거리다', '？', '등등', '나머지는', '대해 말하자면', '입장에서', '급', '어찌됏어', '1', '자', '이외에도', '어느때', '의해되다', '하든지', '연이서', '주', '어느해', '이렇', '거의', '의', '더욱더', '생각하', '＞', '그들', ',', '와아', '——', '한켠으로는', '지든지', '아이고', '향해서', '노', '차라리', '.', '영차', '중에서', '하는 김에', '이봐', '하기보다는', '：', '모르', '중', '옆사람', '반대로 말하자면', '우르르', '까악', '아니었다면', '만들', '아이야', '～', '아이구', '를', '요만한 것', '관계가 있다', '조차도', '당장', '따라서', '하면서', '결', '둘', '알', '+', '비길수 없다', '점에서 보아', '오히려', '남짓', '그래도', '참', '퍽', '거바', '하도록하다', '대하면', '헐떡헐떡', '어찌하여', '이르기까지', '일단', '때가 되어', '통하', '있', '하는것만 못하다', '관련이 있다', '6', '부터', '식', '이렇게말하자면', '、', '또', '어느 년도', '이러한', '６', '...', ')', '바로', '무릎쓰고', '여기', '하지만', '그것', '그래', '으로써', '누가 알겠는가', '＋', '만', '그리하여', '와르르', '자기', '팍', '바꾸어말하면', '7', '않기 위하여', '줄은모른다', '해요', '참나', '하게될것이다', '저기', ';', '각', '！', '둥둥', '문제', '할 줄 안다', '잠시', '여차', '에 있다', '어느곳', '더군다나', '야', '앗', '하마터면', '주저하지 않고', '마저도', '하면 할수록', '막론하고', '잘', '무렵', '어', '있다', '부류의 사람들', '단지', '우선', '과', '하지 않는다면', '번', '한다면', '어쩔수 없다', '이로 인하여', '걸', '사', '］', '그러', '너희들', '이천칠', '어느쪽', '양자', '여덟', '겨우', '그렇지', '하고 있다', '쪽으로', '오', '왜', '생각한대로', '댕그', '요만한걸', '만약에', '하나', '바', '다음에', '시작하여', '얼마만큼', '게다가', '예를 들자면', '이리하여', '점', '쯤', '이라면', '무엇', '하지마', '논하지 않다', '해야한다', '하게하다', '만 못하다', '하', '그중에서', '어떤', '그렇지않으면', '응', '하는바', '임에 틀림없다', '에 가서', '하지 않도록', '따위', '쉿', '칠', '본', '％', '우에 종합한것과같이', '~', '타인', '정도', '여러분', '원', '겸사겸사', '하기 위하여', '따라', '(', '그런즉', '몇', '한적이있다', '지', '다섯', '이 밖에', '어떻게', '그만이다', '이어서', '그러므로', '무슨', '＠', '즉', '구', '이와 같은', '꽈당', '그런', '예를 들면', '때문', '또한', '인 듯하다', '총적으로 보면', '한마디', '견지에서', '데', '했어요', '하면된다', '로써', '입각하여', '바꾸어서 말하면', '여부', '오직', '으로', '한 이유는', '—', '그치지 않다', '응당', '당신', '반대로', '좋', '그러니', '결론을 낼 수 있다', '９', '관하여', '오호', '한', '보는데서', '어기여차', '한 후', '삐걱', '하는것도', '제각기', '이 되다', '해도된다', '할뿐', '’', '저쪽', '*', '에게', '하여금', '일것이다', '이때', '여섯', '그럼', '가', '그러면', '다시말하면', '붕붕', '잠깐', '，', '０', '허걱', '구체적으로', '상대적으로 말하자면', '8', '〉', '싶', '설마', '앞의것', '타다', '이 외에', '할 생각이다', '８', '3', '이럴정도로', '더불어', '할만하다', '만일', '불문하고', '비로소', '하구나', '한때', '언제', '그러니까', '제', '＜', '어때', '２', '근거로', '자기집', '집', '대하여', '혼자', '수', '불구하고', '이용하여', '토하다', '거', '할망정', '분', '그에 따르는', '못하', '더', '말할것도 없고', '콸콸', '한 까닭에', '동시에', '아니', '그렇지 않다면', '할 따름이다', '본대로', '내', '할 지경이다', '＆', '그렇지 않으면', '등', '이것', '이었다', '형식으로 쓰여', '뿐만아니라', '마저', '너희', '이 정도의', '많', '0', '모두', '\\\\', '다', '년', '두', '한항목', '물론', '에 달려 있다', '좍좍', '한데', '혹은', '다만', '마', '위에서 서술한바와같이', '놓', '이쪽', '얼마큼', '그렇', '조금', '된이상', '이 때문에', '첫번째로', '앞', '할수있다', '헉', '모', '너', '시키다', '아이', '와', '자신', '령', '오로지', '하기 때문에', '비슷하다', '연관되다', '위하', '향하여', '이렇게되면', '비교적', '되', '하고있었다', '결과에 이르다', '외에도', '진짜로', '아니라면', '좀', '마치', '메쓰겁다', '툭', '&', '하곤하였다', '그리고', '것과 같이', '메', '두번째로', '건', '그러한즉', '그런데', '네', '아래윗', '언젠가', '예하면', '틈타', '할지라도', '＃', '말', '다수', '후', '다시 말하자면', '뒤따라', '우리', '누구', '엉엉', '；', '9', '시초에', '안', '의거하여', '통하여', '하겠는가', '그렇지만', '까지', '공동으로', '여전히', '살', '그저', '것들', '으로서', '기타', '（', '관계없이', '그래서', '약간', '일곱', '《', '자마자', '$', '７', '결국', '뿐만 아니라', '이상', '밖에 안된다', '어떠한', '다른 방면으로', '‘', '이와 반대로', '드', '어째서', '이곳', '고려하면', '이와같다면', '받', '거니와', '라 해도', '갖고말하자면', '4', '말하', '일반적으로', '알 수 있다', '｜', '저것', '|', '습니까', '헉헉', '줄은 몰랏다', '말하자면', '＊', '요만큼', '딱', '할줄알다', '경우', '얼마나', '퉤', '그', '얼마 안 되는 것', '으로 인하여', '조차', '각종', '휴', '매', '하도록시키다', '적', '%', '아이쿠', '따지지 않다', '휘익', '_', '바꾸어말하자면', '이', '솨', '그럼에도 불구하고', '보다더', '。', '각자', '다소', '이러이러하다', '같다', '바꾸어서 한다면', '쿵', '할때', '딩동', '의해서', '\"', '지금', '얼마든지', '씨', '요컨대', '근거하여', '어떻해', '시키', '혹시', '때', '습니다', '시간', '과연', '오르다', '이천팔', '안 그러면', '이번', '없', '세', '졸졸', '게우다', '을', '어떤것', '바꿔 말하면', '［', '하느니', '아무거나', '쾅쾅', '흥', '３', '5', '이젠', '향하다', '까지도', '넷', '든간에', '즈음하여', '일지라도', '“', '그런 까닭에', '^', '〈', '보', '윙윙', '나', '곧', '더구나', '동안', '실로', '어느', '2', '로 인하여', '무엇때문에', '뤼', '각각', '잇따라', '육', '하하', '할수있어', '답다', '까닭으로', '아홉', '끙끙', '저', '않기 위해서', '지만', \"'\", '전후', '허허', '”', '오자마자', '하는것이 낫다', '하자마자', '`', '소인', '얼마간', '봐', '어찌하든지', '주룩주룩', '해서는 안된다', '셋', '아울러', '<', '비추어 보아', '관한', '︿', '일', '크', '…', '일때', '좋아', '＄', '만약', '명', '정도에 이르다', '의해', '뚝뚝', '와 같은 사람들', '이런', '아', '때문에', '하기는한데', '왜냐하면', '전자', '이천육', '이유만으로', '）', '만은 아니다', '５', '제외하고', '구토하다', '@', '팔', '로부터', '지말고', '가까스로', '바와같이', '나오', '어이', '다른', '보드득', '어찌됏든', '다시', '하기에', '에 대해', '버금', '하는 편이 낫다', '심지어', '해도좋다', '｝', '봐라', '어디', '설령', '해봐요', '삼', '대하', '보이', '예컨대', '듯', '￥', '!', '아니면', '비록', '의지하여', '위해서', '이만큼', '하기만 하면', '할 힘이 있다', '이래', '·', '전', '반드시', '사회', '에 한하다', '위하여', '하더라도', '하지마라', '및', '에서', '아야', '여', '흐흐', '속', '리', '마음대로', '로', '들', '전부', '하여야'}\n"
     ]
    }
   ],
   "source": [
    "import csv\n",
    "\n",
    "stopwords = []\n",
    "with open('./data/stopwords/stopwords.txt', 'r') as f:\n",
    "    for line in f:\n",
    "        stopwords.append(line.rstrip('\\n'))\n",
    "\n",
    "with open('./data/stopwords/stopwords-ko.txt', 'r') as f:\n",
    "    for line in f:\n",
    "        stopwords.append(line.rstrip('\\n'))\n",
    "        \n",
    "with open('./data/stopwords/stopwords-np.txt', 'r') as f:\n",
    "    tsv_file = csv.reader(f, delimiter=\"\\t\")\n",
    "    for line in tsv_file:\n",
    "        stopwords.append(line[0])\n",
    "\n",
    "stopwords_set = set(stopwords)\n",
    "print(stopwords_set)"
   ]
  },
  {
   "cell_type": "markdown",
   "metadata": {},
   "source": [
    "### 각 형태소 분석기별 명사 추출 함수 정의\n",
    "\n",
    "형태소 분석을 통해 명사 추출, 불용어 제거, 영어 단어 추출하는 함수"
   ]
  },
  {
   "cell_type": "code",
   "execution_count": 78,
   "metadata": {},
   "outputs": [],
   "source": [
    "from konlpy.tag import Komoran\n",
    "from konlpy.tag import Kkma\n",
    "from konlpy.tag import Okt\n",
    "from collections import Counter\n",
    "\n",
    "def get_nouns_komoran(text):\n",
    "    komoran = Komoran()\n",
    "    nouns = komoran.nouns(text)\n",
    "    eng_nouns = get_nouns_eng(text)\n",
    "    eng_nouns = [ n for n in eng_nouns if len(n) != 1 ]\n",
    "    eng_nouns = remove_stopwords(eng_nouns, eng_stopwords_set)\n",
    "    nouns.extend(eng_nouns)\n",
    "    counts = Counter(nouns)\n",
    "    nouns = set(nouns)\n",
    "    nouns = list(nouns)\n",
    "    nouns = remove_stopwords(nouns, stopwords_set)\n",
    "    \n",
    "    return nouns, counts\n",
    "\n",
    "def get_nouns_kkma(text):\n",
    "    kkma = Kkma()\n",
    "    nouns = kkma.nouns(text)\n",
    "    nuons = remove_stopwords(nouns, stopwords_set)\n",
    "    nouns = set(nouns)\n",
    "    nouns = list(nouns)\n",
    "    eng_nouns = get_nouns_eng(text)\n",
    "    eng_nouns = [ n for n in eng_nouns if len(n) != 1 ]\n",
    "    nouns.extend(eng_nouns)\n",
    "    return nouns\n",
    "\n",
    "def get_nouns_okt(text):\n",
    "    okt = Okt()\n",
    "    nouns = okt.nouns(text)\n",
    "    nuons = remove_stopwords(nouns, stopwords_set)\n",
    "    nouns = set(nouns)\n",
    "    nouns = list(nouns)\n",
    "    eng_nouns = get_nouns_eng(text)\n",
    "    eng_nouns = [ n for n in eng_nouns if len(n) != 1 ]\n",
    "    nouns.extend(eng_nouns)\n",
    "    \n",
    "    return nouns"
   ]
  },
  {
   "cell_type": "code",
   "execution_count": 71,
   "metadata": {},
   "outputs": [],
   "source": [
    "# sample_nouns = get_nouns_komoran(sample[1]['body_text'])\n",
    "# print(sample[1]['title'])\n",
    "# print(sample[1]['body_text']+'\\n')\n",
    "# print(sample_nouns)"
   ]
  },
  {
   "cell_type": "markdown",
   "metadata": {},
   "source": [
    "### 문장to문장 sts finetuning된 KoBigBird 모델 불러오기"
   ]
  },
  {
   "cell_type": "code",
   "execution_count": 72,
   "metadata": {
    "scrolled": false
   },
   "outputs": [
    {
     "name": "stderr",
     "output_type": "stream",
     "text": [
      "Some weights of BigBirdModel were not initialized from the model checkpoint at ./model/saved_model_epoch_79.pt and are newly initialized: ['pooler.weight', 'pooler.bias']\n",
      "You should probably TRAIN this model on a down-stream task to be able to use it for predictions and inference.\n"
     ]
    }
   ],
   "source": [
    "from transformers import  AutoModel,AutoTokenizer\n",
    "model = AutoModel.from_pretrained(\"./model/saved_model_epoch_79.pt\")\n",
    "tokenizer = AutoTokenizer.from_pretrained(\"monologg/kobigbird-bert-base\")"
   ]
  },
  {
   "cell_type": "markdown",
   "metadata": {},
   "source": [
    "### 데이터 불러오기"
   ]
  },
  {
   "cell_type": "code",
   "execution_count": 73,
   "metadata": {},
   "outputs": [],
   "source": [
    "import jsonlines\n",
    "\n",
    "sample = []\n",
    "\n",
    "with jsonlines.open(\"./data/brunch/brunch_dataset_100.jsonl\") as f:\n",
    "    for line in f.iter():\n",
    "        sample.append(line)"
   ]
  },
  {
   "cell_type": "code",
   "execution_count": 74,
   "metadata": {},
   "outputs": [
    {
     "data": {
      "text/plain": [
       "{'title': '구글을 대체할 AI 챗봇 ChatGPT',\n",
       " 'sub_title': '브런치의 미래\\xa0',\n",
       " 'body_text': '\\n일론머스크와 샘알트만이 설립한 OpenAI에서 ChatGPT이라는 대화형 인공지능 챗봇을 선보였습니다. ChatGPT은 사용자와 주고받는 대화에서 질문에 답하도록 설계되어 있습니다. GPT는 질문에 답하는 것은 물론 정확하지 않은 전제에 대해 이의를 제기하기도 하고 부적절한 요청을 거부하는 등 마치 인격을 가진 인간과의 대화 구현이 가능합니다. \\n\\n이러한 GPT가 주목받게 된 것은 그 기능 자체의 뛰어남도 있지만 글로벌 기업인 구글의 모회사 CEO가 직접 언급하며 급속도로 기사화되었습니다. 구글에서 GPT를 경계하는 이유는 장기적으로 검색 엔진을 대체할 수 있을 것이라 염려 때문입니다. 현재의 검색 엔진은 사용자가 직접 검색 대상을 문법에 맞게 지시 내려야 합니다. 그러나 GPT는 대화형이기 때문에 누구나 손쉽게 이용할 수 있으며 더 다양한 정보를 (데이터)를 확보할 수 있습니다. \\n\\n제가 GPT에 관심을 갖게 된 것은 바로 GPT로 뛰어난 글을 작성할 수 있다는 부분 때문이었습니다. 실제로 해외 사용자들의 후기를  통해 GPT를 이용해 소설과 시를 썼다는 후기들을 손쉽게 볼 수 있습니다. \\n*GPT는 영어로 커뮤니케이션하는 것이 더 원활합니다. 한국어도 지원하나 정보가 적으며 구동이 느립니다.\\n\\n캐나다 언론인이자 임상 심리학자이자인 조던피터슨(Jordan Bernt Peterson)은 GPT의 위험성에 대해 이야기하였습니다. 그의 날카로운 지적과 더불어 해당 영상을 본 사람들의 반응 또한 높은 통찰을 보여주고 있습니다. (자세한 내용은 아래 연결된 링크에서 확인 가능합니다)\\n\\n과거 인터넷의 발달로 우리는 편리한 생활을 누리게 되었지만 그만큼 축소된 부분도 존재합니다. 그 부분은 바로 생각에 대한 영역입니다. 세계적인 경영컨설턴트이자 IT 미래학자인 니콜라스 카가 그의 저서 <생각하지 않는 사람들>에서 인터넷이 우리의 뇌 구조를 바꾸어 생각을 가볍고 얕게 만든다고 지적한 바 있습니다. \\n\\n이제는 이러한 문제를 넘어 기계가 사람을 대신해 생각하는 주체가 되어가고 있습니다. 우리는 GPT이 가진 위험성을 인식하고 생각하는 사람이 되기 위한 방법과 태도에 대해 고민해 보야할 때입니다. \\n\\n브런치는 정제된 글을 접할 수 있는 폐쇄형 블로그로 작가 지망생 분들과 글쓰기에 조예가 깊으신 분들을 자주 만날 수 있습니다. 미래에는 브런치에서 GPT이 작성한 글을 대신 업로드 하는 사람들이 많아질 수 도 있을 것 같습니다. \\n\\n[조던피터슨 Chat GPT 영상]\\nhttps://www.youtube.com/watch?v=ya-fUBldJio\\n',\n",
       " 'keyword': ['챗봇', 'AI', '미래'],\n",
       " 'likes': 76,\n",
       " 'post_date': ' 2023-01-18',\n",
       " 'post_url': 'https://brunch.co.kr/@jejung/178',\n",
       " 'author_id': '@jejung'}"
      ]
     },
     "execution_count": 74,
     "metadata": {},
     "output_type": "execute_result"
    }
   ],
   "source": [
    "sample[0]"
   ]
  },
  {
   "cell_type": "code",
   "execution_count": 75,
   "metadata": {},
   "outputs": [],
   "source": [
    "import torch\n",
    "import torch.nn as nn\n",
    "\n",
    "device = \"cuda\" if torch.cuda.is_available() else \"cpu\""
   ]
  },
  {
   "cell_type": "markdown",
   "metadata": {},
   "source": [
    "## 최종 키워드 추출 함수(빈도수에 따른 가중치 반영)"
   ]
  },
  {
   "cell_type": "code",
   "execution_count": 93,
   "metadata": {},
   "outputs": [],
   "source": [
    "def extract_main_keywords(nouns, counts, title, text, model, tokenizer, use_freq_w=False):\n",
    "    \n",
    "    tokenized_nouns = {}\n",
    "    for keyword in nouns:\n",
    "        tokenized_nouns[keyword] = tokenizer(keyword, max_length=32, padding='max_length', return_tensors='pt')\n",
    "    \n",
    "    keyword_vectors = {}\n",
    "    for keyword, tokenized in tokenized_nouns.items():\n",
    "        output = model(**tokenized.to(device))[0][:,0,:]\n",
    "        keyword_vectors[keyword] = output\n",
    "        \n",
    "    tokenized_title = tokenizer(title, max_length=128, padding=\"max_length\", return_tensors='pt')\n",
    "    tokenized_text = tokenizer(text, max_length=4096, padding=\"max_length\", return_tensors='pt')\n",
    "\n",
    "    title_vec = model(**tokenized_title.to(device))[0][:,0,:]\n",
    "    body_text_vec = model(**tokenized_text.to(device))[0][:,0,:]\n",
    "    \n",
    "    if use_freq_w:\n",
    "        freq_w = {}\n",
    "        total_candidate_words = len(nouns)\n",
    "        for keyword in nouns:\n",
    "            freq_w[keyword] = counts[keyword]/total_candidate_words\n",
    "         \n",
    "        for keyword, vec in keyword_vectors.items():\n",
    "            body_text_vec = ((freq_w[keyword]* vec) + body_text_vec)\n",
    "        \n",
    "        body_text_vec = body_text_vec/total_candidate_words\n",
    "        \n",
    "    cos = nn.CosineSimilarity(dim=1, eps=1e-6)\n",
    "    similarity = {}\n",
    "\n",
    "    for keyword, vector in keyword_vectors.items():\n",
    "        sim = cos(vector,  title_vec*(0.2) + body_text_vec*(0.8))\n",
    "        similarity[keyword] = sim\n",
    "        \n",
    "    sorted_dict = sorted(similarity.items(), key = lambda item: item[1], reverse = True)\n",
    "    \n",
    "    # print(keyword_vectors)\n",
    "    print(f\"제목과 본문의 유사도 {cos(title_vec, body_text_vec)}\\n\")\n",
    "    print(title+'\\n')\n",
    "    print(text+'\\n')\n",
    "    print(sorted_dict,'\\n')\n",
    "    print(nouns)"
   ]
  },
  {
   "cell_type": "code",
   "execution_count": 96,
   "metadata": {
    "scrolled": false
   },
   "outputs": [
    {
     "name": "stdout",
     "output_type": "stream",
     "text": [
      "['AI', '예술', 'NFT']\n",
      "Counter({'AI': 22, '기술': 7, '작품': 7, '예술': 7, '것': 7, '수': 6, '디지털': 5, '발전': 4, '학습': 4, '논란': 4, '아트': 4, '지적': 4, '재산권': 4, '보호': 4, '분야': 3, '창작': 3, '년': 3, '이미지': 3, '미술': 3, '그림': 3, '해당': 3, '아티스트': 3, '미국': 3, '개인정보': 3, '개정': 3, '산업': 2, '활용': 2, '이제': 2, '후': 2, '문학': 2, '시아': 2, '시': 2, '콜로라도': 2, '대회': 2, '부문': 2, '제작': 2, '.kr': 2, '앨런': 2, '이야기': 2, '이후': 2, '미학': 2, '사람': 2, '등': 2, '영역': 2, '흐름': 2, '데이터': 2, '방식': 2, '예술가': 2, '발': 2, '콘셉트': 2, '협회': 2, '법률': 2, '데': 2, '기업': 2, '윤리': 2, '강령': 2, '그동안': 1, '문화예술': 1, '모습': 1, '지속': 1, '콘텐츠': 1, '생산': 1, '사고력': 1, '판단력': 1, '학습력': 1, '소프트웨어': 1, '상황': 1, '판단': 1, '해결책': 1, '제안': 1, '능력': 1, '과거': 1, '모방': 1, '수준': 1, '대표': 1, '4월': 1, '개발': 1, '달리': 1, '화풍': 1, '독창': 1, '시각': 1, '진출': 1, '8월': 1, '시인': 1, '시집': 1, '출간': 1, '편': 1, '작법': 1, '종합': 1, '문체': 1, '집필': 1, '현재': 1, '각종': 1, '도전': 1, '습작': 1, '상반기': 1, '중심': 1, '다음': 1, '달인': 1, '9월': 1, '주립': 1, '박람회': 1, '수상작': 1, '세간': 1, '주목': 1, '제품': 1, '창': 1, '인가': 1, '의견': 1, '제기': 1, '.co': 1, '미술전': 1, '개최': 1, '농무부': 1, '출품': 1, '자': 1, '이름': 1, '미드': 1, '저니': 1, '제이슨': 1, '공개': 1, '관행': 1, '허용': 1, '확장': 1, '수상': 1, '일단락': 1, '사이에서': 1, '회자': 1, '관련': 1, '진중권': 1, '광운대': 1, '정보과학': 1, '교육원': 1, '특': 1, '임': 1, '교수': 1, '100년': 1, '마르셀 뒤샹': 1, '변기': 1, '때': 1, '현대': 1, '논리': 1, '정당화': 1, '포함': 1, '프로그램': 1, '시작': 1, '설명': 1, '있다': 1, '이': 1, '창조': 1, '진입': 1, '시대': 1, '경향': 1, '조금': 1, '자리': 1, '저작권': 1, '문제': 1, '우선시': 1, '생각': 1, '기존': 1, '작가': 1, '정도': 1, '반영': 1, '표절': 1, '여부': 1, '범위': 1, '결정': 1, '인지': 1, '진행': 1, '착취': 1, '툴': 1, '업계': 1, '전반': 1, '확산': 1, '때문': 1, '기준': 1, '규정': 1, '정립': 1, '최근': 1, '논쟁': 1, '자신': 1, '수집': 1, '거부': 1, '인해': 1, '텍스트': 1, '변환': 1, '성 도구': 1, '중': 1, '디': 1, '퓨전': 1, '최신': 1, '버전': 1, '디지털 아트': 1, '옵트아웃': 1, '선택': 1, '저작권법': 1, '법': 1, '노동법': 1, '추진': 1, '준수': 1, '요구': 1, '노동조합': 1, '창작물': 1, '단체': 1, '협력': 1, '예정': 1, '준비': 1, '필요': 1, '시점': 1, '참고': 1, 'SIA': 1, 'Jason': 1, 'Allen': 1, 'Midjourney': 1, 'texttoimage': 1, 'Stable': 1, 'Diffusion': 1, 'MIT': 1, 'Technology': 1, 'Reviewhttps': 1})\n",
      "제목과 본문의 유사도 tensor([0.7571], device='cuda:0')\n",
      "\n",
      "AI 와 예술의 공존, 저작권에 대하여\n",
      "\n",
      "AI 기술이 나날이 발전을 더하며 그동안 산업계에서 주로 활용되었던 기술이 이제는 문화예술분야에 놀라운 모습을 보여주고 있습니다. AI의 지속적 발전에 따라 우리는 더욱 풍부한 콘텐츠를 생산할 수 있게 되었습니다. AI는 사고력과 판단력 그리고 학습력을 갖춘 소프트웨어로 우리에게 주어진 상황을 판단하고 해결책을 제안합니다. 이러한 AI의 능력이 과거 작품을 모방하는 수준이었다면 이제는 직접 예술 작품을 창작하도록 발전하였습니다. 대표적으로 2022년 4월에 개발된 ‘달리2(DALL-E 2)’는  다양한 화풍을 학습 후 더 정교하고, 독창적인 이미지를 만들어냅니다. 시각예술분야를 넘어 AI는 문학에 진출하기도 합니다. 2022년 8월 AI 시인 ‘시아(SIA)’가 직접 쓴 시집이 출간되며 시아는 1만 편이 넘는 시의 작법을 익힌 후 이를 종합해 새로운 문체로 시를 집필하며 현재도 각종 분야의 문학에 도전하며 습작을 이어가고 있습니다. 2022년 상반기 활발하게 발전한 AI기술이 논란에 중심에 서게 된 것은 바로 그다음 달인 9월  <콜로라도 주립 박람회 미술대회 디지털 부문> 수상작이 AI로 제작되었음이 밝혀지며 세간의 주목을 받았습니다. AI가 그린 그림이 예술인가 아닌가 이것은 제품인가 창작품인가에 대한 여러 의견이 제기되었습니다. https://www.joongang.co.kr/article/25099346#home﻿해당 미술전을 개최한 콜로라도 농무부는 앨런이 출품자 이름에 ‘미드저니를 통한 제이슨 앨런(Jason M. Allen via Midjourney)’이라고 공개했다며, 디지털아트 부문은 “디지털 기술을 통한 예술적 관행을 허용한다”라고 이야기하며 즉 디지털 기술을 활용하는 것도 확장된 예술로 볼 수 있다고 전했습니다. 이에 미술대회 수상에 대해서는 일단락되었지만 그 이후에도 아티스트들 사이에서 해당 논란은 여전히 회자되고 있습니다. 해당 논란과 관련해 진중권 광운대 정보과학교육원 특임교수에 따르면 “100년 전 마르셀 뒤샹이 변기를 작품으로 들고 나왔을 때부터 논란이 돼 왔다”며 “현대미술의 논리는 누가 제작했느냐부터 이를 미학적으로 정당화하기까지를 포함한다”라고 이야기하며 “AI 그림도 누가 프로그램했는지부터 시작해 그 이미지를 고른 사람, 이후에 미학적으로 설명한 사람 등이 모두 창작의 영역에 들어간다고 볼 수 있다”라고 전했습니다.이에 예술의 창조적인 영역에 진입하는 AI에 대해 시대의 흐름으로 보는 경향이 조금씩 자리 잡고 있습니다. 저는 여기서 더 나아가 저작권 문제가 더 우선시되어야 한다고 생각합니다. AI가 만든 그림이 기존 작가의 작품을 어느 정도 반영했는지 등 표절 여부의 범위를 어떻게 결정할 것인지가 중요합니다. AI는 수많은 데이터의 학습을 진행하게 되는데 AI의 이러한 방식이 아티스트들을 착취하는 것일 수 있습니다. AI 툴이 창작 업계 전반에 걸쳐 빠르게 확산될 것으로 보이기 때문에 AI 아트와 지적재산권에 대한 명확한 기준과 규정이 정립되어야 합니다. 이에 최근 미국에서는 AI의 학습 방식에 대해 디지털 아티스트들이 논쟁을 벌이며  AI 가 자신들의 예술 작품을 학습 데이터로 수집되는 것을 거부하겠다고 밝혔습니다. 이로 인해 텍스트-이미지 변환(text-to-image) AI 생성 도구 중 하나인 스테이블 디퓨전(Stable Diffusion)의 최신 버전에서는 디지털 아트 예술가들이 옵트아웃(opt-out)을 선택할 수 있다고 합니다. 이러한 흐름에 발 맞추어 미국의 콘셉트 아트 협회는 예술가들의 지적재산권과 작품들을 보호할 수 있도록 미국의 저작권법, 개인정보 보호법, 노동법 개정을 추진하고 있습니다. 콘셉트 아트 협회는 새로운 AI 기술을 다루도록 지적 재산권과 개인정보 보호 법률을 개정하는 데 힘쓰고 AI 기술 기업들이 엄격한 윤리 강령을 준수할 것을 요구하며 노동조합 및 창작물을 다루는 산업 단체와 협력할 예정이라고 합니다. 우리도 이와 같이 지적재산권과 개인정보 보호 법률을 개정하는 데 힘쓰고 AI 기업들이 엄격한 윤리 강령에 대해 발 빠르게 준비가 필요한 시점입니다. [참고] MIT Technology Reviewhttps://www.technologyreview.kr/artists-can-now-opt-out-of-the-next-version-of-stable-diffusion/\n",
      "\n",
      "[('저작권법', tensor([0.7219], device='cuda:0')), ('디지털 아트', tensor([0.7047], device='cuda:0')), ('저작권', tensor([0.6894], device='cuda:0')), ('아트', tensor([0.6874], device='cuda:0')), ('예술', tensor([0.6720], device='cuda:0')), ('아티스트', tensor([0.6711], device='cuda:0')), ('창작', tensor([0.6538], device='cuda:0')), ('작품', tensor([0.6133], device='cuda:0')), ('AI', tensor([0.6012], device='cuda:0')), ('문화예술', tensor([0.5986], device='cuda:0')), ('창작물', tensor([0.5839], device='cuda:0')), ('작가', tensor([0.5829], device='cuda:0')), ('법률', tensor([0.5793], device='cuda:0')), ('디지털', tensor([0.5775], device='cuda:0')), ('예술가', tensor([0.5773], device='cuda:0')), ('콘텐츠', tensor([0.5741], device='cuda:0')), ('미술', tensor([0.5711], device='cuda:0')), ('재산권', tensor([0.5682], device='cuda:0')), ('퓨전', tensor([0.5646], device='cuda:0')), ('기술', tensor([0.5620], device='cuda:0')), ('활용', tensor([0.5602], device='cuda:0')), ('표절', tensor([0.5574], device='cuda:0')), ('소프트웨어', tensor([0.5482], device='cuda:0')), ('그림', tensor([0.5380], device='cuda:0')), ('미술전', tensor([0.5342], device='cuda:0')), ('미학', tensor([0.5292], device='cuda:0')), ('작법', tensor([0.5246], device='cuda:0')), ('협력', tensor([0.5215], device='cuda:0')), ('제작', tensor([0.5212], device='cuda:0')), ('문학', tensor([0.5212], device='cuda:0')), ('노동법', tensor([0.5165], device='cuda:0')), ('부문', tensor([0.5148], device='cuda:0')), ('변환', tensor([0.5137], device='cuda:0')), ('방식', tensor([0.5132], device='cuda:0')), ('영역', tensor([0.5123], device='cuda:0')), ('법', tensor([0.5098], device='cuda:0')), ('버전', tensor([0.5084], device='cuda:0')), ('모방', tensor([0.5075], device='cuda:0')), ('기존', tensor([0.5030], device='cuda:0')), ('창조', tensor([0.5029], device='cuda:0')), ('프로그램', tensor([0.5013], device='cuda:0')), ('생각', tensor([0.5006], device='cuda:0')), ('출간', tensor([0.4999], device='cuda:0')), ('허용', tensor([0.4993], device='cuda:0')), ('Allen', tensor([0.4991], device='cuda:0')), ('독창', tensor([0.4987], device='cuda:0')), ('관행', tensor([0.4964], device='cuda:0')), ('수상작', tensor([0.4957], device='cuda:0')), ('개정', tensor([0.4906], device='cuda:0')), ('텍스트', tensor([0.4875], device='cuda:0')), ('집필', tensor([0.4872], device='cuda:0')), ('인가', tensor([0.4862], device='cuda:0')), ('분야', tensor([0.4861], device='cuda:0')), ('SIA', tensor([0.4850], device='cuda:0')), ('사고력', tensor([0.4849], device='cuda:0')), ('최신', tensor([0.4845], device='cuda:0')), ('개발', tensor([0.4842], device='cuda:0')), ('인지', tensor([0.4763], device='cuda:0')), ('Technology', tensor([0.4757], device='cuda:0')), ('출품', tensor([0.4735], device='cuda:0')), ('제안', tensor([0.4719], device='cuda:0')), ('콘셉트', tensor([0.4713], device='cuda:0')), ('이미지', tensor([0.4704], device='cuda:0')), ('개인정보', tensor([0.4688], device='cuda:0')), ('정당화', tensor([0.4656], device='cuda:0')), ('해당', tensor([0.4624], device='cuda:0')), ('준수', tensor([0.4597], device='cuda:0')), ('논리', tensor([0.4596], device='cuda:0')), ('업계', tensor([0.4590], device='cuda:0')), ('제품', tensor([0.4569], device='cuda:0')), ('창', tensor([0.4549], device='cuda:0')), ('달인', tensor([0.4543], device='cuda:0')), ('.kr', tensor([0.4539], device='cuda:0')), ('상반기', tensor([0.4518], device='cuda:0')), ('수상', tensor([0.4504], device='cuda:0')), ('툴', tensor([0.4466], device='cuda:0')), ('진중권', tensor([0.4454], device='cuda:0')), ('발전', tensor([0.4446], device='cuda:0')), ('texttoimage', tensor([0.4422], device='cuda:0')), ('Jason', tensor([0.4407], device='cuda:0')), ('산업', tensor([0.4388], device='cuda:0')), ('보호', tensor([0.4386], device='cuda:0')), ('선택', tensor([0.4385], device='cuda:0')), ('미드', tensor([0.4368], device='cuda:0')), ('반영', tensor([0.4363], device='cuda:0')), ('특', tensor([0.4346], device='cuda:0')), ('.co', tensor([0.4333], device='cuda:0')), ('대표', tensor([0.4331], device='cuda:0')), ('진입', tensor([0.4327], device='cuda:0')), ('우선시', tensor([0.4303], device='cuda:0')), ('현대', tensor([0.4302], device='cuda:0')), ('시집', tensor([0.4283], device='cuda:0')), ('범위', tensor([0.4258], device='cuda:0')), ('정립', tensor([0.4253], device='cuda:0')), ('협회', tensor([0.4251], device='cuda:0')), ('시인', tensor([0.4244], device='cuda:0')), ('Reviewhttps', tensor([0.4236], device='cuda:0')), ('마르셀 뒤샹', tensor([0.4226], device='cuda:0')), ('문체', tensor([0.4226], device='cuda:0')), ('확장', tensor([0.4213], device='cuda:0')), ('윤리', tensor([0.4204], device='cuda:0')), ('규정', tensor([0.4203], device='cuda:0')), ('해결책', tensor([0.4181], device='cuda:0')), ('노동조합', tensor([0.4181], device='cuda:0')), ('학습', tensor([0.4143], device='cuda:0')), ('8월', tensor([0.4138], device='cuda:0')), ('임', tensor([0.4135], device='cuda:0')), ('이름', tensor([0.4129], device='cuda:0')), ('기업', tensor([0.4123], device='cuda:0')), ('판단', tensor([0.4121], device='cuda:0')), ('데이터', tensor([0.4113], device='cuda:0')), ('앨런', tensor([0.4109], device='cuda:0')), ('과거', tensor([0.4091], device='cuda:0')), ('능력', tensor([0.4076], device='cuda:0')), ('사이에서', tensor([0.4073], device='cuda:0')), ('관련', tensor([0.4058], device='cuda:0')), ('편', tensor([0.4033], device='cuda:0')), ('최근', tensor([0.4019], device='cuda:0')), ('습작', tensor([0.4016], device='cuda:0')), ('다음', tensor([0.3990], device='cuda:0')), ('Stable', tensor([0.3967], device='cuda:0')), ('착취', tensor([0.3960], device='cuda:0')), ('사람', tensor([0.3938], device='cuda:0')), ('단체', tensor([0.3924], device='cuda:0')), ('이제', tensor([0.3924], device='cuda:0')), ('진행', tensor([0.3923], device='cuda:0')), ('시아', tensor([0.3918], device='cuda:0')), ('그동안', tensor([0.3900], device='cuda:0')), ('참고', tensor([0.3896], device='cuda:0')), ('판단력', tensor([0.3882], device='cuda:0')), ('수준', tensor([0.3879], device='cuda:0')), ('학습력', tensor([0.3870], device='cuda:0')), ('정보과학', tensor([0.3859], device='cuda:0')), ('MIT', tensor([0.3852], device='cuda:0')), ('시대', tensor([0.3848], device='cuda:0')), ('종합', tensor([0.3847], device='cuda:0')), ('진출', tensor([0.3839], device='cuda:0')), ('공개', tensor([0.3826], device='cuda:0')), ('생산', tensor([0.3820], device='cuda:0')), ('성 도구', tensor([0.3802], device='cuda:0')), ('강령', tensor([0.3772], device='cuda:0')), ('흐름', tensor([0.3751], device='cuda:0')), ('이후', tensor([0.3742], device='cuda:0')), ('100년', tensor([0.3718], device='cuda:0')), ('모습', tensor([0.3677], device='cuda:0')), ('교육원', tensor([0.3637], device='cuda:0')), ('세간', tensor([0.3635], device='cuda:0')), ('자리', tensor([0.3627], device='cuda:0')), ('Midjourney', tensor([0.3624], device='cuda:0')), ('광운대', tensor([0.3623], device='cuda:0')), ('기준', tensor([0.3601], device='cuda:0')), ('화풍', tensor([0.3598], device='cuda:0')), ('포함', tensor([0.3593], device='cuda:0')), ('회자', tensor([0.3587], device='cuda:0')), ('일단락', tensor([0.3586], device='cuda:0')), ('추진', tensor([0.3577], device='cuda:0')), ('시작', tensor([0.3546], device='cuda:0')), ('미국', tensor([0.3546], device='cuda:0')), ('개최', tensor([0.3534], device='cuda:0')), ('시점', tensor([0.3529], device='cuda:0')), ('예정', tensor([0.3528], device='cuda:0')), ('교수', tensor([0.3482], device='cuda:0')), ('농무부', tensor([0.3479], device='cuda:0')), ('수집', tensor([0.3478], device='cuda:0')), ('시', tensor([0.3474], device='cuda:0')), ('결정', tensor([0.3454], device='cuda:0')), ('옵트아웃', tensor([0.3447], device='cuda:0')), ('지속', tensor([0.3423], device='cuda:0')), ('현재', tensor([0.3331], device='cuda:0')), ('9월', tensor([0.3326], device='cuda:0')), ('제기', tensor([0.3325], device='cuda:0')), ('전반', tensor([0.3324], device='cuda:0')), ('주립', tensor([0.3315], device='cuda:0')), ('경향', tensor([0.3315], device='cuda:0')), ('논쟁', tensor([0.3312], device='cuda:0')), ('주목', tensor([0.3306], device='cuda:0')), ('제이슨', tensor([0.3303], device='cuda:0')), ('Diffusion', tensor([0.3253], device='cuda:0')), ('설명', tensor([0.3212], device='cuda:0')), ('박람회', tensor([0.3212], device='cuda:0')), ('인해', tensor([0.3186], device='cuda:0')), ('의견', tensor([0.3175], device='cuda:0')), ('저니', tensor([0.3169], device='cuda:0')), ('지적', tensor([0.3162], device='cuda:0')), ('4월', tensor([0.3138], device='cuda:0')), ('준비', tensor([0.3133], device='cuda:0')), ('필요', tensor([0.3112], device='cuda:0')), ('대회', tensor([0.3103], device='cuda:0')), ('디', tensor([0.3071], device='cuda:0')), ('콜로라도', tensor([0.3054], device='cuda:0')), ('도전', tensor([0.3029], device='cuda:0')), ('거부', tensor([0.2963], device='cuda:0')), ('논란', tensor([0.2938], device='cuda:0')), ('변기', tensor([0.2899], device='cuda:0')), ('상황', tensor([0.2854], device='cuda:0')), ('중심', tensor([0.2821], device='cuda:0')), ('확산', tensor([0.2807], device='cuda:0')), ('달리', tensor([0.2620], device='cuda:0')), ('요구', tensor([0.2483], device='cuda:0')), ('이야기', tensor([0.2174], device='cuda:0')), ('발', tensor([0.1958], device='cuda:0'))] \n",
      "\n",
      "['노동법', '확장', '참고', '그림', '창조', '우선시', '수상', '.kr', '모방', '진입', '100년', '기존', '수집', '예정', '공개', '최근', '중심', '기준', '성 도구', '설명', '일단락', 'Jason', '제기', '준수', '진중권', '퓨전', '선택', '박람회', '제이슨', '텍스트', '작법', '8월', '콜로라도', '편', 'Technology', '달인', '이야기', '임', '생산', '정립', '이름', '툴', '콘텐츠', '논란', '제작', '거부', '예술', '발', '허용', '정보과학', '특', '진출', '다음', '필요', '의견', '활용', '학습력', '대회', 'Stable', '관련', '이미지', '마르셀 뒤샹', '규정', '저작권', 'Diffusion', '논쟁', '디지털', '사이에서', '독창', '달리', '지적', '최신', 'MIT', '개인정보', '상반기', '인해', '법', 'Allen', '문체', '법률', 'Midjourney', '전반', '산업', '작품', '주립', '이후', '경향', '판단력', '업계', '세간', 'SIA', '예술가', '미학', '강령', '해당', '디', '단체', '변환', '정당화', '작가', '개발', '문학', '습작', '표절', '디지털 아트', '버전', '교수', '준비', '과거', '논리', '옵트아웃', '기술', '현재', '종합', '제품', '창작물', '아트', '사고력', '앨런', '아티스트', '대표', '출간', '저작권법', '현대', '확산', '제안', '미술', '노동조합', '미드', '시', '9월', '수준', '시집', '농무부', '착취', '인지', '개최', '지속', 'Reviewhttps', '모습', '변기', '요구', '시점', '출품', '개정', 'AI', '수상작', '생각', '그동안', '콘셉트', '창작', '미술전', '진행', '.co', '능력', '광운대', '시아', '집필', '부문', '주목', '반영', '교육원', '발전', '재산권', '협력', '해결책', '저니', '범위', '프로그램', '기업', '윤리', '학습', '소프트웨어', '상황', '4월', '미국', '문화예술', 'texttoimage', '보호', '화풍', '관행', '도전', '인가', '포함', '시작', '영역', '시인', '창', '자리', '데이터', '판단', '회자', '분야', '추진', '이제', '방식', '시대', '흐름', '협회', '사람', '결정']\n"
     ]
    }
   ],
   "source": [
    "model.to('cuda')\n",
    "model.eval()\n",
    "\n",
    "sample_essay = sample[1]\n",
    "\n",
    "with torch.no_grad():\n",
    "    print(sample_essay['keyword'])\n",
    "    \n",
    "    title = sample_essay['title']\n",
    "    text = sample_essay['body_text']\n",
    "    text = text.replace('\\n','').replace('\\t','').replace('\\r','') # 코모란 에러 방지\n",
    "    nouns, counts = get_nouns_komoran(text)\n",
    "    print(counts)\n",
    "    extract_main_keywords(nouns, counts, title, text, model, tokenizer, use_freq_w=True)"
   ]
  },
  {
   "cell_type": "markdown",
   "metadata": {},
   "source": [
    "구현해야 할 점\n",
    "\n",
    "* 단어를 배치단위로 입력하여 한번에 연산할 수 있게 변형\n",
    "* 빈도수에 따른 가중치 변환\n",
    "* 제목-본문 STS/NLI fine-tuning\n",
    "* 단어-제목 STS/NLI fine-tuning\n",
    "* 단어-본문 STS/NLI fine-tuning"
   ]
  },
  {
   "cell_type": "markdown",
   "metadata": {},
   "source": [
    "### kr-wordrank와 비교"
   ]
  },
  {
   "cell_type": "code",
   "execution_count": 84,
   "metadata": {
    "scrolled": true
   },
   "outputs": [
    {
     "name": "stdout",
     "output_type": "stream",
     "text": [
      "      사용:\t2.3623\n",
      "      것이:\t2.3267\n",
      "      되면:\t2.2527\n",
      "    서비스를:\t2.1354\n",
      "      되는:\t2.0558\n",
      "    계속해서:\t1.7597\n",
      "     습관이:\t1.5846\n",
      "     있다.:\t1.4460\n",
      "      많은:\t1.3472\n",
      "     가변적:\t1.2662\n",
      "      있는:\t1.2482\n",
      "      내부:\t1.0884\n",
      "      계기:\t1.0522\n",
      "      보상:\t0.9734\n",
      "      아주:\t0.7625\n",
      "      우리:\t0.7340\n",
      "      유도:\t0.6099\n",
      "      대뇌:\t0.5950\n",
      "      외부:\t0.5934\n",
      "      행동:\t0.5179\n",
      "      형성:\t0.4879\n"
     ]
    }
   ],
   "source": [
    "from krwordrank.word import KRWordRank\n",
    "\n",
    "min_count = 5   # 단어의 최소 출현 빈도수 (그래프 생성 시)\n",
    "max_length = 10 # 단어의 최대 길이\n",
    "wordrank_extractor = KRWordRank(min_count=min_count, max_length=max_length)\n",
    "\n",
    "beta = 0.85    # PageRank의 decaying factor beta\n",
    "max_iter = 10\n",
    "texts = [text]\n",
    "keywords, rank, graph = wordrank_extractor.extract(texts, beta, max_iter)\n",
    "\n",
    "for word, r in sorted(keywords.items(), key=lambda x:x[1], reverse=True)[:30]:\n",
    "        print('%8s:\\t%.4f' % (word, r))"
   ]
  },
  {
   "cell_type": "markdown",
   "metadata": {},
   "source": [
    "## 명사구 추출 코드"
   ]
  },
  {
   "cell_type": "code",
   "execution_count": 254,
   "metadata": {},
   "outputs": [
    {
     "name": "stdout",
     "output_type": "stream",
     "text": [
      "[('“', 'SS'), ('미시령', 'NNP'), ('고개', 'NNG'), ('를', 'JKO'), ('넘어가', 'VV'), ('자', 'EC'), ('눈앞', 'NNG'), ('에', 'JKB'), ('펼쳐지', 'VV'), ('ㄴ', 'ETM'), ('풍경', 'NNG'), ('을', 'JKO'), ('보', 'VV'), ('며', 'EC'), ('써니', 'NNP'), ('가', 'JKS'), ('말', 'NNG'), ('하', 'XSV'), ('았', 'EP'), ('어', 'EF'), ('.', 'SF'), ('”', 'SS'), ('<', 'SS'), ('와', 'IC'), ('!', 'SF'), ('울산', 'NNP'), ('바지', 'NNP'), ('다', 'EF'), ('!', 'SF'), ('>', 'SS'), ('일명', 'NNG'), ('울산', 'NNP'), ('바지', 'NNP'), ('사건', 'NNG'), ('은', 'JX'), ('30', 'SN'), ('년', 'NNB'), ('이', 'JKS'), ('다', 'MAG'), ('다', 'MAG'), ('되', 'VV'), ('어', 'EC'), ('가', 'VX'), ('는', 'ETM'), ('지금', 'NNG'), ('까지', 'JX'), ('도', 'JX'), ('동생', 'NNG'), ('이', 'JKS'), ('올케', 'NNG'), ('를', 'JKO'), ('놀리', 'VV'), ('ㄹ', 'ETM'), ('때', 'NNG'), ('사골', 'NNP'), ('처럼', 'JKB'), ('우려먹', 'VV'), ('는', 'ETM'), ('단골', 'NNG'), ('레퍼토리', 'NNG'), ('다', 'JX'), ('.', 'SF'), ('그', 'MM'), ('때', 'NNG'), ('동생', 'NNG'), ('과', 'JC'), ('올케', 'NNG'), ('모두', 'MAG'), ('아름답', 'VA'), ('ㄴ', 'ETM'), ('삼십', 'NR'), ('대', 'NNB'), ('이', 'VCP'), ('었', 'EP'), ('으니', 'EC'), ('소소', 'XR'), ('하', 'XSA'), ('ㄴ', 'ETM'), ('말', 'NNG'), ('실수', 'NNP'), ('는', 'JX'), ('그냥', 'MAG'), ('귀엽', 'VA'), ('기', 'ETN'), ('만', 'JX'), ('하', 'VV'), ('았', 'EP'), ('다', 'EF'), ('.', 'SF'), ('말', 'NNG'), ('과', 'JC'), ('글', 'NNG'), ('로', 'JKB'), ('밥', 'NNG'), ('벌어먹', 'VV'), ('고', 'EC'), ('살', 'VV'), ('는', 'ETM'), ('동생', 'NNG'), ('은', 'JX'), ('적어도', 'MAG'), ('말', 'NNG'), ('로', 'JKB'), ('실수', 'NNG'), ('를', 'JKO'), ('하', 'VV'), ('는', 'ETM'), ('일', 'NNB'), ('은', 'JX'), ('없', 'VA'), ('을지', 'EC'), ('모르나', 'NNP'), ('동생', 'NNG'), ('이', 'JKS'), ('발설', 'NNG'), ('하', 'XSV'), ('는', 'ETM'), ('올케', 'NNG'), ('의', 'JKG'), ('어휘', 'NNP'), ('실수', 'NNG'), ('는', 'JX'), ('이후', 'NNG'), ('로', 'JKB'), ('도', 'JX'), ('틈틈이', 'MAG'), ('술자리', 'NNG'), ('나', 'JC'), ('식사', 'NNG'), ('자리', 'NNG'), ('에서', 'JKB'), ('오르내리', 'VV'), ('었', 'EP'), ('다', 'EF'), ('.', 'SF'), ('사실', 'NNG'), (',', 'SP'), ('내', 'NP'), ('동생', 'NNG'), ('이', 'VCP'), ('지만', 'EC'), ('때', 'NNG'), ('로', 'JKB'), ('는', 'JX'), ('한', 'MM'), ('대', 'NNB'), ('쥐', 'VV'), ('어', 'EC'), ('박', 'VV'), ('아', 'EC'), ('주', 'VX'), ('고', 'EC'), ('싶', 'VX'), ('다', 'EF'), ('.', 'SF'), ('아내', 'NNG'), ('의', 'JKG'), ('말', 'NNG'), ('실수', 'NNG'), ('를', 'JKO'), ('덮', 'VV'), ('어', 'EC'), ('주', 'VX'), ('지', 'EC'), ('는', 'JX'), ('못하', 'VX'), ('ㄹ망정', 'EC'), ('일일이', 'MAG'), ('콕콕', 'MAG'), ('짚', 'VV'), ('어', 'EC'), ('내', 'VX'), ('는', 'ETM'), ('남편', 'NNG'), ('이', 'JKS'), ('얄밉', 'VA'), ('ㄹ', 'ETM'), ('만도', 'NNP'), ('하', 'VV'), ('겠', 'EP'), ('건만', 'EC'), ('그렇', 'VA'), ('ㄹ', 'ETM'), ('때', 'NNG'), ('마다', 'JX'), ('그냥', 'MAG'), ('같이', 'MAG'), ('웃', 'VV'), ('고', 'EC'), ('넘어가', 'VV'), ('는', 'ETM'), ('올케', 'NNG'), ('가', 'JKS'), ('대인', 'NNP'), ('배로', 'NNP'), ('느끼', 'VV'), ('어', 'EC'), ('지', 'VX'), ('ㄹ', 'ETM'), ('정도', 'NNG'), ('이', 'VCP'), ('었', 'EP'), ('다', 'EF'), ('.', 'SF'), ('그', 'MM'), ('때', 'NNG'), ('같이', 'MAG'), ('웃', 'VV'), ('지', 'EC'), ('말', 'VX'), ('았', 'EP'), ('어야', 'EC'), ('하', 'VV'), ('았', 'EP'), ('을까', 'EF'), ('?', 'SF'), ('요즘', 'NNG'), ('내', 'NP'), ('증세', 'NNG'), ('이', 'NNP'), ('심상', 'XR'), ('치', 'XSN'), ('가', 'JKS'), ('않', 'VX'), ('다', 'EF'), ('.', 'SF'), ('“', 'SS'), ('거기', 'NP'), ('그것', 'NP'), ('옆', 'NNG'), ('에', 'JKB'), ('그것', 'NP'), ('가져오', 'VV'), ('면', 'EC'), ('되', 'VV'), ('지', 'EF'), ('?', 'SF'), ('자', 'IC'), (',', 'SP'), ('그것', 'NP'), ('.', 'SF'), ('”', 'SS'), ('송년', 'NNG'), ('가족', 'NNG'), ('모임', 'NNP'), ('준비', 'NNG'), ('상황', 'NNG'), ('이', 'VCP'), ('었', 'EP'), ('다', 'EF'), ('.', 'SF'), ('각자', 'MAG'), ('음식', 'NNG'), ('을', 'JKO'), ('준비', 'NNG'), ('하', 'XSV'), ('아', 'EC'), ('오', 'VV'), ('라', 'EC'), ('하', 'VV'), ('았', 'EP'), ('더니', 'EC'), ('재료', 'NNG'), ('를', 'JKO'), ('가지', 'VV'), ('고', 'EC'), ('오', 'VV'), ('아', 'EC'), ('좁', 'VA'), ('은', 'ETM'), ('주방', 'NNP'), ('에서', 'JKB'), ('북적거리', 'VV'), ('는', 'ETM'), ('상황', 'NNG'), ('이', 'JKS'), ('마치', 'MAG'), ('요리', 'NNG'), ('대첩', 'NNG'), ('이', 'VCP'), ('라도', 'EC'), ('하', 'VV'), ('는', 'ETM'), ('것', 'NNB'), ('같', 'VA'), ('다', 'EF'), ('.', 'SF'), ('내', 'NP'), ('담당', 'NNG'), ('은', 'JX'), ('아란치니', 'NNP'), ('이', 'VCP'), ('었', 'EP'), ('는데', 'EC'), ('튀김', 'NNP'), ('젓가락', 'NNG'), ('을', 'JKO'), ('건네', 'VV'), ('어', 'EC'), ('달', 'VV'), ('라고', 'EC'), ('하', 'VV'), ('려던', 'ETM'), ('참', 'NNB'), ('이', 'VCP'), ('었', 'EP'), ('다', 'EF'), ('.', 'SF'), ('주', 'VX'), ('어도', 'EC'), ('목적어', 'NNP'), ('도', 'JX'), ('없', 'VA'), ('었', 'EP'), ('는데', 'EC'), ('내', 'NP'), ('가', 'JKS'), ('말', 'NNG'), ('하', 'XSV'), ('는', 'ETM'), ('것', 'NNB'), ('을', 'JKO'), ('찰떡', 'NNG'), ('같이', 'JKB'), ('가져오', 'VV'), ('ㄴ', 'ETM'), ('K2', 'NNP'), ('가', 'JKS'), ('그', 'MM'), ('참', 'MAG'), ('신통', 'NNG'), ('하', 'XSV'), ('다', 'EC'), ('싶', 'VX'), ('었', 'EP'), ('다', 'EF'), ('.', 'SF'), ('요즘', 'NNG'), ('이상', 'XR'), ('하', 'XSA'), ('게', 'EC'), ('도', 'JX'), ('단어', 'NNG'), ('가', 'JKS'), ('떠오르', 'VV'), ('지', 'EC'), ('않', 'VX'), ('는다', 'EF'), ('.', 'SF'), ('주변', 'NNG'), ('말', 'NNG'), ('이나', 'JC'), ('글자', 'NNG'), (',', 'SP'), ('상황', 'NNG'), ('사람', 'NNG'), ('까지', 'JX'), ('도', 'JX'), ('기억나', 'VV'), ('는데', 'EC'), ('딱', 'MAG'), ('중요', 'XR'), ('하', 'XSA'), ('ㄴ', 'ETM'), ('단어', 'NNG'), ('하나', 'NR'), ('가', 'JKS'), ('죽', 'VV'), ('어도', 'EC'), ('생각', 'NNG'), ('이', 'JKS'), ('나', 'VV'), ('지', 'EC'), ('않', 'VX'), ('아', 'EC'), ('머리', 'NNG'), ('를', 'JKO'), ('쿵쿵', 'MAG'), ('쥐어박', 'VV'), ('는', 'ETM'), ('일', 'NNG'), ('이', 'JKS'), ('잦아지', 'VV'), ('었', 'EP'), ('다', 'EF'), ('.', 'SF'), ('그', 'MM'), ('단어', 'NNG'), ('는', 'JX'), ('때로', 'MAG'), ('장소', 'NNG'), ('이', 'VCP'), ('ㄹ', 'ETM'), ('때', 'NNG'), ('도', 'JX'), ('있', 'VV'), ('고', 'EC'), ('사람', 'NNG'), ('이름', 'NNG'), ('이', 'VCP'), ('거나', 'EC'), ('영화', 'NNG'), ('제목', 'NNG'), ('혹은', 'MAJ'), ('그냥', 'MAG'), ('물건', 'NNG'), ('의', 'JKG'), ('명칭', 'NNG'), ('이', 'VCP'), ('ㄹ', 'ETM'), ('때', 'NNG'), ('도', 'JX'), ('있', 'VX'), ('다', 'EF'), ('.', 'SF'), ('소설', 'NNG'), ('속', 'NNG'), ('에서', 'JKB'), ('주인공', 'NNP'), ('모친', 'NNG'), ('의', 'JKG'), ('오류', 'NNG'), ('를', 'JKO'), ('읽', 'VV'), ('으면서', 'EC'), ('는', 'JX'), ('그나마', 'MAG'), ('안심', 'NNG'), ('이', 'JKS'), ('되', 'VV'), ('었', 'EP'), ('다', 'EF'), ('.', 'SF'), ('모친', 'NNG'), ('은', 'JX'), ('남편', 'NNG'), ('의', 'JKG'), ('안경', 'NNP'), ('쓰', 'VV'), ('ㄴ', 'ETM'), ('모습', 'NNG'), ('을', 'JKO'), ('보', 'VV'), ('고', 'EC'), ('“', 'SS'), ('당신', 'NNP'), ('안경', 'NNP'), ('쓰', 'VV'), ('니까', 'EC'), ('인테리어', 'NNG'), ('같', 'VA'), ('다', 'EF'), ('.', 'SF'), ('”', 'SS'), ('고', 'MM'), ('하', 'VV'), ('았', 'EP'), ('고', 'EC'), ('트럼프', 'NNP'), ('를', 'JKO'), ('트렁크', 'NNP'), ('로', 'JKB'), (',', 'SP'), ('아만다 사이프리드', 'NNP'), ('를', 'JKO'), ('아', 'NNP'), ('만', 'JX'), ('다', 'JX'), ('사이프러스', 'NNP'), ('로', 'JKB'), ('말', 'NNG'), ('하', 'XSV'), ('고', 'EC'), ('는', 'JX'), ('틀리', 'VV'), ('ㄴ', 'ETM'), ('걸', 'VV'), ('ㄹ', 'ETM'), ('지적', 'NNG'), ('하', 'XSV'), ('면', 'EC'), ('깔깔', 'MAG'), ('웃어넘기', 'VV'), ('고', 'EC'), ('금세', 'MAG'), ('잠', 'NNG'), ('이', 'JKS'), ('들', 'VV'), ('기', 'ETN'), ('도', 'JX'), ('하', 'VX'), ('ㄴ다', 'EF'), ('.', 'SF'), ('안심', 'NNG'), ('이', 'JKS'), ('되', 'VV'), ('었', 'EP'), ('던', 'ETM'), ('이유', 'NNG'), ('는', 'JX'), (',', 'SP'), ('그래도', 'MAJ'), ('나', 'VV'), ('ㄴ', 'ETM'), ('그', 'MM'), ('정도', 'NNG'), ('는', 'JX'), ('아니', 'VCN'), ('라고', 'EC'), ('생각', 'NNG'), ('하', 'XSV'), ('았었', 'EP'), ('나', 'EC'), ('보', 'VX'), ('다', 'EF'), ('.', 'SF'), ('영화', 'NNG'), ('를', 'JKO'), ('보', 'VV'), ('는', 'ETM'), ('중', 'NNB'), ('이', 'VCP'), ('었', 'EP'), ('다', 'EF'), ('.', 'SF'), ('일본인', 'NNG'), ('경호', 'NNP'), ('대장', 'NNP'), ('역', 'NNG'), ('을', 'JKO'), ('하', 'VV'), ('는', 'ETM'), ('배우', 'NNG'), ('를', 'JKO'), ('분명', 'MAG'), ('알', 'VV'), ('는데', 'EC'), ('이름', 'NNG'), ('이', 'JKS'), ('떠오르', 'VV'), ('지', 'EC'), ('않', 'VX'), ('는다', 'EF'), ('.', 'SF'), ('박', 'NNP'), ('...', 'SE'), ('.', 'SF'), ('뭐', 'NP'), ('같', 'VA'), ('은데', 'EF'), ('.', 'SF'), ('하', 'VV'), ('아', 'EC'), (',', 'SP'), ('맞', 'VV'), ('다', 'EC'), ('하', 'VV'), ('아', 'EC'), ('....', 'SE'), ('일', 'NNP'), ('?', 'SF'), ('아니', 'VCN'), ('ㄴ데', 'EC'), ('박', 'NNP'), ('뭐', 'NP'), ('지', 'EF'), ('?', 'SF'), ('박해', 'NNP'), ('....', 'SE'), ('.', 'SF'), ('영', 'NNP'), ('?', 'SF'), ('맞', 'VV'), ('다', 'EC'), ('박해', 'NNP'), ('영', 'NNP'), ('.', 'SF'), ('이상', 'XR'), ('하', 'XSA'), ('ㄴ데', 'EF'), ('?', 'SF'), ('아니', 'VCN'), ('ㄴ가', 'EF'), ('?', 'SF'), ('박', 'NNP'), (',', 'SP'), ('박', 'NNP'), (',', 'SP'), ('박', 'NNP'), (',', 'SP'), ('박', 'NNP'), (',', 'SP'), ('뭐', 'NP'), ('지', 'EF'), ('?', 'SF'), ('결국', 'MAG'), ('영화', 'NNG'), ('가', 'JKS'), ('끝나', 'VV'), ('ㄹ', 'ETM'), ('때', 'NNG'), ('까지', 'JX'), ('그', 'MM'), ('배우', 'NNP'), ('의', 'JKG'), ('이름', 'NNG'), ('은', 'JX'), ('기억나', 'VV'), ('지', 'EC'), ('않', 'VX'), ('았', 'EP'), ('다', 'EF'), ('.', 'SF'), ('신기', 'XR'), ('하', 'XSA'), ('ㄴ', 'ETM'), ('건', 'NNB'), (',', 'SP'), ('박해', 'NNP'), (',', 'SP'), ('까지', 'VV'), ('는', 'ETM'), ('떠오르', 'VV'), ('았', 'EP'), ('다는', 'ETM'), ('점', 'NNB'), ('이', 'VCP'), ('다', 'EF'), ('.', 'SF'), ('엔', 'NNG'), ('딩', 'MAG'), ('크레딧', 'NNG'), ('이', 'JKS'), ('올라가', 'VV'), ('ㄹ', 'ETM'), ('때', 'NNG'), ('그', 'MM'), ('이름', 'NNG'), ('이', 'JKS'), ('올라가', 'VV'), ('ㄴ다', 'EF'), ('.', 'SF'), ('박', 'NNP'), ('.', 'SF'), ('하', 'VV'), ('아', 'EF'), ('.', 'SF'), ('수', 'NNB'), ('.', 'SF'), ('그', 'MM'), ('참', 'MAG'), ('이상', 'XR'), ('하', 'XSA'), ('다', 'EF'), ('.', 'SF'), ('왜', 'MAG'), ('꼭', 'MAG'), ('한', 'MM'), ('글자', 'NNG'), ('가', 'JKS'), ('기억나', 'VV'), ('지', 'EC'), ('않', 'VX'), ('는', 'ETM'), ('걸', 'VV'), ('ㄹ까', 'EF'), ('?', 'SF')]\n"
     ]
    }
   ],
   "source": [
    "komoran = Komoran()\n",
    "pos = komoran.pos(text)\n",
    "print(pos)"
   ]
  },
  {
   "cell_type": "code",
   "execution_count": 272,
   "metadata": {},
   "outputs": [
    {
     "data": {
      "text/plain": [
       "['미시령고개',\n",
       " '울산바지',\n",
       " '일명울산바지사건',\n",
       " '30년',\n",
       " '때사골',\n",
       " '단골레퍼토리',\n",
       " '때동생',\n",
       " '삼십대',\n",
       " '말실수',\n",
       " '모르나동생',\n",
       " '어휘실수',\n",
       " '식사자리',\n",
       " '내동생',\n",
       " '말실수',\n",
       " '대인배로',\n",
       " '요즘내증세이',\n",
       " '거기그것옆',\n",
       " '송년가족모임준비상황',\n",
       " '요리대첩',\n",
       " '내담당',\n",
       " '튀김젓가락',\n",
       " '주변말',\n",
       " '상황사람',\n",
       " '단어하나',\n",
       " '사람이름',\n",
       " '영화제목',\n",
       " '소설속',\n",
       " '주인공모친',\n",
       " '당신안경',\n",
       " '일본인경호대장역',\n",
       " '박뭐',\n",
       " '박해영']"
      ]
     },
     "execution_count": 272,
     "metadata": {},
     "output_type": "execute_result"
    }
   ],
   "source": [
    "komoran = Komoran()\n",
    "pos = komoran.pos(text)\n",
    "\n",
    "np_list = []\n",
    "np = ''\n",
    "cnt = 0\n",
    "for tup in pos:\n",
    "    if 'N' in tup[1]:\n",
    "        np = np + tup[0]\n",
    "        cnt += 1\n",
    "        \n",
    "    elif np != '' and cnt != 1:\n",
    "        np_list.append(np)\n",
    "        np = ''\n",
    "        cnt = 0\n",
    "    else:\n",
    "        np = ''\n",
    "        cnt = 0\n",
    "\n",
    "np_list"
   ]
  }
 ],
 "metadata": {
  "kernelspec": {
   "display_name": "koelectra",
   "language": "python",
   "name": "koelectra"
  },
  "language_info": {
   "codemirror_mode": {
    "name": "ipython",
    "version": 3
   },
   "file_extension": ".py",
   "mimetype": "text/x-python",
   "name": "python",
   "nbconvert_exporter": "python",
   "pygments_lexer": "ipython3",
   "version": "3.9.16"
  }
 },
 "nbformat": 4,
 "nbformat_minor": 4
}
